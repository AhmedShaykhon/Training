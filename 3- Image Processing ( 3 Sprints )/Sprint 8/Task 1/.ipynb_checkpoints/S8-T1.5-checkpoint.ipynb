{
 "cells": [
  {
   "cell_type": "markdown",
   "metadata": {},
   "source": [
    "# Task 1\n",
    "\n",
    "## Question 5"
   ]
  },
  {
   "cell_type": "markdown",
   "metadata": {},
   "source": [
    "### Bitwise AND operation on Image:\n",
    "\n",
    "### Bit-wise conjunction of input array elements.\n",
    "\n",
    "### Syntax: cv2.bitwise_and(source1, source2, destination, mask)\n",
    "\n",
    "Parameters:\n",
    "\n",
    "1. source1: First Input Image array(Single-channel, 8-bit or floating-point)\n",
    "2. source2: Second Input Image array(Single-channel, 8-bit or floating-point)\n",
    "3. dest: Output array (Similar to the dimensions and type of Input image array)\n",
    "4. mask: Operation mask, Input / output 8-bit single-channel mask"
   ]
  },
  {
   "cell_type": "code",
   "execution_count": 6,
   "metadata": {},
   "outputs": [],
   "source": [
    "import cv2\n",
    "import numpy as np"
   ]
  },
  {
   "cell_type": "code",
   "execution_count": 7,
   "metadata": {},
   "outputs": [],
   "source": [
    "def ImageShow(image):\n",
    "        cv2.imshow('imageLabel', image) \n",
    "        k = cv2.waitKey(0) & 0xFF\n",
    "\n",
    "# wait for ESC key to exit \n",
    "        if k == 27: \n",
    "            cv2.destroyAllWindows()"
   ]
  },
  {
   "cell_type": "code",
   "execution_count": 8,
   "metadata": {},
   "outputs": [],
   "source": [
    "def DisplayImage(image,title,cols=1,axis ='on'):\n",
    "  \n",
    "    import matplotlib.pyplot as plt\n",
    "    \n",
    "    image_no=len(image)+1\n",
    "    postion=0\n",
    "\n",
    "    plt.figure(figsize=(12, 12))\n",
    "    for i in range(1,image_no):\n",
    "        postion+=1\n",
    "        plt.subplot(1,cols,postion)\n",
    "        plt.imshow(image[i-1],cmap = 'gray')\n",
    "        plt.title(title[i-1])\n",
    "        if(axis == 'off'):\n",
    "            plt.axis('off')\n",
    "        \n",
    "       \n",
    "        if ( i%cols==0):\n",
    "            plt.show(),plt.figure(figsize=(12, 12))\n",
    "            postion=0"
   ]
  },
  {
   "cell_type": "code",
   "execution_count": 9,
   "metadata": {},
   "outputs": [
    {
     "data": {
      "image/png": "[encoded data removed]",
      "text/plain": [
       "<Figure size 864x864 with 3 Axes>"
      ]
     },
     "metadata": {
      "needs_background": "light"
     },
     "output_type": "display_data"
    },
    {
     "data": {
      "text/plain": [
       "<Figure size 864x864 with 0 Axes>"
      ]
     },
     "metadata": {},
     "output_type": "display_data"
    }
   ],
   "source": [
    "# Python programe to illustrate \n",
    "# arithmetic operation of \n",
    "# bitwise AND of two images \n",
    "\t\n",
    "# path to input images are specified and \n",
    "# images are loaded with imread command \n",
    "img1 = cv2.imread('img/image5.1.png') \n",
    "ImageShow(img1)\n",
    "img2 = cv2.imread('img/image5.2.png') \n",
    "ImageShow(img2)\n",
    "# cv2.bitwise_and is applied over the \n",
    "# image inputs with applied parameters \n",
    "dest_and = cv2.bitwise_and(img2, img1, mask = None) \n",
    "\n",
    "\n",
    "title=[]\n",
    "title.append(\"image5.1\")\n",
    "title.append(\"image5.2\")\n",
    "title.append(\"dest_and\")\n",
    "imageN=[]\n",
    "imageN.append(img1)\n",
    "imageN.append(img2)\n",
    "imageN.append(dest_and)\n",
    "DisplayImage(imageN,title,3)\n",
    "\n",
    "# the window showing output image \n",
    "# with the Bitwise AND operation \n",
    "# on the input images \n",
    "cv2.imshow('Bitwise And', dest_and) \n",
    "\n",
    "# De-allocate any associated memory usage \n",
    "if cv2.waitKey(0) & 0xff == 27: \n",
    "\tcv2.destroyAllWindows() \n"
   ]
  },
  {
   "cell_type": "markdown",
   "metadata": {},
   "source": [
    "### Bitwise OR operation on Image:\n",
    "\n",
    "### Bit-wise disjunction of input array elements.\n",
    "\n",
    "#### Syntax: cv2.bitwise_or(source1, source2, destination, mask)\n",
    "\n",
    "**Parameters:**\n",
    "\n",
    "1. source1: First Input Image array(Single-channel, 8-bit or floating-point)\n",
    "2. source2: Second Input Image array(Single-channel, 8-bit or floating-point)\n",
    "3. dest: Output array (Similar to the dimensions and type of Input image array)\n",
    "4. mask: Operation mask, Input / output 8-bit single-channel mask"
   ]
  },
  {
   "cell_type": "code",
   "execution_count": 10,
   "metadata": {},
   "outputs": [
    {
     "name": "stdout",
     "output_type": "stream",
     "text": [
      "None\n",
      "None\n"
     ]
    },
    {
     "data": {
      "image/png": "[encoded data removed]",
      "text/plain": [
       "<Figure size 864x864 with 3 Axes>"
      ]
     },
     "metadata": {
      "needs_background": "light"
     },
     "output_type": "display_data"
    },
    {
     "data": {
      "text/plain": [
       "<Figure size 864x864 with 0 Axes>"
      ]
     },
     "metadata": {},
     "output_type": "display_data"
    }
   ],
   "source": [
    "# Python programe to illustrate \n",
    "# arithmetic operation of \n",
    "# bitwise OR of two images \n",
    "\t\n",
    "# organizing imports \n",
    "import cv2 \n",
    "import numpy as np \n",
    "\t\n",
    "# path to input images are specified and \n",
    "# images are loaded with imread command \n",
    "img1 = cv2.imread('img/image5.1.png') \n",
    "print(ImageShow(img1))\n",
    "img2 = cv2.imread('img/image5.2.png') \n",
    "print(ImageShow(img2))\n",
    "# cv2.bitwise_or is applied over the \n",
    "# image inputs with applied parameters \n",
    "dest_or = cv2.bitwise_or(img2, img1, mask = None) \n",
    "\n",
    "\n",
    "title=[]\n",
    "title.append(\"image5.1\")\n",
    "title.append(\"image5.2\")\n",
    "title.append(\"dest_or\")\n",
    "imageN=[]\n",
    "imageN.append(img1)\n",
    "imageN.append(img2)\n",
    "imageN.append(dest_or)\n",
    "DisplayImage(imageN,title,3)\n",
    "\n",
    "# the window showing output image \n",
    "# with the Bitwise OR operation \n",
    "# on the input images \n",
    "cv2.imshow('Bitwise OR', dest_or) \n",
    "\n",
    "# De-allocate any associated memory usage \n",
    "if cv2.waitKey(0) & 0xff == 27: \n",
    "\tcv2.destroyAllWindows() \n"
   ]
  },
  {
   "cell_type": "markdown",
   "metadata": {},
   "source": [
    "### Bitwise XOR operation on Image:\n",
    "### Bit-wise exclusive-OR operation on input array elements.\n",
    "\n",
    "#### Syntax: cv2.bitwise_xor(source1, source2, destination, mask)\n",
    "\n",
    "**Parameters:**\n",
    "\n",
    "1. source1: First Input Image array(Single-channel, 8-bit or floating-point)\n",
    "2. source2: Second Input Image array(Single-channel, 8-bit or floating-point)\n",
    "3. dest: Output array (Similar to the dimensions and type of Input image array)\n",
    "4. mask: Operation mask, Input / output 8-bit single-channel mask"
   ]
  },
  {
   "cell_type": "code",
   "execution_count": 11,
   "metadata": {},
   "outputs": [
    {
     "name": "stdout",
     "output_type": "stream",
     "text": [
      "None\n",
      "None\n"
     ]
    },
    {
     "data": {
      "image/png": "[encoded data removed]",
      "text/plain": [
       "<Figure size 864x864 with 3 Axes>"
      ]
     },
     "metadata": {
      "needs_background": "light"
     },
     "output_type": "display_data"
    },
    {
     "data": {
      "text/plain": [
       "<Figure size 864x864 with 0 Axes>"
      ]
     },
     "metadata": {},
     "output_type": "display_data"
    }
   ],
   "source": [
    "# Python programe to illustrate \n",
    "# arithmetic operation of \n",
    "# bitwise XOR of two images \n",
    "\t\n",
    "# organizing imports \n",
    "import cv2 \n",
    "import numpy as np \n",
    "\t\n",
    "# path to input images are specified and \n",
    "# images are loaded with imread command \n",
    "img1 = cv2.imread('img/image5.1.png') \n",
    "print(ImageShow(img1))\n",
    "img2 = cv2.imread('img/image5.2.png') \n",
    "print(ImageShow(img2))\n",
    "# cv2.bitwise_xor is applied over the \n",
    "# image inputs with applied parameters \n",
    "dest_xor = cv2.bitwise_xor(img1, img2, mask = None) \n",
    "\n",
    "\n",
    "title=[]\n",
    "title.append(\"image5.1\")\n",
    "title.append(\"image5.2\")\n",
    "title.append(\"dest_xor\")\n",
    "imageN=[]\n",
    "imageN.append(img1)\n",
    "imageN.append(img2)\n",
    "imageN.append(dest_xor)\n",
    "DisplayImage(imageN,title,3)\n",
    "\n",
    "# the window showing output image \n",
    "# with the Bitwise XOR operation \n",
    "# on the input images \n",
    "cv2.imshow('Bitwise XOR', dest_xor) \n",
    "\n",
    "# De-allocate any associated memory usage \n",
    "if cv2.waitKey(0) & 0xff == 27: \n",
    "\tcv2.destroyAllWindows() \n"
   ]
  },
  {
   "cell_type": "markdown",
   "metadata": {},
   "source": [
    "### Bitwise NOT operation on Image:\n",
    "### Inversion of input array elements.\n",
    "\n",
    "#### Syntax: cv2.bitwise_not(source, destination, mask)\n",
    "\n",
    "\n",
    "**Parameters:**\n",
    "\n",
    "1. source1: First Input Image array(Single-channel, 8-bit or floating-point)\n",
    "2. dest: Output array (Similar to the dimensions and type of Input image array)\n",
    "3. mask: Operation mask, Input / output 8-bit single-channel mask"
   ]
  },
  {
   "cell_type": "code",
   "execution_count": 12,
   "metadata": {},
   "outputs": [
    {
     "name": "stdout",
     "output_type": "stream",
     "text": [
      "None\n",
      "None\n"
     ]
    },
    {
     "data": {
      "image/png": "[encoded data removed]",
      "text/plain": [
       "<Figure size 864x864 with 4 Axes>"
      ]
     },
     "metadata": {
      "needs_background": "light"
     },
     "output_type": "display_data"
    },
    {
     "data": {
      "text/plain": [
       "<Figure size 864x864 with 0 Axes>"
      ]
     },
     "metadata": {},
     "output_type": "display_data"
    }
   ],
   "source": [
    "# Python programe to illustrate \n",
    "# arithmetic operation of \n",
    "# bitwise NOT on input image \n",
    "\t\n",
    "# organizing imports \n",
    "import cv2 \n",
    "import numpy as np \n",
    "\t\n",
    "# path to input images are specified and \n",
    "# images are loaded with imread command \n",
    "img1 = cv2.imread('img/image5.1.png') \n",
    "print(ImageShow(img1))\n",
    "img2 = cv2.imread('img/image5.2.png') \n",
    "print(ImageShow(img2))\n",
    "\n",
    "# cv2.bitwise_not is applied over the \n",
    "# image input with applied parameters \n",
    "dest_not1 = cv2.bitwise_not(img1, mask = None) \n",
    "dest_not2 = cv2.bitwise_not(img2, mask = None) \n",
    "\n",
    "title=[]\n",
    "title.append(\"image5.1\")\n",
    "title.append(\"image5.2\")\n",
    "title.append(\"dest_not1\")\n",
    "title.append(\"dest_not2\")\n",
    "imageN=[]\n",
    "imageN.append(img1)\n",
    "imageN.append(img2)\n",
    "imageN.append(dest_not1)\n",
    "imageN.append(dest_not2)\n",
    "DisplayImage(imageN,title,4)\n",
    "\n",
    "# the windows showing output image \n",
    "# with the Bitwise NOT operation \n",
    "# on the 1st and 2nd input image \n",
    "cv2.imshow('Bitwise NOT on image 1', dest_not1) \n",
    "cv2.imshow('Bitwise NOT on image 2', dest_not2) \n",
    "\n",
    "# De-allocate any associated memory usage \n",
    "if cv2.waitKey(0) & 0xff == 27: \n",
    "\tcv2.destroyAllWindows() \n"
   ]
  }
 ],
 "metadata": {
  "kernelspec": {
   "display_name": "Python 3",
   "language": "python",
   "name": "python3"
  },
  "language_info": {
   "codemirror_mode": {
    "name": "ipython",
    "version": 3
   },
   "file_extension": ".py",
   "mimetype": "text/x-python",
   "name": "python",
   "nbconvert_exporter": "python",
   "pygments_lexer": "ipython3",
   "version": "3.8.3"
  }
 },
 "nbformat": 4,
 "nbformat_minor": 4
}
