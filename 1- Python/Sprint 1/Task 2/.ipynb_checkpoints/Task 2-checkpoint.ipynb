{
 "cells": [
  {
   "cell_type": "markdown",
   "metadata": {},
   "source": [
    "# Question 1:\n",
    "Define a function which can print a dictionary where the keys are numbers between 1 and 3 (both included) and the values are square of keys.\n",
    "\n",
    "Hints:\n",
    "\n",
    "Use dict[key]=value pattern to put entry into a dictionary.\n",
    "Use ** operator to get power of a number."
   ]
  },
  {
   "cell_type": "code",
   "execution_count": 2,
   "metadata": {},
   "outputs": [
    {
     "name": "stdout",
     "output_type": "stream",
     "text": [
      "{1: 1, 2: 4, 3: 9}\n"
     ]
    }
   ],
   "source": [
    "def dic_print(dic):\n",
    "    dic[1] = 1\n",
    "    dic[2] = 2**2\n",
    "    dic[3] = 3**2\n",
    "    print(dic)\n",
    "\n",
    "dic = {}\n",
    "dic_print(dic)\n"
   ]
  },
  {
   "cell_type": "markdown",
   "metadata": {},
   "source": [
    "# Question 2:\n",
    "Define a function which can generate a dictionary where the keys are numbers between 1 and 20 (both included) and the values are square of keys. The function should just print the values only.\n",
    "\n",
    "Hints:\n",
    "\n",
    "Use dict[key]=value pattern to put entry into a dictionary.\n",
    "Use ** operator to get power of a number.\n",
    "Use range() for loops.\n",
    "Use keys() to iterate keys in the dictionary. Also we can use item() to get key/value pairs.\n"
   ]
  },
  {
   "cell_type": "code",
   "execution_count": 32,
   "metadata": {},
   "outputs": [
    {
     "name": "stdout",
     "output_type": "stream",
     "text": [
      "1\n",
      "4\n",
      "9\n",
      "16\n",
      "25\n",
      "36\n",
      "49\n",
      "64\n",
      "81\n",
      "100\n",
      "121\n",
      "144\n",
      "169\n",
      "196\n",
      "225\n",
      "256\n",
      "289\n",
      "324\n",
      "361\n",
      "400\n",
      "dict_items([(1, 1), (2, 4), (3, 9), (4, 16), (5, 25), (6, 36), (7, 49), (8, 64), (9, 81), (10, 100), (11, 121), (12, 144), (13, 169), (14, 196), (15, 225), (16, 256), (17, 289), (18, 324), (19, 361), (20, 400)])\n"
     ]
    }
   ],
   "source": [
    "def dic_print(dic):\n",
    "    for i in range (1,21):\n",
    "        dic[i]= i ** 2\n",
    "\n",
    "    for i in dic.values():\n",
    "        print(i)\n",
    "        \n",
    "    print(dic.items())\n",
    "\n",
    "dic = {}\n",
    "dic_print(dic)"
   ]
  },
  {
   "cell_type": "markdown",
   "metadata": {},
   "source": [
    "# Question 3:\n",
    "Define a function which can generate a dictionary where the keys are numbers between 1 and 20 (both included) and the values are square of keys. The function should just print the keys only.\n",
    "\n",
    "Hints:\n",
    "\n",
    "Use dict[key]=value pattern to put entry into a dictionary.\n",
    "Use ** operator to get power of a number.\n",
    "Use range() for loops.\n",
    "Use keys() to iterate keys in the dictionary. Also we can use item() to get key/value pairs.\n"
   ]
  },
  {
   "cell_type": "code",
   "execution_count": 55,
   "metadata": {},
   "outputs": [
    {
     "name": "stdout",
     "output_type": "stream",
     "text": [
      "1\n",
      "2\n",
      "3\n",
      "4\n",
      "5\n",
      "6\n",
      "7\n",
      "8\n",
      "9\n",
      "10\n",
      "11\n",
      "12\n",
      "13\n",
      "14\n",
      "15\n",
      "16\n",
      "17\n",
      "18\n",
      "19\n",
      "20\n",
      "dict_items([(1, 1), (2, 4), (3, 9), (4, 16), (5, 25), (6, 36), (7, 49), (8, 64), (9, 81), (10, 100), (11, 121), (12, 144), (13, 169), (14, 196), (15, 225), (16, 256), (17, 289), (18, 324), (19, 361), (20, 400)])\n"
     ]
    }
   ],
   "source": [
    "def dic_print(dic):\n",
    "    for i in range (1,21):\n",
    "        dic[i]= i ** 2\n",
    "\n",
    "    for i in dic.keys():\n",
    "        print(i)\n",
    "    #for k,v in dic.items():\n",
    "        #print(k)\n",
    "        \n",
    "    print(dic.items())\n",
    "\n",
    "dic = {}\n",
    "dic_print(dic)"
   ]
  },
  {
   "cell_type": "markdown",
   "metadata": {},
   "source": [
    "# Question 4 \n",
    "Write a Python program to check a dictionary is empty or not"
   ]
  },
  {
   "cell_type": "code",
   "execution_count": 48,
   "metadata": {},
   "outputs": [
    {
     "name": "stdout",
     "output_type": "stream",
     "text": [
      "The Dictionary which checked is not empty\n"
     ]
    }
   ],
   "source": [
    "def dic_print(dic):\n",
    "    if not bool (dic):\n",
    "        print(\"The Dictionary which checked is empty\")\n",
    "    else:\n",
    "        print(\"The Dictionary which checked is not empty\")\n",
    "\n",
    "dic = {}\n",
    "dic_print(dic)"
   ]
  },
  {
   "cell_type": "markdown",
   "metadata": {},
   "source": [
    "# Question 5\n",
    "\n",
    "Write a Python program to test whether every element in s is in t and every element in t is in s.\n",
    "\n"
   ]
  },
  {
   "cell_type": "code",
   "execution_count": 59,
   "metadata": {},
   "outputs": [
    {
     "name": "stdout",
     "output_type": "stream",
     "text": [
      "Check if a set is a subset of another set, using comparison operators and issubset():\n",
      "\n",
      "The First Element:  {'mango', 'apple', 'orange'}\n",
      "The Second Element:  {'orange', 'mango'}\n",
      "The set s is not subset of set t\n",
      "The set t is subset of set s\n"
     ]
    }
   ],
   "source": [
    "print(\"Check if a set is a subset of another set, using comparison operators and issubset():\\n\")\n",
    "s = set([\"orange\", \"mango\",\"apple\"])\n",
    "t = set([\"mango\", \"orange\"])\n",
    "\n",
    "print(\"The First Element: \",s)\n",
    "print(\"The Second Element: \",t)\n",
    "\n",
    "if(s.issubset(t)):\n",
    "    print(\"The set s is subset of set t\") \n",
    "else:\n",
    "    print(\"The set s is not subset of set t\") \n",
    "if(t.issubset(s)):\n",
    "    print(\"The set t is subset of set s\") \n",
    "else:\n",
    "    print(\"The set t is not subset of set s\")\n"
   ]
  },
  {
   "cell_type": "markdown",
   "metadata": {},
   "source": [
    "# Question 6\n",
    "Create set 1 and set 2 then \n",
    "Write a Python program to 1- create an intersection of sets.\n",
    "2-  a union of sets.\n",
    "3- create set difference.\n",
    "4- a symmetric difference."
   ]
  },
  {
   "cell_type": "code",
   "execution_count": 109,
   "metadata": {},
   "outputs": [
    {
     "name": "stdout",
     "output_type": "stream",
     "text": [
      "The First Element:  {'mango', 'apple', 'orange'}\n",
      "The Second Element:  {'grape', 'orange', 'watermelon', 'mango'}\n",
      "The elements which inside s and t between s and t : {'orange', 'mango'}\n",
      "The element which inside s and not inside t:  {'apple'}\n",
      "the whole element which indside s and t {'grape', 'watermelon', 'apple', 'orange', 'mango'}\n",
      "{'apple'}\n",
      "The a symmetric difference is the whole elements in set s and t excipt intersection elements between s and t:  {'grape', 'watermelon', 'apple'}\n"
     ]
    }
   ],
   "source": [
    "s = set([\"orange\", \"mango\",\"apple\"])\n",
    "t = set([\"mango\", \"orange\",\"grape\", \"watermelon\"])\n",
    "\n",
    "print(\"The First Element: \",s)\n",
    "print(\"The Second Element: \",t)\n",
    "\n",
    "print(\"The elements which inside s and t between s and t :\",s.intersection(t))\n",
    "print(\"The element which inside s and not inside t: \",s.difference(t))\n",
    "print(\"the whole element which indside s and t\", s.union(t))\n",
    "\n",
    "d= s.difference(t)\n",
    "print(d)\n",
    "\n",
    "\n",
    "\n",
    "print(\"The a symmetric difference is the whole elements in set s and t excipt intersection elements between s and t: \",s.symmetric_difference(t))"
   ]
  },
  {
   "cell_type": "markdown",
   "metadata": {},
   "source": [
    "# Question  7\n",
    "Write a Python program to use of frozensets."
   ]
  },
  {
   "cell_type": "code",
   "execution_count": 4,
   "metadata": {},
   "outputs": [
    {
     "name": "stdout",
     "output_type": "stream",
     "text": [
      "False\n",
      "frozenset({'apple'})\n",
      "frozenset({'watermelon', 'orange', 'mango', 'apple', 'grape'})\n"
     ]
    }
   ],
   "source": [
    "s = frozenset([\"orange\", \"mango\",\"apple\"])\n",
    "t = frozenset([\"mango\", \"orange\",\"grape\", \"watermelon\"])\n",
    "#use isdisjoint(). Return True if the set has no elements in common with other or return false if no common elements. \n",
    "print(s.isdisjoint(t))\n",
    "print(s.difference(t))\n",
    "#new set with elements from both s and t\n",
    "print(s | t)"
   ]
  },
  {
   "cell_type": "markdown",
   "metadata": {},
   "source": [
    "# Question 8\n",
    "Write a Python program to find maximum and the minimum value in a set."
   ]
  },
  {
   "cell_type": "code",
   "execution_count": 85,
   "metadata": {},
   "outputs": [
    {
     "name": "stdout",
     "output_type": "stream",
     "text": [
      "10\n",
      "1\n"
     ]
    }
   ],
   "source": [
    "n= {1,2,3,4,5,6,7,8,9,10}\n",
    "print(max(n))\n",
    "print(min(n))"
   ]
  },
  {
   "cell_type": "markdown",
   "metadata": {},
   "source": [
    "# Question9 :\n",
    "With a given tuple (1,2,3,4,5,6,7,8,9,10), write a program to print the first half values in one line and the last half values in one line. \n",
    "\n",
    "Hints:\n",
    "\n",
    "Use [n1:n2] notation to get a slice from a tuple."
   ]
  },
  {
   "cell_type": "code",
   "execution_count": 88,
   "metadata": {},
   "outputs": [
    {
     "name": "stdout",
     "output_type": "stream",
     "text": [
      "(1, 2, 3, 4, 5)\n",
      "(6, 7, 8, 9, 10)\n"
     ]
    }
   ],
   "source": [
    "t= (1,2,3,4,5,6,7,8,9,10)\n",
    "t1=t[0:5]\n",
    "t2=t[5:]\n",
    "print(t1)\n",
    "print(t2)"
   ]
  },
  {
   "cell_type": "markdown",
   "metadata": {},
   "source": [
    "# Question 10 :\n",
    "You are required to write a program to sort the (name, age, height) tuples by ascending order where name is string, age and height are numbers. The tuples are input by console. The sort criteria is:\n",
    "1: Sort based on name;\n",
    "2: Then sort based on age;\n",
    "3: Then sort by score.\n",
    "The priority is that name > age > score.\n",
    "If the following tuples are given as input to the program:\n",
    "Tom,19,80\n",
    "John,20,90\n",
    "Jony,17,91\n",
    "Jony,17,93\n",
    "Json,21,85\n",
    "Then, the output of the program should be:\n",
    "[('John', '20', '90'), ('Jony', '17', '91'), ('Jony', '17', '93'), ('Json', '21', '85'), ('Tom', '19', '80')]\n",
    "\n",
    "Hints:\n",
    "In case of input data being supplied to the question, it should be assumed to be a console input.\n",
    "We use itemgetter to enable multiple sort keys.\n",
    "\n",
    "Solutions:\n",
    "from operator import itemgetter, attrgetter\n"
   ]
  },
  {
   "cell_type": "code",
   "execution_count": 7,
   "metadata": {},
   "outputs": [
    {
     "name": "stdout",
     "output_type": "stream",
     "text": [
      "if you would like to stop, insert 's' \n",
      "Enter Your Data: Tom,19,80\n",
      "if you would like to stop, insert 's' \n",
      "Enter Your Data: John,20,90\n",
      "if you would like to stop, insert 's' \n",
      "Enter Your Data: Jony,17,91\n",
      "if you would like to stop, insert 's' \n",
      "Enter Your Data: Jony,17,93\n",
      "if you would like to stop, insert 's' \n",
      "Enter Your Data: Json,21,85\n",
      "if you would like to stop, insert 's' \n",
      "Enter Your Data: s\n",
      "[('John', '20', '90'), ('Jony', '17', '91'), ('Jony', '17', '93'), ('Json', '21', '85'), ('Tom', '19', '80')]\n"
     ]
    }
   ],
   "source": [
    "from operator import itemgetter\n",
    "\n",
    "peopleData = []\n",
    "while True:\n",
    "    print(\"if you would like to stop, insert 's' \")\n",
    "    personData = input(\"Enter Your Data: \")\n",
    "\n",
    "    if personData == \"s\":\n",
    "        break\n",
    "    else:\n",
    "        peopleData.append(tuple((personData.split(\",\"))))\n",
    "\n",
    "peopleData.sort(key =  itemgetter(0, 1, 2))       \n",
    "print(peopleData)"
   ]
  },
  {
   "cell_type": "markdown",
   "metadata": {},
   "source": [
    "# Question 11:\n",
    "\n",
    "Please write a program to generate a list with 5 random numbers between 100 and 200 inclusive.\n",
    "\n",
    "\n",
    "\n",
    "Hints:\n",
    "Use random.sample() to generate a list of random values."
   ]
  },
  {
   "cell_type": "code",
   "execution_count": 101,
   "metadata": {},
   "outputs": [
    {
     "name": "stdout",
     "output_type": "stream",
     "text": [
      "[193, 196, 144, 113, 177]\n"
     ]
    }
   ],
   "source": [
    "print(random.sample(range(100,201),5))"
   ]
  },
  {
   "cell_type": "markdown",
   "metadata": {},
   "source": [
    "# Question 12\n",
    "Please write a program to randomly generate a list with 5 even numbers between 100 and 200 inclusive.\n",
    "\n",
    "Hints:\n",
    "Use random.sample() to generate a list of random values."
   ]
  },
  {
   "cell_type": "code",
   "execution_count": 102,
   "metadata": {},
   "outputs": [
    {
     "name": "stdout",
     "output_type": "stream",
     "text": [
      "[126, 166, 150, 162, 114]\n"
     ]
    }
   ],
   "source": [
    "print(random.sample([i for i in range(100,201) if i%2==0],5))"
   ]
  },
  {
   "cell_type": "markdown",
   "metadata": {},
   "source": [
    "# Question 13\n",
    "Please write a program to randomly print a integer number between 7 and 15 inclusive.\n",
    "\n",
    "Hints: Use random.randrange() to a random integer in a given range.\n",
    "\n"
   ]
  },
  {
   "cell_type": "code",
   "execution_count": 103,
   "metadata": {},
   "outputs": [
    {
     "name": "stdout",
     "output_type": "stream",
     "text": [
      "14\n"
     ]
    }
   ],
   "source": [
    "print(random.randrange(7,16))"
   ]
  },
  {
   "cell_type": "markdown",
   "metadata": {},
   "source": [
    "# Question 14\n",
    "\n",
    "Please write a program to print the running time of execution of \"1+1\" for 100 times.\n",
    "Hints:\n",
    "Use timeit() function to measure the running time.\n"
   ]
  },
  {
   "cell_type": "code",
   "execution_count": 9,
   "metadata": {},
   "outputs": [
    {
     "name": "stdout",
     "output_type": "stream",
     "text": [
      "4.3225809999999\n"
     ]
    }
   ],
   "source": [
    "from timeit import Timer\n",
    "t = Timer(\"for i in range(100):1+1\")\n",
    "print(t.timeit())"
   ]
  },
  {
   "cell_type": "markdown",
   "metadata": {},
   "source": [
    "# Question 15 :\n",
    "\n",
    "Please write a program to shuffle and print the list [3,6,7,8].\n",
    "\n",
    "Hints:\n",
    "Use shuffle() function to shuffle a list.\n"
   ]
  },
  {
   "cell_type": "code",
   "execution_count": 107,
   "metadata": {},
   "outputs": [
    {
     "name": "stdout",
     "output_type": "stream",
     "text": [
      "[7, 6, 3, 8]\n"
     ]
    }
   ],
   "source": [
    "from random import shuffle\n",
    "l = [3,6,7,8]\n",
    "shuffle(l)\n",
    "print(l)"
   ]
  },
  {
   "cell_type": "code",
   "execution_count": null,
   "metadata": {},
   "outputs": [],
   "source": []
  }
 ],
 "metadata": {
  "kernelspec": {
   "display_name": "Python 3",
   "language": "python",
   "name": "python3"
  },
  "language_info": {
   "codemirror_mode": {
    "name": "ipython",
    "version": 3
   },
   "file_extension": ".py",
   "mimetype": "text/x-python",
   "name": "python",
   "nbconvert_exporter": "python",
   "pygments_lexer": "ipython3",
   "version": "3.7.4"
  }
 },
 "nbformat": 4,
 "nbformat_minor": 2
}
