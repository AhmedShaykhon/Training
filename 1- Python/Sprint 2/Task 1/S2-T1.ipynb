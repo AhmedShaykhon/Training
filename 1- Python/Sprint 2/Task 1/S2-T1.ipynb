{
 "cells": [
  {
   "cell_type": "markdown",
   "metadata": {},
   "source": [
    "# Task 1"
   ]
  },
  {
   "cell_type": "markdown",
   "metadata": {},
   "source": [
    "# Question 1 :\n",
    "Say \"Hello, World!\" With Python"
   ]
  },
  {
   "cell_type": "code",
   "execution_count": 6,
   "metadata": {},
   "outputs": [
    {
     "name": "stdout",
     "output_type": "stream",
     "text": [
      "Hello, World!\n"
     ]
    }
   ],
   "source": [
    "print(\"Hello, World!\")"
   ]
  },
  {
   "cell_type": "markdown",
   "metadata": {},
   "source": [
    "# Question 2 :\n",
    "Given an integer n, , perform the following conditional actions:\n",
    "<ol>\n",
    "<li>If n is <b>odd</b>, print <b>Weird</b></li><br><li>If n is <b>even</b> and in the inclusive range of <b>2 to 5</b>, print <b>Not Weird</b></li><br><li>If n is <b>even</b> and in the inclusive range of <b>6 to 20</b>, print <b>Weird</b></li><br><li>If n is <b>even</b> and greater <b>than 20</b>, print **Not Weird**</li>\n",
    "<ol>"
   ]
  },
  {
   "cell_type": "code",
   "execution_count": 41,
   "metadata": {},
   "outputs": [
    {
     "name": "stdout",
     "output_type": "stream",
     "text": [
      "Please enter the  number which should be checked: 5\n",
      "Weird\n",
      "\n"
     ]
    }
   ],
   "source": [
    "def Print_Con(n):\n",
    "    #If n is odd, print Weird\n",
    "    if n%2!=0:\n",
    "        print(\"Weird\\n\")\n",
    "    #If n is even \n",
    "    elif n%2==0:\n",
    "        #If n in the inclusive range of 2 to 5, print Not Weird\n",
    "        if n>=2 and n<=5:\n",
    "            print(\"Not Weird\\n\")\n",
    "        #If n in the inclusive range of 6 to 20, print Weird\n",
    "        if n>=6 and n<=20:\n",
    "            print(\"Weird\\n\")\n",
    "        #If n in the inclusive range of 6 to 20, print Weird\n",
    "        if n%2 == 0 and n>=20:\n",
    "            print(\"Not Weird\\n\")\n",
    "# Take the input number from User\n",
    "Key = input(\"Please enter the  number which should be checked: \")\n",
    "Print_Con(int(Key))"
   ]
  },
  {
   "cell_type": "markdown",
   "metadata": {},
   "source": [
    "# Question 3 :\n",
    "The provided code stub reads two integers from STDIN, a and b. Add code to print three lines where:\n",
    "<ol>\n",
    "<li>The first line contains the sum of the two numbers.</li>\n",
    "<li>The second line contains the difference of the two numbers (first - second).</li>\n",
    "<li>The third line contains the product of the two numbers.</li>\n",
    "</ol>"
   ]
  },
  {
   "cell_type": "code",
   "execution_count": 54,
   "metadata": {},
   "outputs": [
    {
     "name": "stdout",
     "output_type": "stream",
     "text": [
      "Please Enter the first num:5\n",
      "Please Enter the first num:10\n",
      "5 + 10 = 15\n",
      "5 - 10 = -5\n",
      "5 * 10 = 50\n"
     ]
    }
   ],
   "source": [
    "def Func_TwoNum(a,b):\n",
    "    #The first line contains the sum of the two numbers.\n",
    "    print(\"{a} + {b} = {z}\".format(a=a,b=b,z=a+b))\n",
    "    #The second line contains the difference of the two numbers (first - second).\n",
    "    print(\"{a} - {b} = {z}\".format(a=a,b=b,z=a-b))\n",
    "    #The third line contains the product of the two numbers.\n",
    "    print(\"{a} * {b} = {z}\".format(a=a,b=b,z=a*b))\n",
    "# Take the input first number from User\n",
    "first = input(\"Please Enter the first num:\")\n",
    "# Take the input second number from User\n",
    "second = input(\"Please Enter the first num:\")\n",
    "Func_TwoNum(int(first),int(second))"
   ]
  },
  {
   "cell_type": "markdown",
   "metadata": {},
   "source": [
    "# Question 4 :\n",
    "The provided code stub reads two integers, a and b, from STDIN.\n",
    "\n",
    "Add logic to print two lines. The first line should contain the result of integer division, a // b. The second line should contain the result of float division, a / b.\n",
    "\n",
    "No rounding or formatting is necessary."
   ]
  },
  {
   "cell_type": "code",
   "execution_count": 21,
   "metadata": {},
   "outputs": [
    {
     "name": "stdout",
     "output_type": "stream",
     "text": [
      "Please Insert The First Integer Num : 15\n",
      "Please Insert The Second Integer Num : 20\n",
      "15 // 20 = 0\n",
      "15 / 20 = 0.75\n"
     ]
    }
   ],
   "source": [
    "a = input(\"Please Insert The First Integer Num : \")\n",
    "b = input(\"Please Insert The Second Integer Num : \")\n",
    "#The first line should contain the result of integer division, a // b. which no carry\n",
    "print(\"{a} // {b} = {c}\".format(a=a,b=b,c=int(a)//int(b)))\n",
    "#The second line should contain the result of float division, a / b.\n",
    "print(\"{a} / {b} = {c}\".format(a=a,b=b,c=int(a)/int(b)))"
   ]
  },
  {
   "cell_type": "markdown",
   "metadata": {},
   "source": [
    "# Question 5 :\n",
    "\n",
    "The provided code stub reads and integer, , from STDIN. For all non-negative integers i<n, print i^2."
   ]
  },
  {
   "cell_type": "code",
   "execution_count": 34,
   "metadata": {},
   "outputs": [
    {
     "name": "stdout",
     "output_type": "stream",
     "text": [
      "please insert 0'th Element :1\n",
      "please insert 1'th Element :2\n",
      "please insert 2'th Element :3\n",
      "please insert 3'th Element :4\n",
      "please insert 4'th Element :5\n",
      "1\n",
      "4\n",
      "9\n",
      "16\n",
      "25\n"
     ]
    }
   ],
   "source": [
    "numbers=[]\n",
    "for i in range (0,5):\n",
    "    # key variable is the number which inserted from user\n",
    "    key = input(\"please insert {i}'th Element :\".format(i=i))\n",
    "    # Casting the input to integer and power of two then append the list with it\n",
    "    numbers.append(int(key)**2)\n",
    "    # Print the numbers which inserted and calculated in the list\n",
    "for i in range (0,5):\n",
    "    print(numbers[i])\n",
    "\n",
    "    "
   ]
  },
  {
   "cell_type": "markdown",
   "metadata": {},
   "source": [
    "# Question 6 :\n",
    "An extra day is added to the calendar almost every four years as February 29, and the day is called a leap day. It corrects the calendar for the fact that our planet takes approximately 365.25 days to orbit the sun. A leap year contains a leap day.\n",
    "\n",
    "In the Gregorian calendar, three conditions are used to identify leap years:\n",
    "<ul>\n",
    "    <li>\n",
    "The year can be evenly divided by 4, is a leap year, unless:\n",
    "       <ul> <li>\n",
    "    \n",
    "The year can be evenly divided by 100, it is NOT a leap year, unless:\n",
    "<ul> <li>\n",
    "The year is also evenly divisible by 400. Then it is a leap year.\n",
    "    </ul> </li></ul> </li>\n",
    "</li>\n",
    "</ul>\n",
    "This means that in the Gregorian calendar, the years 2000 and 2400 are leap years, while 1800, 1900, 2100, 2200, 2300 and 2500 are NOT leap years.\n",
    "\n",
    "\n",
    "**Task**\n",
    "\n",
    "Given a year, determine whether it is a leap year. If it is a leap year, return the Boolean True, otherwise return False.\n",
    "\n",
    "Note that the code stub provided reads from STDIN and passes arguments to the is_leap function. It is only necessary to complete the is_leap function."
   ]
  },
  {
   "cell_type": "code",
   "execution_count": 45,
   "metadata": {},
   "outputs": [
    {
     "name": "stdout",
     "output_type": "stream",
     "text": [
      "Please insert the Year :1800\n",
      "The year is which inserted is not Leap Year\n"
     ]
    }
   ],
   "source": [
    "def Inv_LeapYear(Year_Num):\n",
    "    if Year_Num %4 ==0:\n",
    "        if Year_Num%100==0:\n",
    "            if Year_Num%400==0:\n",
    "                return True\n",
    "            else:\n",
    "                return False\n",
    "        else:\n",
    "            return False\n",
    "    else:\n",
    "        return False\n",
    "\n",
    "Year_Num = int(input(\"Please insert the Year :\"))\n",
    "if(Inv_LeapYear(Year_Num)):\n",
    "    print(\"The year is which inserted is Leap Year\")\n",
    "else:\n",
    "    print(\"The year is which inserted is not Leap Year\")"
   ]
  },
  {
   "cell_type": "markdown",
   "metadata": {},
   "source": [
    "# Question 7 :\n",
    "\n",
    "The included code stub will read an integer, n , from STDIN.\n",
    "\n",
    "Without using any string methods, try to print the following:\n",
    "123....n\n",
    "Note that \"\" represents the consecutive values in between.\n",
    "\n",
    "**Example**\n",
    "\n",
    "n = 5\n",
    "\n",
    "Print the string 12345 .\n",
    "\n",
    "**Input Format**\n",
    "\n",
    "The first line contains an integer n.\n",
    "\n",
    "**Output Format**\n",
    "\n",
    "Print the list of integers from 1 through n as a string, without spaces."
   ]
  },
  {
   "cell_type": "code",
   "execution_count": 71,
   "metadata": {},
   "outputs": [
    {
     "name": "stdout",
     "output_type": "stream",
     "text": [
      "Please insert the n numbers:10\n",
      "12345678910"
     ]
    }
   ],
   "source": [
    "n = int(input(\"Please insert the n numbers:\"))\n",
    "for i in range(1,n+1):\n",
    "    # default of function print in end section is new line, so I changed it to continue printing without termination\n",
    "    print(i,end=\"\")\n",
    "    i=i+1\n"
   ]
  }
 ],
 "metadata": {
  "kernelspec": {
   "display_name": "Python 3",
   "language": "python",
   "name": "python3"
  },
  "language_info": {
   "codemirror_mode": {
    "name": "ipython",
    "version": 3
   },
   "file_extension": ".py",
   "mimetype": "text/x-python",
   "name": "python",
   "nbconvert_exporter": "python",
   "pygments_lexer": "ipython3",
   "version": "3.7.4"
  }
 },
 "nbformat": 4,
 "nbformat_minor": 2
}
