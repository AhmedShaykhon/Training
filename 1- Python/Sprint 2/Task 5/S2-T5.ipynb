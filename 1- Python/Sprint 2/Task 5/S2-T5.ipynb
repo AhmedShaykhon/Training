{
 "cells": [
  {
   "cell_type": "markdown",
   "metadata": {},
   "source": [
    "# Task 5"
   ]
  },
  {
   "cell_type": "markdown",
   "metadata": {},
   "source": [
    "# Question 1: Polar Coordinates\n",
    "\n",
    "**Polar coordinates** are an alternative way of representing Cartesian coordinates or *Complex Numbers*.\n",
    "\n",
    "A complex number z  =====> z = x + yj\n",
    "\n",
    "is completely determined by its real part x and imaginary part y.\n",
    "Here, j is the imaginary unit.\n",
    "\n",
    "\n",
    "\n"
   ]
  },
  {
   "cell_type": "markdown",
   "metadata": {},
   "source": [
    "![](Polar.jpg)"
   ]
  },
  {
   "cell_type": "markdown",
   "metadata": {},
   "source": [
    "If we convert complex number z to its polar coordinate, we find:\n",
    "\n",
    "r: Distance from z to origin, i.e.,,  $c = \\sqrt{x^2 + y^2}$ <br>\n",
    "$\\Phi$: Counter clockwise angle measured from the positive x-axis to the line segment that joins z to the origin.<br>\n",
    "\n",
    "Python's cmath module provides access to the mathematical functions for complex numbers.\n",
    "\n",
    "cmath.phase\n",
    "\n",
    "This tool returns the phase of complex number z (also known as the argument of z).\n",
    "\n",
    "> phase(complex(-1.0, 0.0))<br>\n",
    "3.1415926535897931 <br>\n",
    "\n",
    "$abs$\n",
    "\n",
    "This tool returns the modulus (absolute value) of complex number .\n",
    "\n",
    "> $abs$(complex(-1.0, 0.0))\n",
    "1.0\n",
    "\n",
    "**Task**\n",
    "\n",
    "You are given a complex . Your task is to convert it to polar coordinates.\n",
    "\n",
    "**Input Format**\n",
    "\n",
    "A single line containing the complex number . Note: complex() function can be used in python to convert the input as a complex number.\n",
    "\n",
    "**Constraints**\n",
    "\n",
    "Given number is a valid complex number\n",
    "\n",
    "**Output Format**\n",
    "\n",
    "Output two lines:\n",
    "The first line should contain the value of r.\n",
    "The second line should contain the value of $\\phi$.\n",
    "\n",
    "**Sample Input**\n",
    "\n",
    "  1+2j\n",
    "  \n",
    "**Sample Output**\n",
    "\n",
    " 2.23606797749979 <br>\n",
    " 1.1071487177940904<br>\n",
    " \n",
    "Note: The output should be correct up to 3 decimal places."
   ]
  },
  {
   "cell_type": "code",
   "execution_count": 5,
   "metadata": {},
   "outputs": [
    {
     "name": "stdout",
     "output_type": "stream",
     "text": [
      "1+2j\n",
      "2.23606797749979\n",
      "1.1071487177940904\n"
     ]
    }
   ],
   "source": [
    "from cmath import polar\n",
    "# Convert From complex form to polar form\n",
    "polar = polar(complex(input()))\n",
    "#the value of r.\n",
    "print (polar[0])\n",
    "#\n",
    "print (polar[1])"
   ]
  },
  {
   "cell_type": "markdown",
   "metadata": {},
   "source": [
    "# Question 2: Find Angle MBC"
   ]
  },
  {
   "cell_type": "markdown",
   "metadata": {},
   "source": [
    "![](Find-Angle.jpg)"
   ]
  },
  {
   "cell_type": "markdown",
   "metadata": {},
   "source": [
    "Therefore, $\\angle$ABC = 90$^{\\circ}$.\n",
    "\n",
    "Point M is the midpoint of hypotenuse AC.\n",
    "\n",
    "You are given the lengths AB and BC.\n",
    "Your task is to find $\\angle$ABC (angle $\\theta$$^{\\circ}$, as shown in the figure) in degrees.\n",
    "\n",
    "**Input Format**\n",
    "\n",
    "The first line contains the length of side AB .\n",
    "The second line contains the length of side BC.\n",
    "\n",
    "**Constraints**\n",
    "\n",
    "<ul>\n",
    "    <li> 0 < AB $\\leq$ 100 </li>\n",
    "    <li> 0 < BC $\\leq$ 100 </li>\n",
    "    <li> Lengths AB and BC are natural numbers. </li>\n",
    "</ul>\n",
    "\n",
    "\n",
    "**Output Format**\n",
    "\n",
    "Output $\\angle$ABC in degrees.\n",
    "\n",
    "**Note**: Round the angle to the nearest integer.\n",
    "\n",
    "**Examples:**\n",
    "\n",
    "If angle is 56.5000001°, then output 57°.\n",
    "If angle is 56.5000000°, then output 57°.\n",
    "If angle is 56.4999999°, then output 56°.\n",
    "\n",
    "0$^{\\circ}$ < $\\theta$$^{\\circ}$ $\\leq$ 90\n",
    "\n",
    "**Sample Input**\n",
    "\n",
    "10<br>\n",
    "10<br>\n",
    "\n",
    "**Sample Output**\n",
    "\n",
    "45°"
   ]
  },
  {
   "cell_type": "code",
   "execution_count": 1,
   "metadata": {},
   "outputs": [
    {
     "name": "stdout",
     "output_type": "stream",
     "text": [
      "10 \n",
      "10\n",
      "45°\n"
     ]
    }
   ],
   "source": [
    "from math import *\n",
    "\n",
    "ab = float(input())\n",
    "bc = float(input())\n",
    "print(str(int(round(degrees(atan(ab/bc)),0))) +'°')"
   ]
  },
  {
   "cell_type": "markdown",
   "metadata": {},
   "source": [
    "# **Task 3:Triangle Quest 2**\n",
    "\n",
    "You are given a positive integer N.\n",
    "Your task is to print a palindromic triangle of size N.\n",
    "\n",
    "For example, a palindromic triangle of size 5 is:\n",
    "\n",
    "1<br>\n",
    "121<br>\n",
    "12321<br>\n",
    "1234321<br>\n",
    "123454321<br>\n",
    "\n",
    "You can't take more than two lines. The first line (a for-statement) is already written for you.\n",
    "You have to complete the code using exactly one print statement.<br>\n",
    "\n",
    "**Note:**\n",
    "\n",
    "Using anything related to strings will give a score of 0.\n",
    "Using more than one for-statement will give a score of 0.\n",
    "\n",
    "**Input Format**\n",
    "\n",
    "A single line of input containing the integer N.\n",
    "\n",
    "**Constraints**\n",
    "\n",
    "0 < N < 10\n",
    "\n",
    "**Output Format**\n",
    "\n",
    "Print the palindromic triangle of size  as explained above.\n",
    "\n",
    "**Sample Input**\n",
    "\n",
    "5\n",
    "\n",
    "**Sample Output**\n",
    "\n",
    "1<br>\n",
    "121<br>\n",
    "12321<br>\n",
    "1234321<br>\n",
    "123454321<br>"
   ]
  },
  {
   "cell_type": "code",
   "execution_count": 2,
   "metadata": {},
   "outputs": [
    {
     "name": "stdout",
     "output_type": "stream",
     "text": [
      "Plz Enter the 1st intager in range 1:10 :\n",
      "5\n",
      "======output========\n",
      "\n",
      "1\n",
      "121\n",
      "12321\n",
      "1234321\n",
      "123454321\n"
     ]
    }
   ],
   "source": [
    "def TriangleQuest2(a):\n",
    "    print(\"======output========\")\n",
    "    for i in range(0, a+1):\n",
    "        temp=\"\"\n",
    "        for j in range(1,i):\n",
    "            temp+=str(j) \n",
    "        for j in range(i,0,-1):\n",
    "            temp+=str(j) \n",
    "        print (temp)\n",
    "    \n",
    "#user input    \n",
    "print(\"Plz Enter the 1st intager in range 1:10 :\")\n",
    "a=int(input(\"\"))\n",
    "\n",
    "\n",
    "TriangleQuest2(a)\n"
   ]
  },
  {
   "cell_type": "code",
   "execution_count": null,
   "metadata": {},
   "outputs": [],
   "source": []
  },
  {
   "cell_type": "markdown",
   "metadata": {},
   "source": [
    "# Task 4: Mod Divmod\n",
    "\n",
    "One of the built-in functions of Python is divmod, which takes two arguments and and returns a tuple containing the quotient of a/b first and then the remainder a.\n",
    "\n",
    "For example:\n",
    "\n",
    "> print divmod(177,10)<br>\n",
    "(17, 7)<br>\n",
    "\n",
    "Here, the integer division is 177/10 => 17 and the modelus operator is 177%10 => 7.\n",
    "\n",
    "**Task**\n",
    "\n",
    "Read in two integers, a and b, and print three lines.<br>\n",
    "The first line is the integer division a//b (While using Python2 remember to import division from __future__).<br>\n",
    "The second line is the result of the modelus operator: a$\\%$b.<br>\n",
    "The third line prints the divmod of a and b.<br>\n",
    "\n",
    "\n",
    "**Input Format**<br>\n",
    "The first line contains the first integer, a, and the second line contains the second integer, b.<br>\n",
    "\n",
    "\n",
    "**Output Format**<br>\n",
    "\n",
    "Print the result as described above.<br>\n",
    "\n",
    "**Sample Input**<br>\n",
    "\n",
    "177<br>\n",
    "10<br>\n",
    "\n",
    "**Sample Output**\n",
    "\n",
    "17<br>\n",
    "7<br>\n",
    "(17, 7)\n"
   ]
  },
  {
   "cell_type": "code",
   "execution_count": 4,
   "metadata": {
    "_cell_guid": "b1076dfc-b9ad-4769-8c92-a6c4dae69d19",
    "_uuid": "8f2839f25d086af736a60e9eeb907d3b93b6e0e5"
   },
   "outputs": [
    {
     "name": "stdout",
     "output_type": "stream",
     "text": [
      "Plz Enter the 1st intager :\n",
      "177\n",
      "Plz Enter the 2st intager :\n",
      "10\n",
      "======output========\n",
      "17\n",
      "7\n",
      "(17, 7)\n"
     ]
    }
   ],
   "source": [
    "def customDivmod(a,b):\n",
    "    print(\"======output========\")\n",
    "    print(a//b)\n",
    "    print(a%b)\n",
    "    print (divmod(a,b))\n",
    "    \n",
    "#user input    \n",
    "print(\"Plz Enter the 1st intager :\")\n",
    "a=int(input(\"\"))\n",
    "print(\"Plz Enter the 2st intager :\")\n",
    "b=int(input(\"\"))\n",
    "\n",
    "customDivmod(a,b)"
   ]
  },
  {
   "cell_type": "markdown",
   "metadata": {},
   "source": [
    "# Task 5 : Power - Mod Power\n",
    "So far, we have only heard of Python's powers. Now, we will witness them!\n",
    "\n",
    "Powers or exponents in Python can be calculated using the built-in power function. Call the power function  as shown below:\n",
    "\n",
    "> pow(a,b)\n",
    "\n",
    "or\n",
    "\n",
    "> a**b\n",
    "\n",
    "It's also possible to calculate $a^b$ mod m.\n",
    "\n",
    "> pow(a,b,m)\n",
    "\n",
    "This is very helpful in computations where you have to print the resultant % mod.\n",
    "\n",
    "**Note**: Here, a and b can be floats or negatives, but, if a third argument is present, b cannot be negative.<br>\n",
    "\n",
    "**Note**: Python has a math module that has its own pow(). It takes two arguments and returns a float. Frankly speaking, we will never use math.pow().<br>\n",
    "\n",
    "**Task**<br>\n",
    "You are given three integers: a,b , and m , respectively. Print two lines.<br>\n",
    "The first line should print the result of pow(a,b). The second line should print the result of pow(a,b,m).<br>\n",
    "\n",
    "**Input Format**\n",
    "The first line contains , the second line contains , and the third line contains .\n",
    "\n",
    "**Constraints**\n",
    "\n",
    "<ul>\n",
    "    <li> 0 < a $\\leq$ 10 </li>\n",
    "    <li> 0 < b $\\leq$ 10 </li>\n",
    "    <li> 2 $\\leq$ m $\\leq$ 1000 </li>\n",
    "</ul>\n",
    "\n",
    "**Sample Input**\n",
    "\n",
    "3<br>\n",
    "4<br>\n",
    "5<br>\n",
    "\n",
    "**Sample Output**\n",
    "\n",
    "81<br>\n",
    "1"
   ]
  },
  {
   "cell_type": "code",
   "execution_count": 5,
   "metadata": {},
   "outputs": [
    {
     "name": "stdout",
     "output_type": "stream",
     "text": [
      "Plz Enter the 1st intager :\n",
      "3\n",
      "Plz Enter the 2st intager :\n",
      "4\n",
      "Plz Enter the 3st intager :\n",
      "5\n",
      "81\n",
      "1\n"
     ]
    }
   ],
   "source": [
    "def pow(a,b,m):\n",
    "    print(\"======output========\")\n",
    "    print(a**b)\n",
    "    print(a**b % m)\n",
    "    \n",
    "#user input    \n",
    "print(\"Plz Enter the 1st intager :\")\n",
    "a=int(input(\"\"))\n",
    "print(\"Plz Enter the 2st intager :\")\n",
    "b=int(input(\"\"))\n",
    "print(\"Plz Enter the 3st intager :\")\n",
    "m=int(input(\"\"))\n",
    "pow(a,b,m)"
   ]
  },
  {
   "cell_type": "markdown",
   "metadata": {},
   "source": [
    "# Task 6 : Integers Come In All Sizes\n",
    "\n",
    "Integers in Python can be as big as the bytes in your machine's memory. There is no limit in size as there is: $2^{31}$ - 1 (c++ int) or $2^{63}$ - 1  (C++ long long int).\n",
    "\n",
    "As we know, the result of $a^b$ grows really fast with increasing b.\n",
    "\n",
    "Let's do some calculations on very large integers.\n",
    "\n",
    "**Task** <br>\n",
    "\n",
    "Read four numbers, a, b, c, and d, and print the result of $a^b$ + $c^d$.\n",
    "\n",
    "**Input Format**\n",
    "\n",
    "Integers a, b, c, and d are given on four separate lines, respectively. \n",
    "\n",
    "**Constraints**\n",
    "\n",
    "<ul>\n",
    "    <li> 1 $\\leq$ a $\\leq$ 1000 </li>\n",
    "    <li> 1 $\\leq$ b $\\leq$ 1000 </li>\n",
    "    <li> 1 $\\leq$ c $\\leq$ 1000 </li>\n",
    "    <li> 1 $\\leq$ d $\\leq$ 1000 </li>\n",
    "</ul>\n",
    "\n",
    "**Output Format**\n",
    "\n",
    "Print the result of $a^b$ + $c^d$ on one line.\n",
    "\n",
    "Sample Input\n",
    "\n",
    "9\n",
    "29\n",
    "7\n",
    "27\n",
    "\n",
    "**Sample Output**\n",
    "\n",
    "4710194409608608369201743232\n",
    "\n",
    "Note: This result is bigger than . Hence, it won't fit in the long long int of C++ or a 64-bit integer."
   ]
  },
  {
   "cell_type": "code",
   "execution_count": 4,
   "metadata": {
    "_cell_guid": "79c7e3d0-c299-4dcb-8224-4455121ee9b0",
    "_uuid": "d629ff2d2480ee46fbb7e2d37f6b5fab8052498a"
   },
   "outputs": [
    {
     "name": "stdout",
     "output_type": "stream",
     "text": [
      "9\n",
      "29\n",
      "7\n",
      "27\n",
      "4710194409608608369201743232\n"
     ]
    }
   ],
   "source": [
    "a = int(input())\n",
    "b = int(input())\n",
    "c = int(input())\n",
    "d = int(input())\n",
    "\n",
    "print(a**b + c**d)"
   ]
  },
  {
   "cell_type": "markdown",
   "metadata": {},
   "source": [
    "# Tesk 7:Triangle Quest \n",
    "You are given a positive integer N. Print a numerical triangle of height N - 1 like the one below:\n",
    "\n",
    "1<br>\n",
    "22<br>\n",
    "333<br>\n",
    "4444<br>\n",
    "55555<br>\n",
    "......\n",
    "\n",
    "Can you do it using only **arithmetic operations, a single for loop and print statement?**\n",
    "\n",
    "Use no more than two lines. The first line (the for statement) is already written for you. You have to complete the print statement.\n",
    "\n",
    "**Note:** Using anything related to strings will give a score of O.\n",
    "\n",
    "**Input Format**\n",
    "\n",
    "A single line containing integer, N.\n",
    "\n",
    "**Constraints**\n",
    "\n",
    "1 $\\leq$ N $\\leq$ 9\n",
    "\n",
    "**Output Format**\n",
    "\n",
    "Print N - 1 lines as explained above.\n",
    "\n",
    "**Sample Input**\n",
    "\n",
    "5\n",
    "\n",
    "**Sample Output**\n",
    "\n",
    "1<br>\n",
    "22<br>\n",
    "333<br>\n",
    "4444<br>"
   ]
  },
  {
   "cell_type": "code",
   "execution_count": 12,
   "metadata": {},
   "outputs": [
    {
     "name": "stdout",
     "output_type": "stream",
     "text": [
      "Plz Enter the 1st intager :\n",
      "5\n",
      "======output========\n",
      "1\n",
      "22\n",
      "333\n",
      "4444\n"
     ]
    }
   ],
   "source": [
    "def TriangleQuest(a):\n",
    "    print(\"======output========\")\n",
    "    for i in range(1, a):\n",
    "        temp=\"\"\n",
    "        for j in range(i):\n",
    "            temp+=str(i) \n",
    "        print (temp)\n",
    "    \n",
    "#user input    \n",
    "print(\"Plz Enter the 1st intager :\")\n",
    "a=int(input(\"\"))\n",
    "\n",
    "\n",
    "TriangleQuest(a)\n"
   ]
  }
 ],
 "metadata": {
  "kernelspec": {
   "display_name": "Python 3",
   "language": "python",
   "name": "python3"
  },
  "language_info": {
   "codemirror_mode": {
    "name": "ipython",
    "version": 3
   },
   "file_extension": ".py",
   "mimetype": "text/x-python",
   "name": "python",
   "nbconvert_exporter": "python",
   "pygments_lexer": "ipython3",
   "version": "3.7.4"
  }
 },
 "nbformat": 4,
 "nbformat_minor": 4
}
