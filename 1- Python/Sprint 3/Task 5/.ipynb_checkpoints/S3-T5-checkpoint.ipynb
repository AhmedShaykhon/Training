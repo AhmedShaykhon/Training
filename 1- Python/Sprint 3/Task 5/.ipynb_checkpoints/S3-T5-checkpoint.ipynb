{
 "cells": [
  {
   "cell_type": "markdown",
   "metadata": {},
   "source": [
    "# Task 5"
   ]
  },
  {
   "cell_type": "markdown",
   "metadata": {},
   "source": [
    "# Question 1 : XML 1 - Find the Score\n",
    "\n",
    "You are given a valid XML document, and you have to print its score. The score is calculated by the sum of the score of each element. For any element, the score is equal to the number of attributes it has.\n",
    "\n",
    "**Input Format**\n",
    "\n",
    "The first line contains N, the number of lines in the XML document.\n",
    "The next N lines follow containing the XML document.\n",
    "\n",
    "**Output Format**\n",
    "\n",
    "Output a single line, the integer score of the given XML document.\n",
    "\n",
    "**Sample Input**\n",
    "\n",
    "$6$<br>\n",
    "$<feed xml:lang='en'>$<br>\n",
    "$    <title>HackerRank</title>$<br>\n",
    "$    <subtitle lang='en'>Programming challenges</subtitle>$<br>\n",
    "$    <link rel='alternate' type='text/html'$<br> $href='http://hackerrank.com/'/>$<br>\n",
    "$    <updated>2013-12-25T12:00:00</updated>$<br>\n",
    "$</feed>$<br>\n",
    "\n",
    "**Sample Output**\n",
    "\n",
    "5<br>\n",
    "\n",
    "**Explanation**<br>\n",
    "\n",
    "The feed and subtitle tag have one attribute each - lang.<br>\n",
    "The title and updated tags have no attributes.<br>\n",
    "The link tag has three attributes - rel, type and href.<br>\n",
    "\n",
    "So, the total score is 1 + 1 + 3 = 5.<br>\n",
    "\n",
    "There may be any level of nesting in the XML document. To learn about XML parsing, refer here.<br>\n",
    "\n",
    "NOTE: In order to parse and generate an XML element tree, use the following code:<br>\n",
    "\n",
    "> import xml.etree.ElementTree as etree <br>\n",
    "> tree = etree.ElementTree(etree.fromstring(xml))<br>\n",
    "Here, XML is the variable containing the string.<br>\n",
    "Also, to find the number of keys in a dictionary, use the len function:<br>\n",
    "\n",
    "> dicti = {'0': 'This is zero', '1': 'This is one'}<br>\n",
    "> print (len(dicti))<br>\n",
    "\n",
    "\n",
    "2\n"
   ]
  },
  {
   "cell_type": "code",
   "execution_count": 7,
   "metadata": {},
   "outputs": [
    {
     "name": "stdout",
     "output_type": "stream",
     "text": [
      "6\n",
      "<feed xml:lang='en'>\n",
      "<title>HackerRank</title>\n",
      "<subtitle lang='en'>Programming challenges</subtitle>\n",
      "<link rel='alternate' type='text/html' href='http://hackerrank.com/'/>\n",
      "<updated>2013-12-25T12:00:00</updated>\n",
      "</feed>\n",
      "5\n"
     ]
    }
   ],
   "source": [
    "import xml.etree.ElementTree as etree\n",
    "numlines = int(input())\n",
    "XML = ''\n",
    "for _ in range(numlines):\n",
    "    XML += input()\n",
    "    \n",
    "root = etree.fromstring(XML)\n",
    "print (sum([len(i.attrib) for i in root.iter()]))"
   ]
  },
  {
   "cell_type": "markdown",
   "metadata": {},
   "source": [
    "# Question 2 : XML2 - Find the Maximum Depth\n",
    "\n",
    "You are given a valid XML document, and you have to print the maximum level of nesting in it. Take the depth of the root as 0.\n",
    "\n",
    "**Input Format**\n",
    "\n",
    "The first line contains $N$, the number of lines in the XML document.\n",
    "The next $N$ lines follow containing the XML document.\n",
    "\n",
    "**Output Format**\n",
    "\n",
    "Output a single line, the integer value of the maximum level of nesting in the XML document.\n",
    "\n",
    "**Sample Input**\n",
    "\n",
    "$6$<br>\n",
    "$<feed xml:lang='en'>$<br>\n",
    "$    <title>HackerRank</title>$<br>\n",
    "$    <subtitle lang='en'>Programming challenges</subtitle>$<br>\n",
    "$    <link rel='alternate' type='text/html' href='http://hackerrank.com/'/>$<br>\n",
    "$    <updated>2013-12-25T12:00:00</updated>$<br>\n",
    "$</feed>$<br>\n",
    "\n",
    "**Sample Output**\n",
    "\n",
    "1\n",
    "\n",
    "**Explanation**\n",
    "\n",
    "Here, the root is a feed tag, which has depth of O.\n",
    "The tags title, subtitle, link and updated all have a depth of 1.\n",
    "\n",
    "Thus, the maximum depth is 1."
   ]
  },
  {
   "cell_type": "code",
   "execution_count": 10,
   "metadata": {},
   "outputs": [
    {
     "name": "stdout",
     "output_type": "stream",
     "text": [
      "6\n",
      "<feed xml:lang='en'>\n",
      "<title>HackerRank</title>\n",
      "<subtitle lang='en'>Programming challenges</subtitle>\n",
      "<link rel='alternate' type='text/html' href='http://hackerrank.com/'/>\n",
      "<updated>2013-12-25T12:00:00</updated>\n",
      "</feed>\n",
      "1\n"
     ]
    }
   ],
   "source": [
    "maxdepth = 0\n",
    "def depth(elem, level):\n",
    "    global maxdepth\n",
    "    level += 1\n",
    "    if (maxdepth < level):\n",
    "        maxdepth = level\n",
    "    for child in elem:\n",
    "        depth(child, level)\n",
    "        \n",
    "if __name__ == '__main__':\n",
    "    n = int(input())\n",
    "    xml = \"\"\n",
    "    for i in range(n):\n",
    "        xml =  xml + input() + \"\\n\"\n",
    "    tree = etree.ElementTree(etree.fromstring(xml))\n",
    "    depth(tree.getroot(), -1)\n",
    "    print(maxdepth)"
   ]
  },
  {
   "cell_type": "markdown",
   "metadata": {},
   "source": [
    "# Question 3 : Standardize Mobile Number Using Decorators\n",
    "\n",
    "Let's dive into decorators! You are given  mobile numbers. Sort them in ascending order then print them in the standard format shown below:\n",
    "\n",
    "\n",
    "> +91 xxxxx xxxxx\n",
    "\n",
    "The given mobile numbers may have +91,91 or O written before the actual 10 digit number. Alternatively, there may not be any prefix at all.\n",
    "\n",
    "**Input Format**\n",
    "\n",
    "The first line of input contains an integer N, the number of mobile phone numbers.\n",
    "N lines follow each containing a mobile number.\n",
    "\n",
    "**Output Format**\n",
    "\n",
    "Print N mobile numbers on separate lines in the required format.\n",
    "\n",
    "**Sample Input**\n",
    "\n",
    "3<br>\n",
    "07895462130<br>\n",
    "919875641230<br>\n",
    "9195969878<br>\n",
    "\n",
    "**Sample Output**\n",
    "\n",
    "+91 78954 62130<br>\n",
    "+91 91959 69878<br>\n",
    "+91 98756 41230<br>\n",
    "\n",
    "**Concept**\n",
    "\n",
    "Like most other programming languages, Python has the concept of closures. Extending these closures gives us decorators, which are an invaluable asset. You can learn about decorators in 12 easy steps here.\n",
    "To solve the above question, make a list of the mobile numbers and pass it to a function that sorts the array in ascending order. Make a decorator that standardizes the mobile numbers and apply it to the function."
   ]
  },
  {
   "cell_type": "code",
   "execution_count": 11,
   "metadata": {},
   "outputs": [
    {
     "name": "stdout",
     "output_type": "stream",
     "text": [
      "3\n",
      "07895462130\n",
      "919875641230\n",
      "9195969878\n",
      "+91 78954 62130\n",
      "+91 91959 69878\n",
      "+91 98756 41230\n"
     ]
    }
   ],
   "source": [
    "l = [input() for _ in range(int(input()))]\n",
    "\n",
    "def wrapper(f):\n",
    "    def phone(l):\n",
    "        f([\"+91 \"+c[-10:-5]+\" \"+c[-5:] for c in l])\n",
    "    return phone\n",
    "\n",
    "@wrapper\n",
    "def sort_phone(l):\n",
    "    print(*sorted(l), sep='\\n')\n",
    "\n",
    "sort_phone(l)"
   ]
  },
  {
   "cell_type": "markdown",
   "metadata": {},
   "source": [
    "# Question 4 : Decorators 2 - Name Directory\n",
    "\n",
    "Let's use decorators to build a name directory! You are given some information about N people. Each person has a first name, last name, age and sex. Print their names in a specific format sorted by their age in ascending order i.e. the youngest person's name should be printed first. For two people of the same age, print them in the order of their input.\n",
    "\n",
    "For Henry Davids, the output should be:\n",
    "\n",
    "> Mr. Henry Davids\n",
    "\n",
    "For Mary George, the output should be:\n",
    "\n",
    "> Ms. Mary George\n",
    "\n",
    "**Input Format**\n",
    "\n",
    "The first line contains the integer N, the number of people.\n",
    "N lines follow each containing the space separated values of the first name, last name, age and sex, respectively.\n",
    "\n",
    "**Constraints**\n",
    "\n",
    "1 $\\leq$ N $\\leq$ 10\n",
    "\n",
    "**Output Format**\n",
    "\n",
    "Output N names on separate lines in the format described above in ascending order of age.\n",
    "\n",
    "**Sample Input**\n",
    "\n",
    "3<br>\n",
    "Mike Thomson 20 M<br>\n",
    "Robert Bustle 32 M<br>\n",
    "Andria Bustle 30 F<br>\n",
    "\n",
    "**Sample Output**\n",
    "\n",
    "Mr. Mike Thomson<br>\n",
    "Ms. Andria Bustle<br>\n",
    "Mr. Robert Bustle<br>\n",
    "\n",
    "**Concept**\n",
    "\n",
    "For sorting a nested list based on some parameter, you can use the itemgetter library. You can read more about it here."
   ]
  },
  {
   "cell_type": "code",
   "execution_count": 17,
   "metadata": {},
   "outputs": [
    {
     "name": "stdout",
     "output_type": "stream",
     "text": [
      "3\n",
      "Mike Thomson 20 M\n",
      "Robert Bustle 32 M\n",
      "Andria Bustle 30 F\n",
      "Mr. Mike Thomson\n",
      "Ms. Andria Bustle\n",
      "Mr. Robert Bustle\n"
     ]
    }
   ],
   "source": [
    "import operator\n",
    "\n",
    "people = [input().split() for i in range(int(input()))]\n",
    "\n",
    "def person_lister(f):\n",
    "    def inner(people):\n",
    "        return [f(person) for person in sorted(people, key=operator.itemgetter(2))]\n",
    "    return inner\n",
    "\n",
    "@person_lister\n",
    "def name_format(person):\n",
    "    return (\"Mr. \" if person[3] == \"M\" else \"Ms. \") + person[0] + \" \" + person[1]\n",
    "\n",
    "print(*name_format(people), sep='\\n')\n"
   ]
  },
  {
   "cell_type": "markdown",
   "metadata": {},
   "source": [
    "# Question 5 : Words Score\n",
    "\n",
    "In this challenge, the task is to debug the existing code to successfully execute all provided test files.\n",
    "\n",
    "Consider that vowels in the alphabet are a, e, i, o, u and y.\n",
    "\n",
    "Function score_words takes a list of lowercase words as an argument and returns a score as follows:\n",
    "\n",
    "The score of a single word is 2 if the word contains an even number of vowels. Otherwise, the score of this word is 1. The score for the whole list of words is the sum of scores of all words in the list.\n",
    "\n",
    "Debug the given function score_words such that it returns a correct score.\n",
    "\n",
    "Your function will be tested on several cases by the locked template code.\n",
    "\n",
    "**Input Format**\n",
    "\n",
    "The input is read by the provided locked code template. In the first line, there is a single integer  denoting the number of words. In the second line, there are n space-separated lowercase words.\n",
    "\n",
    "**Constraints**\n",
    "\n",
    "1 $\\leq$ n $\\leq$ 20\n",
    "\n",
    "Each word has at most 20 letters and all letters are English lowercase letters\n",
    "\n",
    "**Output Format**\n",
    "\n",
    "The output is produced by the provided and locked code template. It calls function score_words with the list of words read from the input as the argument and prints the returned score to the output.\n",
    "\n",
    "**Sample Input 0**\n",
    "\n",
    "2 <br>\n",
    "hacker book<br>\n",
    "\n",
    "**Sample Output 0**\n",
    "\n",
    "4\n",
    "\n",
    "**Explanation 0**\n",
    "\n",
    "There are two words in the input: hacker and book. The score of the word hacker is 2 because it contains an even number of vowels, i.e. 2 vowels, and the score of book is 2 for the same reason. Thus the total score is.\n",
    "\n",
    "2 + 2 = 4.\n",
    "\n",
    "**Sample Input 1**\n",
    "\n",
    "3<br>\n",
    "programming is awesome<br>\n",
    "\n",
    "**Sample Output 1**<br>\n",
    "\n",
    "4\n",
    "\n",
    "**Explanation 1**\n",
    "\n",
    "There are 3 words in the input: programming, is and awesome. The score of programming is 1 since it contains 3 vowels, an odd number of vowels. The score of is is also 1 because it has an odd number of vowels. The score of awesome is  since it contains  vowels, an even number of vowels. Thus, the total score is \n",
    "\n",
    "1 + 1 + 2 = 4."
   ]
  },
  {
   "cell_type": "code",
   "execution_count": 18,
   "metadata": {},
   "outputs": [
    {
     "name": "stdout",
     "output_type": "stream",
     "text": [
      "2\n",
      "hacker book\n",
      "4\n"
     ]
    }
   ],
   "source": [
    "def is_vowel(letter):\n",
    "    return letter in ['a', 'e', 'i', 'o', 'u', 'y']\n",
    "\n",
    "import re\n",
    "from functools import reduce\n",
    "\n",
    "def score_words(words): \n",
    "    return reduce(lambda x, y: x+y, \n",
    "       [2 if (len(re.findall('[aeiouy]',a))%2 == 0) else 1 for a in words], 0)\n",
    "\n",
    "n = int(input())\n",
    "words = input().split()\n",
    "print(score_words(words))"
   ]
  },
  {
   "cell_type": "markdown",
   "metadata": {},
   "source": [
    "# Question 6 : Arrays\n",
    "\n",
    "**Task**\n",
    "\n",
    "You are given a space separated list of numbers. <br>\n",
    "Your task is to print a reversed NumPy array with the element type float.<br>\n",
    "\n",
    "**Input Format**\n",
    "\n",
    "A single line of input containing space separated numbers.\n",
    "\n",
    "**Output Format**\n",
    "\n",
    "Print the reverse NumPy array with type float.\n",
    "\n",
    "**Sample Input**\n",
    "\n",
    "1 2 3 4 -8 -10\n",
    "<br>\n",
    "**Sample Output**\n",
    "\n",
    "[-10.  -8.   4.   3.   2.   1.]"
   ]
  },
  {
   "cell_type": "code",
   "execution_count": 22,
   "metadata": {},
   "outputs": [
    {
     "name": "stdout",
     "output_type": "stream",
     "text": [
      "1 2 3 4 -8 -10\n",
      "[-10.  -8.   4.   3.   2.   1.]\n"
     ]
    }
   ],
   "source": [
    "import numpy\n",
    "\n",
    "print (numpy.flipud(numpy.array(input().split(),float)))"
   ]
  },
  {
   "cell_type": "markdown",
   "metadata": {},
   "source": [
    "# Question 7 : Shape and Reshape\n",
    "\n",
    "**Task**\n",
    "\n",
    "You are given a space separated list of nine integers. Your task is to convert this list into a 3X3 NumPy array.\n",
    "\n",
    "**Input Format**\n",
    "\n",
    "A single line of input containing  space separated integers.\n",
    "\n",
    "**Output Format**\n",
    "\n",
    "Print the 3X3 NumPy array.\n",
    "\n",
    "**Sample Input**\n",
    "\n",
    "1 2 3 4 5 6 7 8 9<br>\n",
    "\n",
    "**Sample Output**\n",
    "\n",
    "[[1 2 3]<br>\n",
    " [4 5 6]<br>\n",
    " [7 8 9]]<br>"
   ]
  },
  {
   "cell_type": "code",
   "execution_count": 23,
   "metadata": {},
   "outputs": [
    {
     "name": "stdout",
     "output_type": "stream",
     "text": [
      "1 2 3 4 5 6 7 8 9\n",
      "[[1 2 3]\n",
      " [4 5 6]\n",
      " [7 8 9]]\n"
     ]
    }
   ],
   "source": [
    "import numpy as np\n",
    "print(np.array(input().split(),int).reshape(3,3))"
   ]
  },
  {
   "cell_type": "markdown",
   "metadata": {},
   "source": [
    "# Question 8 : Default Arguments\n",
    "\n",
    "In this challenge, the task is to debug the existing code to successfully execute all provided test files.\n",
    "\n",
    "Python supports a useful concept of default argument values. For each keyword argument of a function, we can assign a default value which is going to be used as the value of said argument if the function is called without it. For example, consider the following increment function:\n",
    "\n",
    "> def increment_by(n, increment=1):<br>\n",
    ">     return n + increment<br>\n",
    "\n",
    "\n",
    "The functions works like this:<br>\n",
    "\n",
    "> increment_by(5, 2)<br>\n",
    "7\n",
    "> increment_by(4)<br>\n",
    "5\n",
    ">\n",
    "\n",
    "Debug the given function print_from_stream using the default value of one of its arguments.\n",
    "\n",
    "The function has the following signature:\n",
    "\n",
    "> def print_from_stream(n, stream)\n",
    "\n",
    "This function should print the n first  values returned by get_next() method of stream object provided as an argument. Each of these values should be printed in a separate line.\n",
    "\n",
    "Whenever the function is called without the stream argument, it should use an instance of EvenStream class defined in the code stubs below as the value of stream.\n",
    "\n",
    "Your function will be tested on several cases by the locked template code.\n",
    "\n",
    "**Input Format**\n",
    "\n",
    "The input is read by the provided locked code template. In the first line, there is a single integer q denoting the number of queries. Each of the following q lines contains a stream_name followed by integer n, and it corresponds to a single test for your function.\n",
    "\n",
    "**Constraints**\n",
    "\n",
    "1 $\\leq$ q $\\leq$ 100 <br>\n",
    "\n",
    "1 $\\leq$ n $\\leq$ 10\n",
    "\n",
    "\n",
    "**Output Format**\n",
    "\n",
    "The output is produced by the provided and locked code template. For each of the queries (stream_name, n), if the stream_name is even then print_from_stream(n) is called. Otherwise, if the stream_name is odd, then print_from_stream(n, OddStream()) is called.\n",
    "\n",
    "**Sample Input 0**\n",
    "\n",
    "3<br>\n",
    "odd 2<br>\n",
    "even 3<br>\n",
    "odd 5<br>\n",
    "\n",
    "**Sample Output 0**\n",
    "\n",
    "1<br>\n",
    "3<br>\n",
    "0<br>\n",
    "2<br>\n",
    "4<br>\n",
    "1<br>\n",
    "3<br>\n",
    "5<br>\n",
    "7<br>\n",
    "9<br>\n",
    "\n",
    "**Explanation 0**\n",
    "\n",
    "There are 3 queries in the sample.\n",
    "\n",
    "In the first query, the function print_from_stream(2, OddStream()) is exectuted, which leads to printing values 1 and 3 in separated lines as the first two non-negative odd numbers.\n",
    "\n",
    "In the second query, the function print_from_stream(3) is exectuted, which leads to printing values 2,4 and 6 in separated lines as the first three non-negative even numbers.\n",
    "\n",
    "In the third query, the function print_from_stream(5, OddStream()) is exectuted, which leads to printing values 1,3,5,7 and 9 in separated lines as the first five non-negative odd numbers."
   ]
  },
  {
   "cell_type": "code",
   "execution_count": 27,
   "metadata": {},
   "outputs": [
    {
     "name": "stdout",
     "output_type": "stream",
     "text": [
      "3\n",
      "odd 2\n",
      "1\n",
      "3\n",
      "even 3\n",
      "0\n",
      "2\n",
      "4\n",
      "odd 5\n",
      "1\n",
      "3\n",
      "5\n",
      "7\n",
      "9\n"
     ]
    }
   ],
   "source": [
    "class EvenStream(object):\n",
    "\n",
    "    def __init__(self):\n",
    "        self.current = 0\n",
    "\n",
    "    def get_next(self):\n",
    "        to_return = self.current\n",
    "        self.current += 2\n",
    "        return to_return\n",
    "\n",
    "class OddStream(object):\n",
    "\n",
    "    def __init__(self):\n",
    "        self.current = 1\n",
    "\n",
    "    def get_next(self):\n",
    "        to_return = self.current\n",
    "        self.current += 2\n",
    "        return to_return\n",
    "\n",
    "def print_from_stream(n, stream=None):\n",
    "\n",
    "    if stream is None:\n",
    "        stream = EvenStream()\n",
    "\n",
    "    for _ in range(n):\n",
    "        print (stream.get_next())\n",
    "\n",
    "queries = int(input())\n",
    "\n",
    "for _ in range(queries):\n",
    "    stream_name, n = input().split()\n",
    "    n = int(n)\n",
    "    if stream_name == \"even\":\n",
    "        print_from_stream(n)\n",
    "    else:\n",
    "        print_from_stream(n, OddStream())\n"
   ]
  },
  {
   "cell_type": "markdown",
   "metadata": {},
   "source": [
    "# Question 9 : Transpose and Flatten\n",
    "\n",
    "**Task**\n",
    "\n",
    "You are given a N X M integer array matrix with space separated elements (N = rows and M = columns).\n",
    "Your task is to print the transpose and flatten results.\n",
    "\n",
    "**Input Format**\n",
    "\n",
    "The first line contains the space separated values of N and M.\n",
    "The next  lines contains the space separated elements of  columns.\n",
    "\n",
    "**Output Format**\n",
    "\n",
    "First, print the transpose array and then print the flatten.\n",
    "\n",
    "**Sample Input**\n",
    "\n",
    "2 2<br>\n",
    "1 2<br>\n",
    "3 4<br>\n",
    "\n",
    "**Sample Output**\n",
    "\n",
    "[[1 3]<br>\n",
    " [2 4]]<br>\n",
    "[1 2 3 4]<br>"
   ]
  },
  {
   "cell_type": "code",
   "execution_count": 28,
   "metadata": {},
   "outputs": [
    {
     "name": "stdout",
     "output_type": "stream",
     "text": [
      "2 2\n",
      "1 2\n",
      "3 4\n",
      "[[1 3]\n",
      " [2 4]]\n",
      "[1 2 3 4]\n"
     ]
    }
   ],
   "source": [
    "n, m = map(int, input().split())\n",
    "array = numpy.array([input().strip().split() for _ in range(n)], int)\n",
    "print (array.transpose())\n",
    "print (array.flatten())"
   ]
  },
  {
   "cell_type": "markdown",
   "metadata": {},
   "source": [
    "# Question 10 : Concatenate\n",
    "\n",
    "**Task**\n",
    "\n",
    "You are given two integer arrays of size N X P and M X P ( N & M are rows, and P is the column). Your task is to concatenate the arrays along axis O.\n",
    "\n",
    "**Input Format**\n",
    "\n",
    "The first line contains space separated integers N , M and P.\n",
    "The next N lines contains the space separated elements of the P columns.\n",
    "After that, the next M lines contains the space separated elements of the P columns.\n",
    "\n",
    "**Output Format**\n",
    "\n",
    "Print the concatenated array of size (N + M) X P.\n",
    "\n",
    "**Sample Input**\n",
    "\n",
    "4 3 2<br>\n",
    "1 2<br>\n",
    "1 2 <br>\n",
    "1 2<br>\n",
    "1 2<br>\n",
    "3 4<br>\n",
    "3 4<br>\n",
    "3 4 <br>\n",
    "\n",
    "**Sample Output**\n",
    "\n",
    "[[1 2]<br>\n",
    " [1 2]<br>\n",
    " [1 2]<br>\n",
    " [1 2]<br>\n",
    " [3 4]<br>\n",
    " [3 4]<br>\n",
    " [3 4]] <br>"
   ]
  },
  {
   "cell_type": "code",
   "execution_count": 30,
   "metadata": {},
   "outputs": [
    {
     "name": "stdout",
     "output_type": "stream",
     "text": [
      "4 3 2\n",
      "1 2\n",
      "1 2 \n",
      "1 2 \n",
      "1 2 \n",
      "3 4 \n",
      "3 4 \n",
      "3 4\n",
      "[[1 2]\n",
      " [1 2]\n",
      " [1 2]\n",
      " [1 2]\n",
      " [3 4]\n",
      " [3 4]\n",
      " [3 4]]\n"
     ]
    }
   ],
   "source": [
    "import numpy as np\n",
    "a, b, c = map(int,input().split())\n",
    "arrA = np.array([input().split() for _ in range(a)],int)\n",
    "arrB = np.array([input().split() for _ in range(b)],int)\n",
    "print(np.concatenate((arrA, arrB), axis = 0))\n"
   ]
  },
  {
   "cell_type": "markdown",
   "metadata": {},
   "source": [
    "# Question 11 : Zeros and Ones\n",
    "\n",
    "**Task**\n",
    "\n",
    "You are given the shape of the array in the form of space-separated integers, each integer representing the size of different dimensions, your task is to print an array of the given shape and integer type using the tools numpy.zeros and numpy.ones.\n",
    "\n",
    "**Input Format**\n",
    "\n",
    "A single line containing the space-separated integers.\n",
    "\n",
    "**Constraints**\n",
    "\n",
    "1 $\\leq$ each integer $\\leq$ 3 <br>\n",
    "\n",
    "**Output Format**\n",
    "\n",
    "First, print the array using the numpy.zeros tool and then print the array with the numpy.ones tool.\n",
    "\n",
    "**Sample Input 0**\n",
    "\n",
    "3 3 3 <br>\n",
    "\n",
    "**Sample Output 0**\n",
    "\n",
    "[[[0 0 0]<br>\n",
    "  [0 0 0]<br>\n",
    "  [0 0 0]]<br>\n",
    "\n",
    " [[0 0 0]<br>\n",
    "  [0 0 0]<br>\n",
    "  [0 0 0]]<br>\n",
    "\n",
    " [[0 0 0]<br>\n",
    "  [0 0 0]<br>\n",
    "  [0 0 0]]]<br>\n",
    "[[[1 1 1]<br>\n",
    "  [1 1 1]<br>\n",
    "  [1 1 1]]<br>\n",
    "\n",
    " [[1 1 1]<br>\n",
    "  [1 1 1]<br>\n",
    "  [1 1 1]]<br>\n",
    "\n",
    " [[1 1 1]<br>\n",
    "  [1 1 1]<br>\n",
    "  [1 1 1]]]<br>\n",
    "\n",
    "**Explanation 0**\n",
    "\n",
    "Print the array built using numpy.zeros and numpy.ones tools and you get the result as shown."
   ]
  },
  {
   "cell_type": "code",
   "execution_count": 31,
   "metadata": {},
   "outputs": [
    {
     "name": "stdout",
     "output_type": "stream",
     "text": [
      "3 3 3\n",
      "[[[0 0 0]\n",
      "  [0 0 0]\n",
      "  [0 0 0]]\n",
      "\n",
      " [[0 0 0]\n",
      "  [0 0 0]\n",
      "  [0 0 0]]\n",
      "\n",
      " [[0 0 0]\n",
      "  [0 0 0]\n",
      "  [0 0 0]]]\n",
      "[[[1 1 1]\n",
      "  [1 1 1]\n",
      "  [1 1 1]]\n",
      "\n",
      " [[1 1 1]\n",
      "  [1 1 1]\n",
      "  [1 1 1]]\n",
      "\n",
      " [[1 1 1]\n",
      "  [1 1 1]\n",
      "  [1 1 1]]]\n"
     ]
    }
   ],
   "source": [
    "nums = tuple(map(int, input().split()))\n",
    "print (numpy.zeros(nums, dtype = numpy.int))\n",
    "print (numpy.ones(nums, dtype = numpy.int))"
   ]
  },
  {
   "cell_type": "markdown",
   "metadata": {},
   "source": [
    "# Question 12 : Eye and Identity\n",
    "\n",
    "**Task**\n",
    "\n",
    "Your task is to print an array of size N X M with its main diagonal elements as 1's and 0's everywhere else.\n",
    "\n",
    "**Input Format**\n",
    "\n",
    "A single line containing the space separated values of N and M.\n",
    "N denotes the rows.\n",
    "M denotes the columns.\n",
    "\n",
    "**Output Format**\n",
    "\n",
    "Print the desired N X M array.\n",
    "\n",
    "**Sample Input**\n",
    "\n",
    "3 3<br>\n",
    "\n",
    "**Sample Output**\n",
    "\n",
    "[[ 1.  0.  0.]<br>\n",
    " [ 0.  1.  0.]<br>\n",
    " [ 0.  0.  1.]]<br>"
   ]
  },
  {
   "cell_type": "code",
   "execution_count": 32,
   "metadata": {},
   "outputs": [
    {
     "name": "stdout",
     "output_type": "stream",
     "text": [
      "3 3\n",
      "[[1. 0. 0.]\n",
      " [0. 1. 0.]\n",
      " [0. 0. 1.]]\n"
     ]
    }
   ],
   "source": [
    "m,n = (map(int, input().split(\" \")))\n",
    "print(np.eye(m,n))"
   ]
  },
  {
   "cell_type": "markdown",
   "metadata": {},
   "source": [
    "# Question 13 : Array Mathematics\n",
    "\n",
    "**Task**\n",
    "\n",
    "You are given two integer arrays,  and  of dimensions N X M.\n",
    "Your task is to perform the following operations:\n",
    "\n",
    "Add (A + B)\n",
    "Subtract (A - B)\n",
    "Multiply (A * B)\n",
    "Integer Division (A / B)\n",
    "Mod (A % B)\n",
    "Power (A ** B)\n",
    "\n",
    "**Input Format**\n",
    "\n",
    "The first line contains two space separated integers, N and M.\n",
    "The next N lines contains M space separated integers of array A.\n",
    "The following N lines contains M space separated integers of array B.\n",
    "\n",
    "**Output Format**\n",
    "\n",
    "Print the result of each operation in the given order under Task.\n",
    "\n",
    "**Sample Input**\n",
    "\n",
    "1 4 <br>\n",
    "1 2 3 4<br>\n",
    "5 6 7 8<br>\n",
    "\n",
    "**Sample Output**\n",
    "\n",
    "[[ 6  8 10 12]]<br>\n",
    "[[-4 -4 -4 -4]]<br>\n",
    "[[ 5 12 21 32]]<br>\n",
    "[[0 0 0 0]]<br>\n",
    "[[1 2 3 4]]<br>\n",
    "[[    1    64  2187 65536]] <br>\n",
    "Use // for division in Python 3."
   ]
  },
  {
   "cell_type": "code",
   "execution_count": 33,
   "metadata": {},
   "outputs": [
    {
     "name": "stdout",
     "output_type": "stream",
     "text": [
      "1 4 \n",
      "1 2 3 4 \n",
      "5 6 7 8\n",
      "[[ 6  8 10 12]]\n",
      "[[-4 -4 -4 -4]]\n",
      "[[ 5 12 21 32]]\n",
      "[[0 0 0 0]]\n",
      "[[1 2 3 4]]\n",
      "[[    1    64  2187 65536]]\n"
     ]
    }
   ],
   "source": [
    "import numpy as np\n",
    "n, m = map(int, input().split())\n",
    "a, b = (np.array([input().split() for _ in range(n)], \n",
    "             dtype=int) for _ in range(2))\n",
    "print(a+b, a-b, a*b, a//b, a%b, a**b, sep='\\n')\n"
   ]
  },
  {
   "cell_type": "markdown",
   "metadata": {},
   "source": [
    "# Question 14 : Floor, Ceil and Rint\n",
    "\n",
    "**Task**\n",
    "\n",
    "You are given a 1-D array, A. Your task is to print the $floor, ceil and rint$  of all the elements of A.\n",
    "\n",
    "**Input Format**\n",
    "\n",
    "A single line of input containing the space separated elements of array A.\n",
    "\n",
    "**Output Format**\n",
    "\n",
    "On the first line, print the  of A. <br>\n",
    "On the second line, print the  of A.<br>\n",
    "On the third line, print the  of A.<br>\n",
    "\n",
    "**Sample Input**\n",
    "\n",
    "1.1 2.2 3.3 4.4 5.5 6.6 7.7 8.8 9.9<br>\n",
    "\n",
    "**Sample Output**\n",
    "\n",
    "[ 1.  2.  3.  4.  5.  6.  7.  8.  9.]<br>\n",
    "[  2.   3.   4.   5.   6.   7.   8.   9.  10.]<br>\n",
    "[  1.   2.   3.   4.   6.   7.   8.   9.  10.]<br>"
   ]
  },
  {
   "cell_type": "code",
   "execution_count": 34,
   "metadata": {},
   "outputs": [
    {
     "name": "stdout",
     "output_type": "stream",
     "text": [
      "1.1 2.2 3.3 4.4 5.5 6.6 7.7 8.8 9.9\n",
      "[ 1.  2.  3.  4.  5.  6.  7.  8.  9.]\n",
      "[  2.   3.   4.   5.   6.   7.   8.   9.  10.]\n",
      "[  1.   2.   3.   4.   6.   7.   8.   9.  10.]\n"
     ]
    }
   ],
   "source": [
    "import numpy\n",
    "\n",
    "numpy.set_printoptions(sign=' ')\n",
    "\n",
    "a = numpy.array(input().split(),float)\n",
    "\n",
    "print(numpy.floor(a))\n",
    "print(numpy.ceil(a))\n",
    "print(numpy.rint(a))"
   ]
  },
  {
   "cell_type": "markdown",
   "metadata": {},
   "source": [
    "# Question 15 : Sum and Prod\n",
    "\n",
    "**Task**\n",
    "\n",
    "You are given a 2-D array with dimensions N X M.\n",
    "Your task is to perform the $sum$ tool over axis 0 and then find the $product$ of that result.\n",
    "\n",
    "**Input Format**\n",
    "\n",
    "The first line of input contains space separated values of N and M.\n",
    "The next N lines contains M space separated integers.\n",
    "\n",
    "**Output Format**\n",
    "\n",
    "Compute the sum along axis 0. Then, print the product of that sum.\n",
    "\n",
    "**Sample Input**\n",
    "\n",
    "2 2<br>\n",
    "1 2<br>\n",
    "3 4<br>\n",
    "\n",
    "**Sample Output**\n",
    "\n",
    "24<br>\n",
    "\n",
    "**Explanation**\n",
    "\n",
    "The sum along axis 0 = [4 6]<br>\n",
    "The product of this sum = 24"
   ]
  },
  {
   "cell_type": "code",
   "execution_count": 35,
   "metadata": {},
   "outputs": [
    {
     "name": "stdout",
     "output_type": "stream",
     "text": [
      "2 2 \n",
      "1 2 \n",
      "3 4\n",
      "24\n"
     ]
    }
   ],
   "source": [
    "import numpy\n",
    "N, M = map(int, input().split())\n",
    "A = numpy.array([input().split() for _ in range(N)],int)\n",
    "print(numpy.prod(numpy.sum(A, axis=0), axis=0))"
   ]
  },
  {
   "cell_type": "markdown",
   "metadata": {},
   "source": [
    "# Question 16 : Min and Max\n",
    "\n",
    "**Task**\n",
    "\n",
    "You are given a 2-D array with dimensions N X M.\n",
    "Your task is to perform the min function over axis 1 and then find the max of that.\n",
    "\n",
    "**Input Format**\n",
    "\n",
    "The first line of input contains the space separated values of N and M.\n",
    "The next N lines contains M space separated integers.\n",
    "\n",
    "**Output Format**\n",
    "\n",
    "Compute the min along axis 1 and then print the max of that result.\n",
    "\n",
    "**Sample Input**\n",
    "\n",
    "4 2<br>\n",
    "2 5<br>\n",
    "3 7<br>\n",
    "1 3<br>\n",
    "4 0<br>\n",
    "\n",
    "**Sample Output**\n",
    "\n",
    "3<br>\n",
    "\n",
    "**Explanation**\n",
    "\n",
    "The min along axis 1 = [2,3,1,0] \n",
    "The max of  [2,3,1,0] = 3"
   ]
  },
  {
   "cell_type": "code",
   "execution_count": 36,
   "metadata": {},
   "outputs": [
    {
     "name": "stdout",
     "output_type": "stream",
     "text": [
      "4 2 \n",
      "2 5 \n",
      "3 7 \n",
      "1 3 \n",
      "4 0\n",
      "3\n"
     ]
    }
   ],
   "source": [
    "import numpy as np\n",
    "print(np.max(np.min(np.array([input().split() \n",
    "     for _ in range(int(input().split()[0]))],int),axis=1)))"
   ]
  },
  {
   "cell_type": "markdown",
   "metadata": {},
   "source": [
    "# Question 17 : Mean, Var, and Std\n",
    "\n",
    "**Task**\n",
    "\n",
    "You are given a 2-D array of size N X M.\n",
    "Your task is to find:\n",
    "\n",
    "The mean along axis 1\n",
    "The var along axis 0\n",
    "The std along axis $None$\n",
    "\n",
    "**Input Format**\n",
    "\n",
    "The first line contains the space separated values of N and M.\n",
    "The next N lines contains M space separated integers.\n",
    "\n",
    "**Output Format**\n",
    "\n",
    "First, print the mean.<br>\n",
    "Second, print the var.<br>\n",
    "Third, print the std.<br>\n",
    "\n",
    "**Sample Input**\n",
    "\n",
    "2 2<br>\n",
    "1 2<br>\n",
    "3 4<br>\n",
    "\n",
    "**Sample Output**\n",
    "\n",
    "[ 1.5  3.5]<br>\n",
    "[ 1.  1.]<br>\n",
    "1.11803398875"
   ]
  },
  {
   "cell_type": "code",
   "execution_count": 37,
   "metadata": {},
   "outputs": [
    {
     "name": "stdout",
     "output_type": "stream",
     "text": [
      "2 2\n",
      "1 2 \n",
      "3 4\n",
      "[ 1.5  3.5]\n",
      "[ 1.  1.]\n",
      "1.11803398875\n"
     ]
    }
   ],
   "source": [
    "import numpy as np \n",
    "\n",
    "n,m = map(int, input().split())\n",
    "b = []\n",
    "for i in range(n):\n",
    "    a = list(map(int, input().split()))\n",
    "    b.append(a)\n",
    "\n",
    "b = np.array(b)\n",
    "\n",
    "np.set_printoptions(legacy='1.13')\n",
    "print(np.mean(b, axis = 1))\n",
    "print(np.var(b, axis = 0))\n",
    "print(np.std(b))"
   ]
  },
  {
   "cell_type": "markdown",
   "metadata": {},
   "source": [
    "# Question 18 : Dot and Cross\n",
    "\n",
    "\n",
    "**Task**\n",
    "\n",
    "You are given two arrays A and B. Both have dimensions of N X N.\n",
    "Your task is to compute their matrix product.\n",
    "\n",
    "**Input Format**\n",
    "\n",
    "The first line contains the integer N.\n",
    "The next N lines contains N space separated integers of array A.\n",
    "The following N lines contains N space separated integers of array B.\n",
    "\n",
    "**Output Format**\n",
    "\n",
    "Print the matrix multiplication of A and B.\n",
    "\n",
    "**Sample Input**\n",
    "\n",
    "2<br>\n",
    "1 2<br>\n",
    "3 4<br>\n",
    "1 2<br>\n",
    "3 4<br>\n",
    "\n",
    "**Sample Output**\n",
    "\n",
    "[[ 7 10]<br>\n",
    " [15 22]]<br>"
   ]
  },
  {
   "cell_type": "code",
   "execution_count": 38,
   "metadata": {},
   "outputs": [
    {
     "name": "stdout",
     "output_type": "stream",
     "text": [
      "2 \n",
      "1 2 \n",
      "3 4 \n",
      "1 2 \n",
      "3 4\n",
      "[[ 7 10]\n",
      " [15 22]]\n"
     ]
    }
   ],
   "source": [
    "from __future__ import print_function\n",
    "import numpy\n",
    "n=int(input())\n",
    "a = numpy.array([input().split() for _ in range(n)],int)\n",
    "b = numpy.array([input().split() for _ in range(n)],int)\n",
    "m = numpy.dot(a,b)\n",
    "print (m)"
   ]
  },
  {
   "cell_type": "markdown",
   "metadata": {},
   "source": [
    "# Question 19 : Inner and Outer\n",
    "\n",
    "**Task**\n",
    "\n",
    "You are given two arrays: A and B.\n",
    "Your task is to compute their inner and outer product.\n",
    "\n",
    "**Input Format**\n",
    "\n",
    "The first line contains the space separated elements of array A.\n",
    "The second line contains the space separated elements of array B.\n",
    "\n",
    "**Output Format**\n",
    "\n",
    "First, print the inner product.\n",
    "Second, print the outer product.\n",
    "\n",
    "**Sample Input**\n",
    "\n",
    "0 1<br>\n",
    "2 3<br>\n",
    "\n",
    "**Sample Output**\n",
    "\n",
    "3<br>\n",
    "[[0 0]<br>\n",
    " [2 3]]<br>"
   ]
  },
  {
   "cell_type": "code",
   "execution_count": 39,
   "metadata": {},
   "outputs": [
    {
     "name": "stdout",
     "output_type": "stream",
     "text": [
      "0 1 \n",
      "2 3\n",
      "3\n",
      "[[0 0]\n",
      " [2 3]]\n"
     ]
    }
   ],
   "source": [
    "import numpy as np\n",
    "A = np.array(input().split(), int)\n",
    "B = np.array(input().split(), int)\n",
    "print(np.inner(A,B), np.outer(A,B), sep='\\n')"
   ]
  },
  {
   "cell_type": "markdown",
   "metadata": {},
   "source": [
    "# Question 20 : Polynomials\n",
    "\n",
    "**Task**\n",
    "\n",
    "You are given the coefficients of a polynomial P.\n",
    "Your task is to find the value of P at point x.\n",
    "\n",
    "**Input Format**\n",
    "\n",
    "The first line contains the space separated value of the coefficients in P.\n",
    "The second line contains the value of x.\n",
    "\n",
    "**Output Format**\n",
    "\n",
    "Print the desired value.\n",
    "\n",
    "**Sample Input**\n",
    "\n",
    "1.1 2 3<br>\n",
    "0<br>\n",
    "\n",
    "**Sample Output**\n",
    "\n",
    "3.0"
   ]
  },
  {
   "cell_type": "code",
   "execution_count": 46,
   "metadata": {},
   "outputs": [
    {
     "name": "stdout",
     "output_type": "stream",
     "text": [
      "1.1 2 3\n",
      "0\n",
      "3.0\n"
     ]
    }
   ],
   "source": [
    "n = list(map(float,input().split()));\n",
    "m = input();\n",
    "print(numpy.polyval(n,int(m)));"
   ]
  },
  {
   "cell_type": "markdown",
   "metadata": {},
   "source": [
    "# Question 21 : Linear Algebra\n",
    "\n",
    "**Task**\n",
    "\n",
    "You are given a square matrix A with dimensions NXN. Your task is to find the determinant. Note: Round the answer to 2 places after the decimal.\n",
    "\n",
    "**Input Format**\n",
    "\n",
    "The first line contains the integer N.\n",
    "The next N lines contains the N space separated elements of array A.\n",
    "\n",
    "**Output Format**\n",
    "\n",
    "Print the determinant of A.\n",
    "\n",
    "**Sample Input**\n",
    "\n",
    "2<br>\n",
    "1.1 1.1<br>\n",
    "1.1 1.1<br>\n",
    "\n",
    "**Sample Output**\n",
    "\n",
    "0.0"
   ]
  },
  {
   "cell_type": "code",
   "execution_count": 47,
   "metadata": {},
   "outputs": [
    {
     "name": "stdout",
     "output_type": "stream",
     "text": [
      "2 \n",
      "1.1 1.1 \n",
      "1.1 1.1\n",
      "0.0\n"
     ]
    }
   ],
   "source": [
    "import numpy\n",
    "print(round(numpy.linalg.det(numpy.array([list(map(float,input().split())) for _ in range(int(input()))])),2))"
   ]
  }
 ],
 "metadata": {
  "kernelspec": {
   "display_name": "Python 3",
   "language": "python",
   "name": "python3"
  },
  "language_info": {
   "codemirror_mode": {
    "name": "ipython",
    "version": 3
   },
   "file_extension": ".py",
   "mimetype": "text/x-python",
   "name": "python",
   "nbconvert_exporter": "python",
   "pygments_lexer": "ipython3",
   "version": "3.7.4"
  }
 },
 "nbformat": 4,
 "nbformat_minor": 2
}
