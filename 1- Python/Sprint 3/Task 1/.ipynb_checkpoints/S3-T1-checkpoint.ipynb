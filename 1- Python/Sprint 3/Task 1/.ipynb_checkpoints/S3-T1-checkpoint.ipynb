{
 "cells": [
  {
   "cell_type": "markdown",
   "metadata": {},
   "source": [
    "# Task 1"
   ]
  },
  {
   "cell_type": "markdown",
   "metadata": {},
   "source": [
    "# Question 1 : itertools.product()\n",
    "\n",
    "\n",
    "**Task**\n",
    "\n",
    "You are given a two lists A and B. Your task is to compute their cartesian product A X B.\n",
    "\n",
    "**Example**\n",
    "\n",
    "A = [1, 2]\n",
    "B = [3, 4]\n",
    "\n",
    "AxB = [(1, 3), (1, 4), (2, 3), (2, 4)]\n",
    "Note:  and  are sorted lists, and the cartesian product's tuples should be output in sorted order.\n",
    "\n",
    "**Input Format**\n",
    "\n",
    "The first line contains the space separated elements of list .\n",
    "The second line contains the space separated elements of list .\n",
    "\n",
    "Both lists have no duplicate integer elements.\n",
    "\n",
    "**Constraints**\n",
    "\n",
    "0 < A < 30 <br>\n",
    "0 < B < 30\n",
    "\n",
    "**Output Format**\n",
    "\n",
    "Output the space separated tuples of the cartesian product.\n",
    "\n",
    "**Sample Input**\n",
    "\n",
    " 1 2<br>\n",
    " 3 4<br>\n",
    "\n",
    "**Sample Output**\n",
    "\n",
    " (1, 3) (1, 4) (2, 3) (2, 4)"
   ]
  },
  {
   "cell_type": "code",
   "execution_count": 3,
   "metadata": {},
   "outputs": [
    {
     "name": "stdout",
     "output_type": "stream",
     "text": [
      "1 2\n",
      "3 4\n",
      "(1, 3) (1, 4) (2, 3) (2, 4) "
     ]
    }
   ],
   "source": [
    "from itertools import product\n",
    "A = map(int,input().split())\n",
    "B = map(int,input().split())\n",
    "\n",
    "for item in product(A,B):\n",
    "    print(item,end=' ')"
   ]
  },
  {
   "cell_type": "markdown",
   "metadata": {},
   "source": [
    "# Question 2 : itertools.permutations()\n",
    "\n",
    "\n",
    "\n",
    "**Task**\n",
    "\n",
    "You are given a string S.\n",
    "Your task is to print all possible permutations of size K of the string in lexicographic sorted order.\n",
    "\n",
    "**Input Format**\n",
    "\n",
    "A single line containing the space separated string  and the integer value .\n",
    "\n",
    "**Constraints**\n",
    "\n",
    "0 < K $\\leq$ 30 <br>\n",
    "The string contains only UPPERCASE characters.\n",
    "\n",
    "**Output Format**\n",
    "\n",
    "Print the permutations of the string S on separate lines.\n",
    "\n",
    "**Sample Input**\n",
    "\n",
    "HACK 2 <br>\n",
    " \n",
    "**Sample Output**\n",
    "\n",
    "AC <br>\n",
    "AH <br>\n",
    "AK <br>\n",
    "CA <br>\n",
    "CH <br>\n",
    "CK <br>\n",
    "HA <br>\n",
    "HC <br>\n",
    "HK <br>\n",
    "KA <br>\n",
    "KC <br>\n",
    "KH <br>\n",
    "\n",
    "**Explanation**\n",
    "\n",
    "All possible size 2 permutations of the string **\"HACK\"** are printed in lexicographic sorted order.\n"
   ]
  },
  {
   "cell_type": "code",
   "execution_count": 5,
   "metadata": {
    "scrolled": true
   },
   "outputs": [
    {
     "name": "stdout",
     "output_type": "stream",
     "text": [
      "HACK 2\n",
      "AC\n",
      "AH\n",
      "AK\n",
      "CA\n",
      "CH\n",
      "CK\n",
      "HA\n",
      "HC\n",
      "HK\n",
      "KA\n",
      "KC\n",
      "KH\n"
     ]
    }
   ],
   "source": [
    "from itertools import *\n",
    "S, k = input().split()\n",
    "for i in permutations(sorted(S),int(k)):\n",
    "    print(\"\".join(i))"
   ]
  },
  {
   "cell_type": "markdown",
   "metadata": {},
   "source": [
    "# Question 3 : itertools.combinations()\n",
    "\n",
    "**Task**\n",
    "\n",
    "You are given a string S.\n",
    "Your task is to print all possible combinations, up to size K, of the string in lexicographic sorted order.\n",
    "\n",
    "**Input Format**\n",
    "\n",
    "A single line containing the string  and integer value  separated by a space.\n",
    "\n",
    "**Constraints**\n",
    "\n",
    "\n",
    "0 < K $\\leq$ len(S) <br>\n",
    "The string contains only UPPERCASE characters.\n",
    "\n",
    "**Output Format**\n",
    "\n",
    "Print the different combinations of string  on separate lines.\n",
    "\n",
    "**Sample Input**\n",
    "\n",
    "HACK 2\n",
    "\n",
    "**Sample Output**\n",
    "\n",
    "A <br>\n",
    "C <br>\n",
    "H <br>\n",
    "K <br>\n",
    "AC <br>\n",
    "AH <br>\n",
    "AK <br>\n",
    "CH <br>\n",
    "CK <br>\n",
    "HK <br>"
   ]
  },
  {
   "cell_type": "code",
   "execution_count": 6,
   "metadata": {
    "scrolled": true
   },
   "outputs": [
    {
     "name": "stdout",
     "output_type": "stream",
     "text": [
      "HACK 2\n",
      "A\n",
      "C\n",
      "H\n",
      "K\n",
      "AC\n",
      "AH\n",
      "AK\n",
      "CH\n",
      "CK\n",
      "HK\n"
     ]
    }
   ],
   "source": [
    "# Enter your code here. Read input from STDIN. Print output to STDOUT\n",
    "from itertools import combinations\n",
    "\n",
    "s , n  = input().split()\n",
    "\n",
    "for i in range(1, int(n)+1):\n",
    "    for j in combinations(sorted(s), i):\n",
    "        print(''.join(j))"
   ]
  },
  {
   "cell_type": "markdown",
   "metadata": {},
   "source": [
    "# Question 4 : itertools.combinations_with_replacement()\n",
    "\n",
    "**Task**\n",
    "\n",
    "You are given a string S.\n",
    "Your task is to print all possible size K replacement combinations of the string in lexicographic sorted order.\n",
    "\n",
    "**Input Format**\n",
    "\n",
    "A single line containing the string  and integer value  separated by a space.\n",
    "\n",
    "**Constraints**\n",
    "\n",
    "0 < K $\\leq$ len(S) <br>\n",
    "\n",
    "The string contains only UPPERCASE characters.\n",
    "\n",
    "**Output Format**\n",
    "\n",
    "Print the combinations with their replacements of string S on separate lines.\n",
    "\n",
    "**Sample Input**\n",
    "\n",
    "HACK 2\n",
    "\n",
    "**Sample Output**\n",
    "\n",
    "AA <br>\n",
    "AC <br>\n",
    "AH <br>\n",
    "AK <br>\n",
    "CC <br>\n",
    "CH <br>\n",
    "CK <br>\n",
    "HH <br>\n",
    "HK <br>\n",
    "KK <br>"
   ]
  },
  {
   "cell_type": "code",
   "execution_count": 9,
   "metadata": {
    "scrolled": true
   },
   "outputs": [
    {
     "name": "stdout",
     "output_type": "stream",
     "text": [
      "HACK 2\n",
      "AA\n",
      "AC\n",
      "AH\n",
      "AK\n",
      "CC\n",
      "CH\n",
      "CK\n",
      "HH\n",
      "HK\n",
      "KK\n"
     ]
    }
   ],
   "source": [
    "from itertools import combinations_with_replacement\n",
    "S,k = input().split()\n",
    "for i in combinations_with_replacement(sorted(S),int(k)):\n",
    " print (\"\".join(i))"
   ]
  },
  {
   "cell_type": "markdown",
   "metadata": {},
   "source": [
    "# Question 5 : Compress the String!\n",
    "\n",
    "In this task, we would like for you to appreciate the usefulness of the groupby() function of itertools . To read more about this function, Check this out .\n",
    "\n",
    "You are given a string S. Suppose a character 'c' occurs consecutively X times in the string. Replace these consecutive occurrences of the character 'c' with (X,c) in the string.\n",
    "\n",
    "For a better understanding of the problem, check the explanation.\n",
    "\n",
    "**Input Format**\n",
    "\n",
    "A single line of input consisting of the string S.\n",
    "\n",
    "**Output Format**\n",
    "\n",
    "A single line of output consisting of the modified string.\n",
    "\n",
    "**Constraints**\n",
    "\n",
    "1 $\\leq$ | S | $\\leq$ ${10}^{4}$\n",
    "All the characters of  denote integers between  and .\n",
    "\n",
    "\n",
    "**Sample Input**\n",
    "\n",
    "1222311\n",
    "\n",
    "**Sample Output**\n",
    "\n",
    "(1, 1) (3, 2) (1, 3) (2, 1)\n",
    "\n",
    "**Explanation**\n",
    "\n",
    "First, the character 1 occurs only once. It is replaced by (1,1). Then the character 2 occurs three times, and it is replaced by (3,2) and so on.\n",
    "\n",
    "Also, note the single space within each compression and between the compressions."
   ]
  },
  {
   "cell_type": "code",
   "execution_count": 11,
   "metadata": {},
   "outputs": [
    {
     "name": "stdout",
     "output_type": "stream",
     "text": [
      "1222311\n",
      "(1, 1) (3, 2) (1, 3) (2, 1)\n"
     ]
    }
   ],
   "source": [
    "from itertools import groupby\n",
    "print(*[(len(list(c)), int(k)) for k, c in groupby(input())])"
   ]
  },
  {
   "cell_type": "markdown",
   "metadata": {},
   "source": [
    "# Question 6 : Iterables and Iterators\n",
    "\n",
    "The itertools module standardizes a core set of fast, memory efficient tools that are useful by themselves or in combination. Together, they form an iterator algebra making it possible to construct specialized tools succinctly and efficiently in pure Python.\n",
    "\n",
    "To read more about the functions in this module, check out their documentation here.\n",
    "\n",
    "You are given a list of N lowercase English letters. For a given integer K, you can select any K indices (assume 1-based indexing) with a uniform probability from the list.\n",
    "\n",
    "Find the probability that at least one of the K indices selected will contain the letter: 'a'.\n",
    "\n",
    "**Input Format**\n",
    "\n",
    "The input consists of three lines. The first line contains the integer N, denoting the length of the list. The next line consists of N space-separated lowercase English letters, denoting the elements of the list.\n",
    "\n",
    "The third and the last line of input contains the integer K, denoting the number of indices to be selected.\n",
    "\n",
    "**Output Format**\n",
    "\n",
    "Output a single line consisting of the probability that at least one of the K indices selected contains the letter:'a'.\n",
    "\n",
    "Note: The answer must be correct up to 3 decimal places.\n",
    "\n",
    "Constraints\n",
    "\n",
    "1 $\\leq$ N $\\leq$ 10\n",
    "\n",
    "1 $\\leq$ K $\\leq$ N\n",
    "\n",
    "All the letters in the list are lowercase English letters.\n",
    "\n",
    "**Sample Input**\n",
    "\n",
    "4 <br>\n",
    "a a c d<br>\n",
    "2<br>\n",
    "\n",
    "**Sample Output**\n",
    "\n",
    "0.8333\n",
    "\n",
    "**Explanation**\n",
    "\n",
    "All possible unordered tuples of length  comprising of indices from 1 to 4 are:\n",
    "\n",
    "(1,2),(1,3),(1,4),(2,3),(2,4),(3,4)\n",
    "\n",
    "Out of these 6 combinations, 5 of them contain either index 1 or index 2 which are the indices that contain the letter 'a'.\n",
    "\n",
    "Hence, the answer is $\\frac{5}{6}$."
   ]
  },
  {
   "cell_type": "code",
   "execution_count": 15,
   "metadata": {
    "scrolled": true
   },
   "outputs": [
    {
     "name": "stdout",
     "output_type": "stream",
     "text": [
      "4\n",
      "a a c d\n",
      "2\n",
      "0.8333333333333334\n"
     ]
    }
   ],
   "source": [
    "from itertools import combinations\n",
    "\n",
    "N = int(input()); a = input().split(); K = int(input())\n",
    "c = list(combinations(a,K))\n",
    "result = [1 for i in range(len(c)) if 'a' in c[i]]\n",
    "print(sum(result)/len(c))"
   ]
  },
  {
   "cell_type": "markdown",
   "metadata": {},
   "source": [
    "# Question 7 : Maximize It!\n",
    "\n",
    "You are given a function $f{(x)} = {x}^{2}$. You are also given K lists. The ${i}^{th}$ list consists of ${N_i}$ elements.\n",
    "\n",
    "You have to pick one element from each list so that the value from the equation below is maximized:\n",
    "\n",
    "S = ($f{(X_1)}$ + $f{(X_2)}$ + ... + $f{(X_k)}$ ) % M\n",
    "\n",
    "$f{(X_i)}$ denotes the element picked from the ${i}^{th}$ list . Find the  maximized value ${S_{max}}$ obtained.\n",
    "\n",
    "% denotes the modulo operator.\n",
    "\n",
    "Note that you need to take exactly one element from each list, not necessarily the largest element. You add the squares of the chosen elements and perform the modulo operation. The maximum value that you can obtain, will be the answer to the problem.\n",
    "\n",
    "**Input Format**\n",
    "\n",
    "The first line contains  space separated integers K and M.\n",
    "The next K lines each contains an integer N, denoting the number of elements in the ${i}^{th}$ list, followed by ${N_i}$ space separated integers denoting the elements in the list.\n",
    "\n",
    "**Constraints**\n",
    "\n",
    "\n",
    "1 $\\leq$ K $\\leq$ 7 <br>\n",
    "1 $\\leq$ M $\\leq$ 1000 <br>\n",
    "1 $\\leq$ ${N_i}$ $\\leq$ 7 <br>\n",
    "1 $\\leq$ Magnitude of elements in list $\\leq$ ${10}^{9}$ <br>\n",
    "\n",
    "\n",
    "**Output Format**\n",
    "\n",
    "Output a single integer denoting the value ${S_{max}}$.\n",
    "\n",
    "**Sample Input**\n",
    "\n",
    "3 1000 <br>\n",
    "2 5 4 <br>\n",
    "3 7 8 9  <br>\n",
    "5 5 7 8 9 10  <br>\n",
    "\n",
    "**Sample Output**\n",
    "\n",
    "206\n",
    "\n",
    "**Explanation**\n",
    "\n",
    "Picking 5 from the ${1}^{st}$ list, 9 from the ${2}^{nd}$ list and 10 from the ${3}^{nd}$ list gives the maximum S value equal to (${5}^{2}$ + ${9}^{2}$+) ${10}^{2}$ % 1000 = 206."
   ]
  },
  {
   "cell_type": "code",
   "execution_count": 16,
   "metadata": {},
   "outputs": [
    {
     "name": "stdout",
     "output_type": "stream",
     "text": [
      "3 1000\n",
      "2 5 4\n",
      "3 7 8 9\n",
      "5 5 7 8 9 10\n",
      "206\n"
     ]
    }
   ],
   "source": [
    "import itertools\n",
    "\n",
    "k, m = map(int, input().split())\n",
    "\n",
    "print(max(sum(j) % m for j in itertools.product(*((int(i) ** 2 for i in input().split()[1:]) for _ in range(k)))))"
   ]
  }
 ],
 "metadata": {
  "kernelspec": {
   "display_name": "Python 3",
   "language": "python",
   "name": "python3"
  },
  "language_info": {
   "codemirror_mode": {
    "name": "ipython",
    "version": 3
   },
   "file_extension": ".py",
   "mimetype": "text/x-python",
   "name": "python",
   "nbconvert_exporter": "python",
   "pygments_lexer": "ipython3",
   "version": "3.7.4"
  }
 },
 "nbformat": 4,
 "nbformat_minor": 2
}
