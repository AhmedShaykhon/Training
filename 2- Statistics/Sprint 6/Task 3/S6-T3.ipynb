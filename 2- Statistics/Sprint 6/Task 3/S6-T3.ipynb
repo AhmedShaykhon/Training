{
 "cells": [
  {
   "cell_type": "markdown",
   "metadata": {},
   "source": [
    "# Quession 1.\n",
    "\n",
    "# Day 3: Basic Probability Puzzles #8"
   ]
  },
  {
   "cell_type": "markdown",
   "metadata": {},
   "source": [
    "\n",
    "**Objective**<br>  \n",
    "In this challenge, we practice calculating probability.\n",
    "\n",
    "**Task**<br>  \n",
    "In a certain city, the probability of a resident not reading the morning newspaper is $\\frac{1}{2}$, and the probability of a resident not reading the evening newspaper is $\\frac{2}{5}$. The probability they will read both newspapers is  $\\frac{1}{5}$.\n",
    "\n",
    "Find the probability that a resident reads a morning or evening newspaper.\n",
    "\n",
    "**Output Format**<br>  \n",
    "\n",
    "In the editor below, submit your answer as Plain Text in the form of an irreducible fraction  $A/B$, where $A$ and $B$ are both integers.\n",
    "\n",
    "Your answer should resemble something like:\n",
    "\n",
    "3/4<br>  \n",
    "\n",
    "(This is **NOT** the answer, just a demonstration of the answer format.)"
   ]
  },
  {
   "cell_type": "code",
   "execution_count": 5,
   "metadata": {},
   "outputs": [
    {
     "name": "stdout",
     "output_type": "stream",
     "text": [
      "0.9000000000000001\n"
     ]
    }
   ],
   "source": [
    "'''\n",
    "P(A): don't read morning news = 1/2\n",
    "A + C = read morning news = 1/2\n",
    "\n",
    "P(B):don't read evening news = 2/5\n",
    "C + B = read evening news = 3/5\n",
    "\n",
    "C = read both = 1/5====3/10\n",
    "\n",
    "read a newspaper = (read only A) + (read both) + (read only B)\n",
    "read a newspaper = (1/2 - 1/5) + (1/5) + (3/5 - 1/5)\n",
    "read a newspaper = 5/10 - 2/10 + 2/10 + 6/10 - 2/10\n",
    "read a newspaper = 9/10\n",
    "\n",
    "P(A or B) = 1/2 + 3/5 - 1/5 = 9/10\n",
    "\n",
    "P(A or B) = 1/2 + 3/5 - 3/10 = 4/5\n",
    "'''\n",
    "\n",
    "p_not_reading_morn = 1/2\n",
    "p_reading_morn = 1/2\n",
    "\n",
    "p_not_reading_even = 2/5\n",
    "p_reading_even = 3/5\n",
    "\n",
    "P_reading_both = 1/5\n",
    "\n",
    "p_reading_morn_or_even = p_reading_morn + p_reading_even - P_reading_both\n",
    "\n",
    "print(p_reading_morn_or_even)"
   ]
  },
  {
   "cell_type": "markdown",
   "metadata": {},
   "source": [
    "# Quession 2.\n",
    "\n",
    "# Poisson Distribution #3"
   ]
  },
  {
   "cell_type": "markdown",
   "metadata": {},
   "source": [
    "The number of calls coming per minute into a hotels reservation center is Poisson random variable with mean 3.\n",
    "\n",
    "(a) Find the probability that no calls come in a given 1 minute period.\n",
    "\n",
    "(b) Assume that the number of calls arriving in two different minutes are independent. Find the probability that atleast two calls will arrive in a given two minute period.\n",
    "\n",
    "**Submission Modes and Output Format**\n",
    "\n",
    "You may submit either an R or Python program to accomplish the above task, or solve the problem on pen-and-paper. Your output should be two floating point/decimal numbers(as answers to 1st and 2nd questions respectively), correct to 3 places of decimal.\n",
    "\n",
    "1. In the text box below, enter two floating point/decimal numbers(as answers to 1st and 2nd questions respectively), correct to 3 places of decimal.\n",
    "\n",
    "2. Alternatively, you may submit an R program, which uses the above parameters (hard-coded) and computes the answer.\n",
    "\n",
    "Your answer should resemble something like:\n",
    "\n",
    "9.123<br>\n",
    "8.345<br>\n",
    "\n",
    "(This is **NOT** the answer, just a demonstration of what the answering format should resemble)."
   ]
  },
  {
   "cell_type": "code",
   "execution_count": 2,
   "metadata": {},
   "outputs": [
    {
     "name": "stdout",
     "output_type": "stream",
     "text": [
      "0.050\n",
      "0.983\n"
     ]
    }
   ],
   "source": [
    "\n",
    "import math,scipy.stats\n",
    "\n",
    "# pmf(k, mu, loc=0) --> Probability mass function.\n",
    "print('%.3f'%scipy.stats.poisson.pmf(0,3))\n",
    "\n",
    "# cdf(k, mu, loc=0) --> Cumulative distribution function.\n",
    "print('%.3f'%(1-scipy.stats.poisson.cdf(1, 3*2)))"
   ]
  },
  {
   "cell_type": "markdown",
   "metadata": {},
   "source": [
    "# Quession 3.\n",
    "\n",
    "# Poisson Distribution #5"
   ]
  },
  {
   "cell_type": "markdown",
   "metadata": {},
   "source": [
    "The number of misprints on a page of The Economic Times has a Poisson distribution with mean 1.2. Find the probability that the number of errors -\n",
    "\n",
    "1. on page 10 is 2;<br>\n",
    "2. on page 1 is less than 3;<br>\n",
    "3. on first ten pages totals 5;<br>\n",
    "4. on all forty pages adds up to at least 3.<br>\n",
    "\n",
    "**Submission Modes and Output Format**\n",
    "\n",
    "You may submit either an R or Python program to accomplish the above task, or solve the problem on pen-and-paper. Your output should be four floating point/decimal numbers, correct to 3 places of decimal.\n",
    "\n",
    "1. In the text box below, enter four floating point/decimal numbers as answers to the four questions.\n",
    "\n",
    "2. Alternatively, you may submit an R program, which uses the above parameters (hard-coded) and computes the answer.\n",
    "\n",
    "**Your answer should resemble something like:**\n",
    "\n",
    "9.123<br>\n",
    "8.123<br>\n",
    "7.123<br>\n",
    "6.124<br>\n",
    "(This is **NOT** the answer, just a demonstration of what the answering format should resemble)."
   ]
  },
  {
   "cell_type": "code",
   "execution_count": 4,
   "metadata": {},
   "outputs": [
    {
     "name": "stdout",
     "output_type": "stream",
     "text": [
      "0.217\n",
      "0.879\n",
      "0.013\n",
      "1.000\n"
     ]
    }
   ],
   "source": [
    "import math,scipy.stats\n",
    "# pmf(k, mu, loc=0) --> Probability mass function.\n",
    "print('%.3f'%scipy.stats.poisson.pmf(2, 1.2))\n",
    "\n",
    "# cdf(k, mu, loc=0) --> Cumulative distribution function.\n",
    "print('%.3f'%scipy.stats.poisson.cdf(2, 1.2))\n",
    "\n",
    "# pmf(k, mu, loc=0) --> Probability mass function.\n",
    "print('%.3f'%scipy.stats.poisson.pmf(5, 1.2*10))\n",
    "\n",
    "# cdf(k, mu, loc=0) --> Cumulative distribution function.\n",
    "print('%.3f'%(1-scipy.stats.poisson.cdf(2, 1.2*40)))"
   ]
  }
 ],
 "metadata": {
  "kernelspec": {
   "display_name": "Python 3",
   "language": "python",
   "name": "python3"
  },
  "language_info": {
   "codemirror_mode": {
    "name": "ipython",
    "version": 3
   },
   "file_extension": ".py",
   "mimetype": "text/x-python",
   "name": "python",
   "nbconvert_exporter": "python",
   "pygments_lexer": "ipython3",
   "version": "3.7.4"
  }
 },
 "nbformat": 4,
 "nbformat_minor": 2
}
