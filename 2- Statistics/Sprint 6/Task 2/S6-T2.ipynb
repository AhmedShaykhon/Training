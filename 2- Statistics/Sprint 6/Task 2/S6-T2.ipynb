{
 "cells": [
  {
   "cell_type": "markdown",
   "metadata": {},
   "source": [
    "# Quession 1\n",
    "# Day 3: Basic Probability Puzzles #5\n",
    "\n",
    "**Objective**\n",
    "\n",
    "In this challenge, we practice calculating probability.\n",
    "\n",
    "**Task**<br>\n",
    "\n",
    "There are 10 people about to sit down around a round table. Find the probability that 2 particular people will sit next to one another.\n",
    "\n",
    "**Output Format**<br>\n",
    "\n",
    "In the editor below, submit your answer as Plain Text in the form of an irreducible fraction A/B, where A and B are both integers.\n",
    "\n",
    "Your answer should resemble something like:\n",
    "\n",
    "3/4  \n",
    "\n",
    "(This is **NOT** the answer, just a demonstration of the answer format.)"
   ]
  },
  {
   "cell_type": "code",
   "execution_count": 6,
   "metadata": {
    "scrolled": false
   },
   "outputs": [
    {
     "name": "stdout",
     "output_type": "stream",
     "text": [
      "806400/3628800\n",
      "2/9\n"
     ]
    }
   ],
   "source": [
    "import itertools\n",
    "from fractions import Fraction\n",
    "person_1 = 1\n",
    "person_2 = 2\n",
    "\n",
    "people = [1, 2, 3, 4, 5, 6, 7, 8, 9, 10]\n",
    "\n",
    "tables = itertools.permutations(people)\n",
    "#for j in list(tables):\n",
    "#   print(j)\n",
    "total = 0\n",
    "counter = 0\n",
    "for table in tables: \n",
    "    table = list(table)\n",
    "    total += 1\n",
    "    relative_position = abs(table.index(person_1) - table.index(person_2))\n",
    "    if relative_position == 1 or relative_position == 9: counter += 1\n",
    "print (str(counter) + \"/\" + str(total))\n",
    "print(Fraction(counter,total) )"
   ]
  },
  {
   "cell_type": "markdown",
   "metadata": {},
   "source": [
    "# Quession 2\n",
    "# Day 3: Basic Probability Puzzles #6\n",
    "\n",
    "**Objective**\n",
    "In this challenge, we practice calculating probability.\n",
    "\n",
    "**Task**<br>\n",
    "\n",
    "Bag $X$ contains $5$ white balls and $4$ black balls. Bag $Y$ contains $7$ white balls and $6$ black balls. You draw $1$ ball from bag $X$ and, without observing its color, put it into bag $Y$. Now, if a ball is drawn from bag $Y$, find the probability that it is black.\n",
    "\n",
    "**Output Format**<br>\n",
    "\n",
    "In the editor below, submit your answer as Plain Text in the form of an irreducible fraction $A/B$, where $A$ and $B$ are both integers.\n",
    "\n",
    "Your answer should resemble something like:\n",
    "\n",
    "$3/4$  \n",
    "\n",
    "(This is **NOT** the answer, just a demonstration of the answer format.)"
   ]
  },
  {
   "attachments": {
    "BayesFormula.jpg": {
     "image/jpeg": "[encoded data removed]"
    }
   },
   "cell_type": "markdown",
   "metadata": {},
   "source": [
    "![BayesFormula.jpg](attachment:BayesFormula.jpg)"
   ]
  },
  {
   "cell_type": "code",
   "execution_count": 4,
   "metadata": {},
   "outputs": [
    {
     "name": "stdout",
     "output_type": "stream",
     "text": [
      "0.46092\n",
      "8292342171031389/18014398509481984\n"
     ]
    }
   ],
   "source": [
    "'''\n",
    "{p[picking black from X ] * p[ picking the black ball from Y]} +\n",
    "{p[picking white from X ]* p[picking black from Y]}\n",
    "P(Y = b | X = w) * P(X = w) + P(Y = b | X = b) * P(X = b)\n",
    "= 6/14 * 5/9 + 7/14 * 4/9 = 29 / 63\n",
    "'''\n",
    "from fractions import Fraction\n",
    "import random\n",
    "\n",
    "x = ['w']* 5 + ['b'] * 4\n",
    "y = ['w']* 7 + ['b'] * 6\n",
    "\n",
    "num_trials = 1000000\n",
    "trials = num_trials\n",
    "result = 0\n",
    "\n",
    "while trials > 0:\n",
    "        y_new = y + [random.choice(x)]\n",
    "        ball = random.choice(y_new)\n",
    "        if ball == 'b':\n",
    "                result += 1\n",
    "        trials -= 1\n",
    "\n",
    "print (result*1.0/num_trials)\n",
    "print (Fraction(29.0/63))"
   ]
  },
  {
   "cell_type": "markdown",
   "metadata": {},
   "source": [
    "# Quession 3\n",
    "# Day 3: Basic Probability Puzzles #7\n",
    "\n",
    "**Objective**<br>\n",
    "\n",
    "In this challenge, we practice calculating probability.\n",
    "\n",
    "**Task**<br>\n",
    "\n",
    "A firm produces steel pipes in three plants.\n",
    "\n",
    "> Plant $A$ produces $500$ units per day and has a fraction defective output of $0.005$.<br>\n",
    "> Plant $B$ produces $1000$ units per day and has a fraction defective output of $0.008$.<br>\n",
    "> Plant $C$ produces $2000$ units per day and has a fraction defective output of $0.010$.<br>\n",
    "\n",
    "At random, a pipe is selected from the day’s total production and it is found to be defective. What is the probability that it came from plant $A$?\n",
    "\n",
    "**Output Format**\n",
    "\n",
    "In the editor below, submit your answer as Plain Text in the form of an irreducible fraction $A/B$, where $A$ and $B$ are both integers.\n",
    "\n",
    "Your answer should resemble something like:\n",
    "\n",
    "3/4  \n",
    "\n",
    "(This is **NOT** the answer, just a demonstration of the answer format.)"
   ]
  },
  {
   "cell_type": "markdown",
   "metadata": {},
   "source": [
    "# $P(A | defective)$ = $\\frac{P(defective | A)*P(A)}{P(defective)}$\n"
   ]
  },
  {
   "cell_type": "markdown",
   "metadata": {},
   "source": [
    "# $P(A | defective)$ = $\\frac{P(defective | A)*P(A)}{P(defective | A)*P(A) + P(defective | {A^c})*P({A^c})}$"
   ]
  },
  {
   "cell_type": "code",
   "execution_count": 17,
   "metadata": {},
   "outputs": [
    {
     "name": "stdout",
     "output_type": "stream",
     "text": [
      "5906360167043273/72057594037927936\n",
      "2.5/30.5\n"
     ]
    }
   ],
   "source": [
    "'''\n",
    "P(defective | A) = 0.005\n",
    "P( A ) =  (500 / (500 + 1000 + 2000))\n",
    "P(defective | A^c) = (0.008 *(1000 / (500 + 1000 + 2000)) + (0.010 * (2000 / (500 + 1000 + 2000)))\n",
    "\n",
    "A defects =  500 * 0.005 =  2.5\n",
    "B defects = 1000 * 0.008 =  8\n",
    "C defects = 2000 * 0.010 = 20\n",
    "Sum defects (2.5+8+20) = 30.5\n",
    "A/Sum = 2.5/30.5 = 5/61\n",
    "\n",
    "\n",
    "'''\n",
    "from fractions import Fraction\n",
    "A_defects = 500 * 0.005\n",
    "B_defects = 1000 * 0.008\n",
    "C_defects = 2000 * 0.010\n",
    "Sum = A_defects + B_defects + C_defects\n",
    "A = Fraction(A_defects/Sum)\n",
    "print(A)\n",
    "print(str('2.5' + '/' + '30.5'))"
   ]
  },
  {
   "cell_type": "markdown",
   "metadata": {},
   "source": [
    "# Quession 4\n",
    "# Day 3: Basic Probability Puzzles #9\n",
    "\n",
    "A candidate is selected for interview of management trainees for 3 companies. For the first company, there are 12 candidates, for the second there are 15 candidates and for the third, there are 10 candidates. Find the probability that he is selected in at least one of the companies. Assume that 1 candidate will be selected in each of the interviews, and all candidates appearing for the interview have an equal probability of getting selected.\n",
    "\n",
    "Fill in the answer in the text box, in the form of an irreducible fraction A/B where A and B are two integers.\n",
    "\n",
    "e.g. Your answer should resemble something like:\n",
    "\n",
    "> 3/4  \n",
    "\n",
    "(This is NOT the answer, just a demonstration of what the answering format should resemble)."
   ]
  },
  {
   "cell_type": "code",
   "execution_count": 27,
   "metadata": {},
   "outputs": [
    {
     "name": "stdout",
     "output_type": "stream",
     "text": [
      "0.23\n"
     ]
    }
   ],
   "source": [
    "'''\n",
    "Solution: <br>\n",
    "Use [1- Possibility not to be selected at all] <br>\n",
    "1 - P (not A * not B * not C) = 1 - (11/12  14/15  9/10) = 23/100\n",
    "\n",
    "P(A or B or C) = P (A) + P(B) + P(C) - P(A and B) - P(A and C) - P(B and C) + P( A and B and C)\n",
    "If you would have 3 interviews with 2 candidats\n",
    "each in your method probability would be 1/2+1/2+1/2=150%!!!\n",
    "what dont make any sense. There is 10*12*15=1800 diffrent combination \n",
    "of candidates. In 1 case you will be chosen by 3 companies. \n",
    "In (9 + 11 + 14) cases you will be chosen by 2 companies. \n",
    "In (9*11 + 9*14 + 11*14) cases you will be chosen by 1 company. \n",
    "So 1+(9+11+14)+(9*11 + 9*14 + 11*14)=414 414/1800=23/100 and \n",
    "this is correct answer.\n",
    "'''\n",
    "CanA = 12\n",
    "CanB = 15 \n",
    "CanC = 10\n",
    "\n",
    "Result = 1 + (CanC-1) + (CanA-1) + (CanB-1) + (((CanC-1)*(CanA-1))+((CanC-1)*(CanB-1))+((CanA-1)*(CanB-1)))\n",
    "\n",
    "print(Result/1800)"
   ]
  },
  {
   "cell_type": "markdown",
   "metadata": {},
   "source": [
    "# Quession 5\n",
    "# Basic Probability Puzzles #10\n",
    "\n",
    "\n",
    "Bill and Nina appear for an interview for two vacancies. The probability of Bill’s selection is 1/3 and that of Nina’s selection is 1/5. Find the probability that only one of them will be selected.\n",
    "\n",
    "Fill in the answer in the text box, in the form of an irreducible fraction A/B where A and B are two integers.\n",
    "\n",
    "e.g. Your answer should resemble something like:\n",
    "\n",
    "3/4  \n",
    "\n",
    "(This is NOT the answer, just a demonstration of what the answering format should resemble).\n",
    "\n",
    "Solution:\n",
    "P(selecting both Bill and Nina)"
   ]
  },
  {
   "cell_type": "code",
   "execution_count": 31,
   "metadata": {},
   "outputs": [
    {
     "name": "stdout",
     "output_type": "stream",
     "text": [
      "0.4\n"
     ]
    }
   ],
   "source": [
    "'''\n",
    "P(Aw)=probability of A wining P(Bw)=probability of B wining \n",
    "P(1 - Aw)=probability of A not wining P(1 - Aw)=probability of B not wining\n",
    "\n",
    "P(Aw)*P(1-Bw) + P(Bw)*P(1-Aw)=2/5\n",
    "'''\n",
    "Pill = 1/3\n",
    "Nina = 1/5\n",
    "\n",
    "PillOrNina = ((1/3)*(4/5))+((2/3)*(1/5))\n",
    "\n",
    "print(PillOrNina)\n"
   ]
  },
  {
   "cell_type": "markdown",
   "metadata": {},
   "source": [
    "# Quession 6\n",
    "# Day 6: Correlation and Regression Lines #1\n",
    "\n",
    "**Objective**\n",
    "In this challenge, we practice calculating the correlation between two elements.\n",
    "\n",
    "**Resources**\n",
    "Here are some useful articles explaining the relationship between  and the slopes of the regression lines.\n",
    "\n",
    "1. Correlation and R-squared\n",
    "2. Khan Academy tutorial about the coefficient of determination\n",
    "3. Formula: ${r^2}$ = ${b_{xy}}$ X ${b_{yx}}$ where the symbols used are the standard ones, given the context.\n",
    "\n",
    "**Task**\n",
    "\n",
    "For a particular scatter plot, the line of regression of $y$ on $x$ is:\n",
    "\n",
    "$3x + 4y + 8 = 0$\n",
    "\n",
    "And the line of regression of $x$ on $y$ is:\n",
    "\n",
    "$4x + 3y + 7 = 0$\n",
    "\n",
    "Find the Pearson Product moment coefficient, , correct to a scale of  decimal places.\n",
    "\n",
    "**Output Format**\n",
    "\n",
    "Your answer should be a single floating point/decimal number, correct to a scale of  decimal places. You can submit solutions in either of the 2 following ways:\n",
    "\n",
    "1. Solve the problem manually and submit your result as Plain Text. In the text box below, enter a single floating point/decimal number.\n",
    "2. Submit an R or Python program, which uses the above parameters (hard-coded), then computes and prints the score.\n",
    "\n",
    "Your answer should follow the format below, and must not contain any extra white space or newline characters:\n",
    "\n",
    "4.23\n",
    "\n",
    "Solution:\n",
    "\n",
    "y = -3/4 x -2<br>\n",
    "x = -3/4 y -7/4 "
   ]
  },
  {
   "cell_type": "code",
   "execution_count": 43,
   "metadata": {},
   "outputs": [
    {
     "name": "stdout",
     "output_type": "stream",
     "text": [
      "-0.69\n"
     ]
    }
   ],
   "source": [
    "import random\n",
    "import scipy.stats\n",
    "\n",
    "x = []\n",
    "y = []\n",
    "\n",
    "for i in range (100):\n",
    "    z = random.random()\n",
    "    x.append(z)\n",
    "    y.append((-3*z-8)/4)\n",
    "\n",
    "for i in range(100):\n",
    "    z = random.random()\n",
    "    x.append(z)\n",
    "    y.append((-4*z-7)/3)\n",
    "    \n",
    "#personr(x,y) -> r.float pearson's correlation coefficient\n",
    "\n",
    "a,b = scipy.stats.pearsonr(x,y)\n",
    "print(\"%0.2f\"%(a))"
   ]
  },
  {
   "cell_type": "markdown",
   "metadata": {},
   "source": [
    "# Quession 7\n",
    "# Day 6: Correlation and Regression Lines #2\n",
    "\n",
    "**Objective**\n",
    "\n",
    "In this challenge, we practice calculating the slope of regression lines.\n",
    "\n",
    "**Task**\n",
    "\n",
    "There are 2 series of data involving index numbers: $P$ for price index and $S$  for the commodity stock.\n",
    "The mean and standard deviation of $P$ are 100 and 8, respectively.\n",
    "The mean and standard deviation of $S$ are 103 and 4, respectively.\n",
    "The  correlation coefficient between the two series is 0.4.\n",
    "\n",
    "With this data, obtain the slope of the regression line of P on S, correct to a scale of 2 decimal places.\n",
    "\n",
    "**Output Format**\n",
    "\n",
    "Your answer should be a single floating point/decimal number, correct to a scale of 2 decimal places. You can submit solutions in either of the 2 following ways:\n",
    "\n",
    "1. Solve the problem manually and submit your result as Plain Text. In the text box below, enter a single floating point/decimal number.\n",
    "\n",
    "2. Submit an R or Python program, which uses the above parameters (hard-coded), then computes and prints the score.\n",
    "\n",
    "\n",
    "Your answer should follow the format below, and must not contain any extra white space or newline characters:\n",
    "\n",
    "1.14\n",
    "\n",
    "\n",
    "**The Answer**\n",
    "\n",
    "The correlation is defined as r=cov(x,y)/sd(x)/sd(y). We also know that for linear regression r^2=R^2. In addition, the slope, m=cov(x,y)/var(x).\n",
    "\n",
    "Using all the above we get that R^2=m^2var^2(x)/sd^2(x)sd^2(y). Or that 0.4=m^2*4^4/4^2/8^2 and that m=1.26"
   ]
  },
  {
   "attachments": {
    "Slop.jpg": {
     "image/jpeg": "[encoded data removed]"
    }
   },
   "cell_type": "markdown",
   "metadata": {},
   "source": [
    "![Slop.jpg](attachment:Slop.jpg)"
   ]
  },
  {
   "cell_type": "code",
   "execution_count": 48,
   "metadata": {
    "scrolled": true
   },
   "outputs": [
    {
     "name": "stdout",
     "output_type": "stream",
     "text": [
      "1.26\n"
     ]
    }
   ],
   "source": [
    "import math\n",
    "slope = math.sqrt(0.4/((4**4)/(4**2)/(8**2)))\n",
    "print(round(slope,2))"
   ]
  },
  {
   "cell_type": "markdown",
   "metadata": {},
   "source": [
    "# Quession 8\n",
    "# Correlation and Regression Lines - #3\n",
    "\n",
    "The two regression lines of a bivariate distribution are: 4x – 5y + 33 = 0 and 20x – 9y – 107 = 0. Calculate the arithmetic means of x and y respectively. (Both of these are integer values.)\n",
    "\n",
    "Output Format\n",
    "In the text box, enter the two integers corresponding to the means of x and y, each on a new line.\n",
    "\n",
    "Solution:\n",
    "\n",
    "4 x - 5 y + 33 = 0    x5\n",
    "20x - 9 y      = 107  x2\n",
    "\n",
    "---------------------------\n",
    "\n",
    "-16 y + 272 = 0 ===> y =17\n",
    "\n",
    "\n",
    "4x - 85 + 33 =0\n",
    "x = 13\n"
   ]
  },
  {
   "cell_type": "code",
   "execution_count": 14,
   "metadata": {},
   "outputs": [
    {
     "name": "stdout",
     "output_type": "stream",
     "text": [
      "x = 13,y = 17\n"
     ]
    }
   ],
   "source": [
    "print(\"x = 13,y = 17\")"
   ]
  },
  {
   "cell_type": "markdown",
   "metadata": {},
   "source": [
    "# Quession 9\n",
    "\n",
    "# Day 4: The Central Limit Theorem #1\n",
    "\n",
    "\n",
    "**Objective**\n",
    "\n",
    "In this challenge, we practice solving problems based on the Central Limit Theorem.\n",
    "\n",
    "**Task**\n",
    "A large elevator can transport a maximum of 9800 pounds. Suppose a load of cargo containing 49 boxes must be transported via the elevator. The box weight of this type of cargo follows a distribution with a mean of \n",
    "µ = 205 pounds and a standard deviation of $\\sigma$ = 15 pounds. Based on this information, what is the probability that all  boxes can be safely loaded onto the freight elevator and transported?\n",
    "\n",
    "**Output Format**\n",
    "\n",
    "Your output must be a floating point/decimal number, correct to a scale of 4 decimal places. You can submit solutions in either of the 2 following ways:\n",
    "\n",
    "Solve the problem manually and submit your result as Plain Text. In the text box below, enter a single floating point/decimal number.\n",
    "\n",
    "Submit an R or Python program, which uses the above parameters (hard-coded), and computes the answer.\n",
    "\n",
    "Your answer should resemble something like:\n",
    "\n",
    "0.1234\n",
    "\n",
    "(This is **NOT** the answer, just a demonstration of the answering format.)\n"
   ]
  },
  {
   "cell_type": "code",
   "execution_count": 49,
   "metadata": {},
   "outputs": [
    {
     "name": "stdout",
     "output_type": "stream",
     "text": [
      "0.0098\n"
     ]
    }
   ],
   "source": [
    "import math \n",
    "def clf(x,mean,sd):\n",
    "    return 0.5*(1+math.erf((x-mean)/(sd*(2**0.5))))\n",
    "MaxPounds = 9800\n",
    "n = 49\n",
    "MeanPop = 205\n",
    "stdPop = 15\n",
    "\n",
    "meanSample = MeanPop *n\n",
    "stdSample = math.sqrt(n) * stdPop\n",
    "print(round(clf(MaxPounds, meanSample, stdSample), 4))"
   ]
  },
  {
   "cell_type": "markdown",
   "metadata": {},
   "source": [
    "# # Quession 10\n",
    "\n",
    "# Day 4: The Central Limit Theorem #2\n",
    "\n",
    "**Objective**\n",
    "\n",
    "In this challenge, we practice solving problems based on the Central Limit Theorem.\n",
    "\n",
    "**Task**\n",
    "\n",
    "The number of tickets purchased by each student for the University X vs. University Y football game follows a distribution that has a mean of \n",
    "µ = 2.4 and a standard deviation of $\\sigma$ = 2.\n",
    "\n",
    "Suppose that a few hours before the game starts, there are  eager students standing in line to purchase tickets. If there are only 250 tickets left, what is the probability that all 100 students will be able to purchase the tickets they want?\n",
    "\n",
    "**Output Format**\n",
    "\n",
    "Your output must be a floating point/decimal number, correct to a scale of 4 decimal places. You can submit solutions in either of the 2 following ways:\n",
    "\n",
    "1. Solve the problem manually and submit your result as Plain Text. In the text box below, enter a single floating point/decimal number.\n",
    "\n",
    "2. Submit an R or Python program, which uses the above parameters (hard-coded), and computes the answer.\n",
    "\n",
    "Your answer should resemble something like:\n",
    "\n",
    "0.1234\n",
    "\n",
    "(This is **NOT** the answer, just a demonstration of the answering format.)"
   ]
  },
  {
   "cell_type": "code",
   "execution_count": 83,
   "metadata": {},
   "outputs": [
    {
     "name": "stdout",
     "output_type": "stream",
     "text": [
      "0.6915\n"
     ]
    }
   ],
   "source": [
    "import math \n",
    "def clf(x,mean,sd):\n",
    "    return 0.5*(1+math.erf((x-mean)/(sd*(2**0.5))))\n",
    "\n",
    "Ntickets = 250\n",
    "Nstudents = 100\n",
    "Mean = 2.4\n",
    "std = 2.0\n",
    "\n",
    "meanSample = Mean *Nstudents\n",
    "stdSample = math.sqrt(Nstudents) * std\n",
    "\n",
    "print(round(clf(Ntickets,meanSample,stdSample),4))"
   ]
  },
  {
   "cell_type": "markdown",
   "metadata": {},
   "source": [
    "#  Quession 11\n",
    "\n",
    "# Day 4: The Central Limit Theorem #3\n",
    "\n",
    "You have a sample of 100 values from a population with mean µ = 500 and with standard deviation σ = 80. What is the probability that the sample mean will be in the interval (490, 510)?\n",
    "\n",
    "**Submission Modes and Output Format**\n",
    "\n",
    "You may either solve the problem on pen-and-paper and submit the final answer in the text box, or you may submit an R or Python program to accomplish the above task. Your output should be a floating point/decimal number, correct to 4 places of decimal.\n",
    "\n",
    "1. In the text box below, enter a floating point/decimal number, correct to 4 places of decimal.\n",
    "\n",
    "2. Alternatively, you may submit an R program, which uses the above parameters (hard-coded) and computes the answer.\n",
    "\n",
    "Your answer should resemble something like:\n",
    "\n",
    "0.1234\n",
    "\n",
    "(This is **NOT** the answer, just a demonstration of what the answering format should resemble)."
   ]
  },
  {
   "cell_type": "code",
   "execution_count": 84,
   "metadata": {},
   "outputs": [
    {
     "name": "stdout",
     "output_type": "stream",
     "text": [
      "0.7887\n"
     ]
    }
   ],
   "source": [
    "import math \n",
    "def clf(x,mean,sd):\n",
    "    return 0.5*(1+math.erf((x-mean)/(sd*(2**0.5))))\n",
    "Mean = 500\n",
    "std = 80\n",
    "SampleSize = 100\n",
    "\n",
    "meanSample = Mean *SampleSize\n",
    "stdSample = math.sqrt(SampleSize) * std\n",
    "\n",
    "Prob1 =  clf(510 * SampleSize, meanSample, stdSample)\n",
    "Prob2 =  clf(490 * SampleSize, meanSample, stdSample)\n",
    "print(round(Prob1 - Prob2,4))"
   ]
  },
  {
   "cell_type": "markdown",
   "metadata": {},
   "source": [
    "#  Quession 12\n",
    "\n",
    "# Poisson Distribution #1\n",
    "\n",
    "A random variable X follows Poisson distribution with mean 2.5, find the probability with which the random variable X is equal to 5; i.e. P(X = 5).\n",
    "\n",
    "**Submission Modes and Output Format**\n",
    "\n",
    "You may submit either an R or Python program to accomplish the above task, or solve the problem on pen-and-paper. Your output should be a floating point/decimal number, correct to 3 places of decimal.\n",
    "\n",
    "In the text box below, enter a floating point/decimal number, correct to 3 places of decimal.\n",
    "\n",
    "Alternatively, you may submit an R program, which uses the above parameters (hard-coded) and computes the answer.\n",
    "\n",
    "Your answer should resemble something like:\n",
    "\n",
    "0.123\n",
    "\n",
    "(This is **NOT** the answer, just a demonstration of what the answering format should resemble)."
   ]
  },
  {
   "attachments": {
    "poisson-distribution-formula.png": {
     "image/png": "[encoded data removed]"
    }
   },
   "cell_type": "markdown",
   "metadata": {},
   "source": [
    "![poisson-distribution-formula.png](attachment:poisson-distribution-formula.png)"
   ]
  },
  {
   "cell_type": "code",
   "execution_count": 61,
   "metadata": {},
   "outputs": [
    {
     "name": "stdout",
     "output_type": "stream",
     "text": [
      "0.0668\n"
     ]
    }
   ],
   "source": [
    "from scipy.stats import poisson\n",
    "\n",
    "x = 5\n",
    "mean=2.5\n",
    "\n",
    "prob = poisson.pmf(x,mean)\n",
    "print(round(prob,4))\n",
    "#P(x=5) = 0.0668"
   ]
  },
  {
   "cell_type": "markdown",
   "metadata": {},
   "source": [
    "#  Quession 13\n",
    "\n",
    "# Poisson Distribution #2\n",
    "\n",
    "The manager of a industrial plant is planning to buy a machine of either type A or type B. For each day’s operation the number of repairs X, that the machine A needs is a poisson random variable with mean 0.88. The daily cost of operating A is\n",
    "\n",
    "CA = 160 + 40 ∗ X2\n",
    "For machine B, let Y be the poisson random variable indicating the number of daily repairs, which has mean 1.55, and the daily cost of operating B is\n",
    "\n",
    "CB = 128 + 40 ∗ Y2 \n",
    "Assume that the repairs take negligible time and each night the machine are cleaned so that they operate like new machine at the start of each day. What is the expected daily cost of each machine ?\n",
    "\n",
    "Submission Modes and Output Format\n",
    "\n",
    "You may submit either an R or Python program to accomplish the above task, or solve the problem on pen-and-paper. Your output should be two floating point/decimal numbers(as answers to 1st and 2nd questions respectively), correct to 3 places of decimal.\n",
    "\n",
    "1. In the text box below, enter two floating point/decimal numbers(as answers to 1st and 2nd questions respectively), correct to 3 places of decimal.\n",
    "\n",
    "2. Alternatively, you may submit an R program, which uses the above parameters (hard-coded) and computes the answer.\n",
    "\n",
    "Your answer should resemble something like:\n",
    "\n",
    "9.123\n",
    "8.345\n",
    "(This is NOT the answer, just a demonstration of what the answering format should resemble)."
   ]
  },
  {
   "cell_type": "code",
   "execution_count": 63,
   "metadata": {},
   "outputs": [
    {
     "name": "stdout",
     "output_type": "stream",
     "text": [
      "CA =  226.176\n",
      "CB =  286.1\n"
     ]
    }
   ],
   "source": [
    "Mean_A = 0.88\n",
    "Mean_B = 1.55\n",
    "\n",
    "print(\"CA = \", (160 + 40*(Mean_A + (Mean_A**2))))\n",
    "print(\"CB = \", (128 + 40*(Mean_B + (Mean_B**2))))"
   ]
  },
  {
   "cell_type": "markdown",
   "metadata": {},
   "source": [
    "#  Quession 14\n",
    "\n",
    "# Day 1: Standard Deviation Puzzles #1\n",
    "\n",
    "**Objective**\n",
    "\n",
    "In this challenge, we practice calculating standard deviation.\n",
    "\n",
    "**Task**\n",
    "\n",
    "Find the largest possible value of N where the standard deviation of the values in the set {1,2,3,N} is equal to the standard deviation of the values in the set {1,2,3}.\n",
    "\n",
    "Output the value of N, correct to two decimal places.\n",
    "\n",
    "**Output Format**\n",
    "\n",
    "Your output must be a floating point/decimal number, correct to a scale of 2 decimal places. You can submit solutions in either of the 2 following ways:\n",
    "\n",
    "1. Solve the problem manually and submit your result as Plain Text.\n",
    "\n",
    "2. Submit an R or Python program, which uses the above parameters (hard-coded), and computes the answer.\n",
    "\n",
    "Your answer format should resemble something like:\n",
    "\n",
    "4.23\n",
    "\n",
    "(This is **NOT** the answer, just a demonstration of the answering format.)"
   ]
  },
  {
   "cell_type": "code",
   "execution_count": 70,
   "metadata": {},
   "outputs": [
    {
     "name": "stdout",
     "output_type": "stream",
     "text": [
      "2.94\n"
     ]
    }
   ],
   "source": [
    "import math\n",
    "\n",
    "def compute_sdev(X):\n",
    "    mean = sum(X)/len(X)\n",
    "    X = [(x-mean)**2 for x in X]\n",
    "    return math.sqrt(sum(X)/len(X))\n",
    "\n",
    "loop = True\n",
    "N = 3\n",
    "sd1 = compute_sdev([1,2,3])\n",
    "while loop:\n",
    "    sd2 = compute_sdev([1,2,3]+[N])\n",
    "    if round(sd1, 3) == round(sd2,3):\n",
    "        print(round(N, 2))\n",
    "        loop = False\n",
    "    N-=0.01"
   ]
  },
  {
   "cell_type": "code",
   "execution_count": 71,
   "metadata": {},
   "outputs": [
    {
     "name": "stdout",
     "output_type": "stream",
     "text": [
      "0.816496580927726\n",
      "0.8158890855992621\n"
     ]
    }
   ],
   "source": [
    "import statistics\n",
    "\n",
    "x = [1,2,3]\n",
    "y = [1,2,3,2.94]\n",
    "\n",
    "x1 = compute_sdev(x)\n",
    "y1 = compute_sdev(y)\n",
    "#print(statistics.stdev(x))\n",
    "#print(statistics.stdev(y))\n",
    "print(x1)\n",
    "print(y1)"
   ]
  },
  {
   "cell_type": "markdown",
   "metadata": {},
   "source": [
    "#  Quession 15\n",
    "\n",
    "# The Central Limit Theorem #4\n",
    "\n",
    "You have a sample of 100 values from a population with mean µ = 500 and with standard deviation σ = 80. Compute the interval that covers the middle 95% of the distribution of the sample mean. i.e, compute A and B such that P(A < x < B) = 0.95\n",
    "\n",
    "**Submission Modes and Output Format**\n",
    "\n",
    "You may either solve the problem on pen-and-paper and submit the final answer in the text box, or you may submit an R or Python program to accomplish the above task. Your output should contain the two floating point/decimal numbers each on a new line, correct to 2 places of decimal.\n",
    "\n",
    "1. In the text box below, enter the two floating point/decimal numbers, correct to 2 places of decimal, each on a new line.\n",
    "\n",
    "2. Alternatively, you may submit an R/Python program, which uses the provided parameters (hard-coded) and computes the answer.\n",
    "\n",
    "Your answer should resemble something like:\n",
    "\n",
    "100.10<br>\n",
    "200.35\n",
    "\n",
    "(This is **NOT** the answer, just a demonstration of what the answering format should resemble)."
   ]
  },
  {
   "cell_type": "code",
   "execution_count": 80,
   "metadata": {},
   "outputs": [
    {
     "name": "stdout",
     "output_type": "stream",
     "text": [
      "484.32\n",
      "515.68"
     ]
    }
   ],
   "source": [
    "import math\n",
    "nSamples = 100\n",
    "MeanSample = 500\n",
    "Std = 80\n",
    "StdSample= Std / math.sqrt(nSamples)\n",
    "# 0.95 means is 1.96 in z score table\n",
    "ZedScore = 1.96\n",
    "\n",
    "interval1 = MeanSample - ZedScore * StdSample\n",
    "interval2 = MeanSample + ZedScore * StdSample\n",
    "\n",
    "print(interval1, interval2, sep='\\n',end='')"
   ]
  },
  {
   "cell_type": "markdown",
   "metadata": {},
   "source": [
    "#  Quession 16\n",
    "\n",
    "# Day 1: Standard Deviation Puzzles #2\n",
    "\n",
    "\n",
    "**Objective**\n",
    "\n",
    "In this challenge, we practice calculating standard deviation.\n",
    "\n",
    "**Task**\n",
    "\n",
    "The heights of a group of children are measured. The resulting data has a mean of  meters, and a standard deviation of 0.065 meters. One particular child is 90.25 centimeters tall. Compute , the number of standard deviations away from the mean that the particular child is.\n",
    "\n",
    "Enter the value of z, correct to a scale of two decimal places.\n",
    "\n",
    "**Output Format**\n",
    "\n",
    "Your output must be a floating point/decimal number, correct to a scale of 2 decimal places. You can submit solutions in either of the 2 following ways:\n",
    "\n",
    "1. Solve the problem manually and submit your result as Plain Text.\n",
    "\n",
    "2. Submit an R or Python program, which uses the above parameters (hard-coded), and computes the answer.\n",
    "\n",
    "Your answer format should resemble something like:\n",
    "\n",
    "4.23\n",
    "(This is **NOT** the answer, just a demonstration of the answering format.)"
   ]
  },
  {
   "cell_type": "code",
   "execution_count": 79,
   "metadata": {},
   "outputs": [
    {
     "name": "stdout",
     "output_type": "stream",
     "text": [
      "3.50\n"
     ]
    }
   ],
   "source": [
    "mean = 0.675\n",
    "std = 0.065\n",
    "x = 0.9025\n",
    "print('%0.2f' %((x-mean) / std))"
   ]
  },
  {
   "cell_type": "markdown",
   "metadata": {},
   "source": [
    "#  Quession 17\n",
    "\n",
    "# The Central Limit Theorem #5\n",
    "\n",
    "The amount of regular unleaded gas purchased every week at a particular gas station follows the normal distribution with a mean of 50000 gallons and a standard deviation of 10000 gallons. The starting supply of gasoline is 74000 gallons, and there is a scheduled weekly delivery of 47000 gallons. Compute the probability that, after 11 weeks, the supply of gasoline will be below 20000 gallons.\n",
    "\n",
    "Submission Modes and Output Format\n",
    "You may either solve the problem on pen-and-paper and submit the final answer in the text box, or you may submit an R or Python program to accomplish the above task. Your output should be a floating point/decimal number, correct to 4 places of decimal.\n",
    "\n",
    "1. In the text box below, enter a floating point/decimal number, correct to 4 places of decimal.\n",
    "\n",
    "2. Alternatively, you may submit an R program, which uses the above parameters (hard-coded) and computes the answer.\n",
    "\n",
    "Your answer should resemble something like:\n",
    "\n",
    "0.1234\n",
    "\n",
    "\n",
    "(This is NOT the answer, just a demonstration of what the answering format should resemble)."
   ]
  },
  {
   "cell_type": "code",
   "execution_count": 56,
   "metadata": {},
   "outputs": [
    {
     "name": "stdout",
     "output_type": "stream",
     "text": [
      "0.2633\n"
     ]
    }
   ],
   "source": [
    "import math \n",
    "def cdf(x,mean,sd):\n",
    "    return 0.5*(1+math.erf((x-mean)/(sd*(2**0.5))))\n",
    "Mean = 50000\n",
    "std = 10000\n",
    "\n",
    "weeks = 11\n",
    "start = 74000\n",
    "weekly = 47000\n",
    "end = start + weekly * weeks\n",
    "LowerBound = end-20000\n",
    "\n",
    "SumMean = weeks*Mean\n",
    "SumStd = weeks ** 0.5 * std\n",
    "print('{:0.04f}'.format(1-cdf(LowerBound , SumMean, SumStd)))"
   ]
  },
  {
   "cell_type": "markdown",
   "metadata": {},
   "source": [
    "#  Quession 18\n",
    "\n",
    "# Day 1: Standard Deviation Puzzles #3\n",
    "\n",
    "Let X and Y be two independent \"normal\" random deviates with mean and standard deviation 10 and 3, and 20 and 4, respectively. Let  be the value of the standard deviation of the distribution obtained by adding the two distributions (X + Y).\n",
    "\n",
    "In the answer box, enter the value of $\\sigma$, correct to one place of decimal.\n",
    "\n",
    "**Submission Modes and Output Format**\n",
    "You may either solve the problem on pen-and-paper and submit the final answer in the text box, or you may submit an R or Python program to accomplish the above task. Your output should be a floating point/decimal number, correct to 1 place of decimal.\n",
    "\n",
    "1. In the text box below, enter a floating point/decimal number, correct to 1 place of decimal.\n",
    "\n",
    "2. Alternatively, you may submit an R program, which uses the above parameters (hard-coded) and computes the answer.\n",
    "\n",
    "Your answer should resemble something like:\n",
    "\n",
    "9.1\n",
    "\n",
    "\n",
    "(This is NOT the answer, just a demonstration of what the answering format should resemble)."
   ]
  },
  {
   "cell_type": "code",
   "execution_count": 78,
   "metadata": {},
   "outputs": [
    {
     "name": "stdout",
     "output_type": "stream",
     "text": [
      "NewVariance =  25\n",
      "Standard deviation =  5.0\n"
     ]
    }
   ],
   "source": [
    "from math import sqrt\n",
    "mean1 = 10\n",
    "mean2 = 20\n",
    "std1 = 3\n",
    "std2 = 4\n",
    "NewVariance = ((std1**2)+(std2**2)) \n",
    "print(\"NewVariance = \",NewVariance)\n",
    "print(\"Standard deviation = \",sqrt(NewVariance))"
   ]
  },
  {
   "cell_type": "markdown",
   "metadata": {},
   "source": [
    "#  Quession 19\n",
    "\n",
    "# The Central Limit Theorem #6\n",
    "\n",
    "The amount of regular unleaded gas purchased every week at a particular gas station follows the normal distribution with a mean of 50000 gallons and a standard deviation of 10000 gallons. The starting supply of gasoline is 74000 gallons, and there is a scheduled weekly delivery of 47000 gallons. How many gallons should the weekly delivery be so that after 11 weeks the probability that the supply is below 20000 gallons is only 0.5%?\n",
    "\n",
    "Submission Modes and Output Format\n",
    "You may either solve the problem on pen-and-paper and submit the final answer in the text box, or you may submit an R or Python program to accomplish the above task. Your output should be a floating point/decimal number, correct to 1 place of decimal.\n",
    "\n",
    "1. In the text box below, enter a floating point/decimal number, correct to 4 places of decimal.\n",
    "\n",
    "2. Alternatively, you may submit an R program, which uses the above parameters (hard-coded) and computes the answer.\n",
    "\n",
    "Your answer should resemble something like:\n",
    "\n",
    "1234.2<br>\n",
    "\n",
    "(This is **NOT** the answer, just a demonstration of what the answering format should resemble)."
   ]
  },
  {
   "cell_type": "markdown",
   "metadata": {},
   "source": [
    "Mean = 50000\n",
    "Std = 10000\n",
    "weeks = 11\n",
    "Start = 74000\n",
    "Weekly = 47000\n",
    "End = Start + Weekly * weeks\n",
    "LowerBound = end - 20000\n",
    "SumMean = weeks * Mean\n",
    "SumStd = weeks ** 0.5 * Std\n",
    "A is unknown schedual dalivery\n",
    "Tatal gasoline purchased = 74000 + 11 A - 20000\n",
    "Zvalue = 2.575\n",
    "2.575 = start + weeks * A - 20000 - SumMean / SumStd\n",
    "A = 52854.8"
   ]
  },
  {
   "cell_type": "markdown",
   "metadata": {},
   "source": [
    "#  Quession 20\n",
    "\n",
    "# Standard Deviation Puzzles - 4\n",
    "\n",
    "Let X and Y be two independent \"normal\" random deviates with mean and standard deviation 10 and 3, and 20 and 4, respectively. Let $\\sigma$ be the value of the standard deviation of the distribution obtained by computing the difference of the two distributions (X - Y).\n",
    "\n",
    "In the answer box, enter the value of $\\sigma$ , correct to one place of decimal.\n",
    "\n",
    "**Submission Modes and Output Format**\n",
    "\n",
    "You may either solve the problem on pen-and-paper and submit the final answer in the text box, or you may submit an R or Python program to accomplish the above task. Your output should be a floating point/decimal number, correct to 1 place of decimal.\n",
    "\n",
    "1. In the text box below, enter a floating point/decimal number, correct to 1 place of decimal.\n",
    "\n",
    "2. Alternatively, you may submit an R program, which uses the above parameters (hard-coded) and computes the answer.\n",
    "\n",
    "Your answer should resemble something like:\n",
    "\n",
    "9.1\n",
    "\n",
    "(This is **NOT** the answer, just a demonstration of what the answering format should resemble)."
   ]
  },
  {
   "cell_type": "code",
   "execution_count": 27,
   "metadata": {},
   "outputs": [
    {
     "name": "stdout",
     "output_type": "stream",
     "text": [
      "NewVariance =  25\n",
      "Standard deviation =  5.0\n"
     ]
    }
   ],
   "source": [
    "from math import sqrt\n",
    "NewVariance = ((3**2)+(4**2)) \n",
    "print(\"NewVariance = \",NewVariance)\n",
    "print(\"Standard deviation = \",sqrt(NewVariance))"
   ]
  }
 ],
 "metadata": {
  "kernelspec": {
   "display_name": "Python 3",
   "language": "python",
   "name": "python3"
  },
  "language_info": {
   "codemirror_mode": {
    "name": "ipython",
    "version": 3
   },
   "file_extension": ".py",
   "mimetype": "text/x-python",
   "name": "python",
   "nbconvert_exporter": "python",
   "pygments_lexer": "ipython3",
   "version": "3.8.3"
  }
 },
 "nbformat": 4,
 "nbformat_minor": 2
}
