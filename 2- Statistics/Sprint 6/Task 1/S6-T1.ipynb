{
 "cells": [
  {
   "cell_type": "markdown",
   "metadata": {},
   "source": [
    "# Day 2: Basic Probability Puzzles #1"
   ]
  },
  {
   "cell_type": "markdown",
   "metadata": {},
   "source": [
    "# Quession 1 \n",
    "\n",
    "**Objective**\n",
    "\n",
    "In this challenge, we practice calculating probability.\n",
    "\n",
    "**Task**<br>\n",
    "In a single toss of 2 fair (evenly-weighted) 6-sided dice, find the probability of that their sum will be at most 9.\n",
    "\n",
    "**Output Format**\n",
    "\n",
    "In the editor below, submit your answer as Plain Text in the form of an irreducible fraction $A/B$, where A and B are both integers.\n",
    "\n",
    "Your answer should resemble something like:<br>\n",
    "\n",
    "> 3/4  \n",
    "\n",
    "(This is **NOT** the answer, just a demonstration of the answer format.)"
   ]
  },
  {
   "cell_type": "code",
   "execution_count": 73,
   "metadata": {},
   "outputs": [
    {
     "name": "stdout",
     "output_type": "stream",
     "text": [
      "The probability of sum of numbers which equal less than 9 is  5/6\n"
     ]
    }
   ],
   "source": [
    "from itertools import product \n",
    "from fractions import Fraction\n",
    "a = range(1,7)\n",
    "b = range(1,7)\n",
    "c = []\n",
    "d = []\n",
    "i=0\n",
    "for i in a:\n",
    "    for j in b:\n",
    "        if (i+j)<=9:\n",
    "            c.append((i,j))\n",
    "d = product(a,b)\n",
    "print(\"The probability of sum of numbers which equal less than 9 is \",Fraction(len(c),len(list(d))))"
   ]
  },
  {
   "cell_type": "markdown",
   "metadata": {},
   "source": [
    "# Day 2: Basic Probability Puzzles #2"
   ]
  },
  {
   "cell_type": "markdown",
   "metadata": {},
   "source": [
    "# Quession 2\n",
    "\n",
    "**Objective**\n",
    "\n",
    "In this challenge, we practice calculating probability.\n",
    "\n",
    "**Task**<br>\n",
    "In a single toss of 2 fair (evenly-weighted) 6-sided dice, find the probability that the values rolled by each die will be different and their sum is 6.\n",
    "\n",
    "**Output Format**\n",
    "\n",
    "In the editor below, submit your answer as Plain Text in the form of an irreducible fraction $A/B$, where A and B are both integers.\n",
    "\n",
    "Your answer should resemble something like:<br>\n",
    "\n",
    "> 3/4  \n",
    "\n",
    "(This is **NOT** the answer, just a demonstration of the answer format.)"
   ]
  },
  {
   "cell_type": "code",
   "execution_count": 72,
   "metadata": {},
   "outputs": [
    {
     "name": "stdout",
     "output_type": "stream",
     "text": [
      "The probability of sum of numbers which equal 6 and the two numbers not equaled is  1/9\n"
     ]
    }
   ],
   "source": [
    "from itertools import product\n",
    "from fractions import Fraction\n",
    "a = range(1,7)\n",
    "b = range(1,7)\n",
    "c = []\n",
    "d = []\n",
    "i=0\n",
    "for i in a:\n",
    "    for j in b:\n",
    "        if (((i+j) ==6) and (i != j)):\n",
    "            c.append((i,j))\n",
    "d = product(a,b)\n",
    "print(\"The probability of sum of numbers which equal 6 and the two numbers not equaled is \",Fraction(len(c),len(list(d))))"
   ]
  },
  {
   "cell_type": "markdown",
   "metadata": {},
   "source": [
    "# Day 2: Basic Probability Puzzles #3"
   ]
  },
  {
   "cell_type": "markdown",
   "metadata": {},
   "source": [
    "# Quession 3 \n",
    "\n",
    "**Objective**\n",
    "\n",
    "In this challenge, we practice calculating probability.\n",
    "\n",
    "**Task**\n",
    "There are 3 urns: $X,Y$ and $Z$ .\n",
    "\n",
    "Urn $X$ contains 4 red balls and 3 black balls.<br>\n",
    "Urn $Y$ contains 5 red balls and 4 black balls.<br>\n",
    "Urn $Z$ contains 4 red balls and 4 black balls.<br>\n",
    "One ball is drawn from each urn. What is the probability that the 3 balls drawn consist of 2 red balls and 1 black ball?\n",
    "\n",
    "**Output Format**\n",
    "\n",
    "In the editor below, submit your answer as Plain Text in the form of an irreducible fraction $A/B$, where  and A are B both integers.\n",
    "\n",
    "Your answer should resemble something like:\n",
    "\n",
    "> 3/4  \n",
    "\n",
    "(This is **NOT** the answer, just a demonstration of the answer format.)"
   ]
  },
  {
   "cell_type": "code",
   "execution_count": 1,
   "metadata": {},
   "outputs": [
    {
     "name": "stdout",
     "output_type": "stream",
     "text": [
      "10/63 8/63 5/42\n",
      "17/42\n"
     ]
    }
   ],
   "source": [
    "\"\"\"\n",
    "Probability of choosing the ball from each jar:\n",
    "\n",
    "red: 4/7, 5/9, 4/8\n",
    "\n",
    "black: 3/7, 4/9, 4/8\n",
    "\n",
    "Since the correct combinations are alternatives - add their probabilities up. Correct combinations:\n",
    "\n",
    "rrb: 4/7 * 5/9 * 4/8 = 10/63\n",
    "\n",
    "rbr: 4/7 * 4/9 * 4/8 = 8/63\n",
    "\n",
    "brr: 3/7 * 5/9 * 4/8 = 5/42\n",
    "\n",
    "Total: -------------- 17/42\n",
    "\"\"\"\n",
    "from fractions import Fraction\n",
    "UrnX=[4,3]\n",
    "UrnY=[5,4]\n",
    "UrnZ=[4,4]\n",
    "\n",
    "Red = [UrnX[0],UrnY[0],UrnZ[0]]\n",
    "Black = [UrnX[1],UrnY[1],UrnZ[1]]\n",
    "# The Probability of Red in UrnX\n",
    "RedPerAllX = Fraction(UrnX[0],sum(UrnX))\n",
    "# The Probability of Red in UrnY\n",
    "RedPerAllY = Fraction(UrnY[0],sum(UrnY))\n",
    "# The Probability of Red in UrnZ\n",
    "RedPerAllZ = Fraction(UrnZ[0],sum(UrnZ))\n",
    "# The Probability of Black in UrnX\n",
    "BlackPerAllX = Fraction(UrnX[1],sum(UrnX))\n",
    "# The Probability of Black in UrnY\n",
    "BlackPerAllY = Fraction(UrnY[1],sum(UrnY))\n",
    "# The Probability of Black in UrnZ\n",
    "BlackPerAllZ = Fraction(UrnZ[1],sum(UrnZ))\n",
    "\n",
    "RRB = RedPerAllX*RedPerAllY*BlackPerAllZ\n",
    "RBR = RedPerAllX*BlackPerAllY*RedPerAllZ\n",
    "BRR = BlackPerAllX*RedPerAllY*RedPerAllZ\n",
    "\n",
    "print(RRB,RBR,BRR)\n",
    "print(RRB+RBR+BRR)\n"
   ]
  },
  {
   "cell_type": "markdown",
   "metadata": {},
   "source": [
    "# Day 2: Basic Probability Puzzles #4"
   ]
  },
  {
   "cell_type": "markdown",
   "metadata": {},
   "source": [
    "# Quession 4\n",
    "\n",
    "**Objective**\n",
    "In this challenge, we practice calculating probability.\n",
    "\n",
    "**Task**<br>\n",
    "$Bag1$ contains $4$ red balls and $5$ black balls.<br>\n",
    "$Bag2$ contains $3$ red balls and $7$ black balls.<br>\n",
    "One ball is drawn from the $Bag1$, and $2$ balls are drawn from $Bag2$. Find the probability that $2$ balls are black and $1$ ball is red.\n",
    "\n",
    "**Output Format**\n",
    "\n",
    "In the editor below, submit your answer as Plain Text in the form of an irreducible fraction $A/B$, where $A$ and $B$ are both integers.\n",
    "\n",
    "Your answer should resemble something like:"
   ]
  },
  {
   "cell_type": "code",
   "execution_count": 2,
   "metadata": {},
   "outputs": [
    {
     "name": "stdout",
     "output_type": "stream",
     "text": [
      "7/15\n"
     ]
    }
   ],
   "source": [
    "from fractions import Fraction\n",
    "Bag1 = [4/9,5/9]\n",
    "Bag2 = [3/10,7/10]\n",
    "\n",
    "Red = [Bag1[0], Bag2[0]]\n",
    "Black = [Bag1[1], Bag2[1]]\n",
    "\n",
    "prb1 = Fraction(4,9) * Fraction(7,10) * Fraction(6,9)\n",
    "prb2 = Fraction(5,9) * Fraction(3,10) * Fraction(7,9)\n",
    "prb3 = Fraction(5,9) * Fraction(7,9) * Fraction(3,10)\n",
    "\n",
    "Prob = prb1 + prb2 + prb3\n",
    "print(Prob)"
   ]
  },
  {
   "cell_type": "markdown",
   "metadata": {},
   "source": [
    "# Standard Deviation Puzzles #5"
   ]
  },
  {
   "cell_type": "markdown",
   "metadata": {},
   "source": [
    "# Quession 5\n",
    "\n",
    "If 10 points were added to each of the 500 scores in a sample having a mean of 45 and standard deviation of 10, the new value of the standard deviation for the sample would be: $S$ .\n",
    "\n",
    "In the answer box, enter the value of $S$, correct to one place of decimal.\n",
    "\n",
    "**Submission Modes and Output Format**\n",
    "\n",
    "You may either solve the problem on pen-and-paper and submit the final answer in the text box, or you may submit an R or Python program to accomplish the above task. Your output should be a floating point/decimal number, correct to 1 place of decimal.\n",
    "\n",
    "1. In the text box below, enter a floating point/decimal number, correct to 1 place of decimal.\n",
    "\n",
    "2. Alternatively, you may submit an **R** program, which uses the above parameters (hard-coded) and computes the answer.\n",
    "\n",
    "Your answer should resemble something like:\n",
    "\n",
    "> 9.1\n",
    "\n",
    "(This is **NOT** the answer, just a demonstration of what the answering format should resemble)."
   ]
  },
  {
   "cell_type": "code",
   "execution_count": 4,
   "metadata": {
    "scrolled": true
   },
   "outputs": [
    {
     "name": "stdout",
     "output_type": "stream",
     "text": [
      "500\n",
      "10\n",
      "[0, 1, 2, 3, 4, 5, 6, 7, 8, 9, 10, 11, 12, 13, 14, 15, 16, 17, 18, 19, 20, 21, 22, 23, 24, 25, 26, 27, 28, 29, 30, 31, 32, 33, 34, 35, 36, 37, 38, 39, 40, 41, 42, 43, 44, 45, 46, 47, 48, 49, 50, 51, 52, 53, 54, 55, 56, 57, 58, 59, 60, 61, 62, 63, 64, 65, 66, 67, 68, 69, 70, 71, 72, 73, 74, 75, 76, 77, 78, 79, 80, 81, 82, 83, 84, 85, 86, 87, 88, 89, 90, 91, 92, 93, 94, 95, 96, 97, 98, 99, 100, 101, 102, 103, 104, 105, 106, 107, 108, 109, 110, 111, 112, 113, 114, 115, 116, 117, 118, 119, 120, 121, 122, 123, 124, 125, 126, 127, 128, 129, 130, 131, 132, 133, 134, 135, 136, 137, 138, 139, 140, 141, 142, 143, 144, 145, 146, 147, 148, 149, 150, 151, 152, 153, 154, 155, 156, 157, 158, 159, 160, 161, 162, 163, 164, 165, 166, 167, 168, 169, 170, 171, 172, 173, 174, 175, 176, 177, 178, 179, 180, 181, 182, 183, 184, 185, 186, 187, 188, 189, 190, 191, 192, 193, 194, 195, 196, 197, 198, 199, 200, 201, 202, 203, 204, 205, 206, 207, 208, 209, 210, 211, 212, 213, 214, 215, 216, 217, 218, 219, 220, 221, 222, 223, 224, 225, 226, 227, 228, 229, 230, 231, 232, 233, 234, 235, 236, 237, 238, 239, 240, 241, 242, 243, 244, 245, 246, 247, 248, 249, 250, 251, 252, 253, 254, 255, 256, 257, 258, 259, 260, 261, 262, 263, 264, 265, 266, 267, 268, 269, 270, 271, 272, 273, 274, 275, 276, 277, 278, 279, 280, 281, 282, 283, 284, 285, 286, 287, 288, 289, 290, 291, 292, 293, 294, 295, 296, 297, 298, 299, 300, 301, 302, 303, 304, 305, 306, 307, 308, 309, 310, 311, 312, 313, 314, 315, 316, 317, 318, 319, 320, 321, 322, 323, 324, 325, 326, 327, 328, 329, 330, 331, 332, 333, 334, 335, 336, 337, 338, 339, 340, 341, 342, 343, 344, 345, 346, 347, 348, 349, 350, 351, 352, 353, 354, 355, 356, 357, 358, 359, 360, 361, 362, 363, 364, 365, 366, 367, 368, 369, 370, 371, 372, 373, 374, 375, 376, 377, 378, 379, 380, 381, 382, 383, 384, 385, 386, 387, 388, 389, 390, 391, 392, 393, 394, 395, 396, 397, 398, 399, 400, 401, 402, 403, 404, 405, 406, 407, 408, 409, 410, 411, 412, 413, 414, 415, 416, 417, 418, 419, 420, 421, 422, 423, 424, 425, 426, 427, 428, 429, 430, 431, 432, 433, 434, 435, 436, 437, 438, 439, 440, 441, 442, 443, 444, 445, 446, 447, 448, 449, 450, 451, 452, 453, 454, 455, 456, 457, 458, 459, 460, 461, 462, 463, 464, 465, 466, 467, 468, 469, 470, 471, 472, 473, 474, 475, 476, 477, 478, 479, 480, 481, 482, 483, 484, 485, 486, 487, 488, 489, 490, 491, 492, 493, 494, 495, 496, 497, 498, 499]\n",
      "249.5\n",
      "144.4818327679989\n",
      "[10, 11, 12, 13, 14, 15, 16, 17, 18, 19, 20, 21, 22, 23, 24, 25, 26, 27, 28, 29, 30, 31, 32, 33, 34, 35, 36, 37, 38, 39, 40, 41, 42, 43, 44, 45, 46, 47, 48, 49, 50, 51, 52, 53, 54, 55, 56, 57, 58, 59, 60, 61, 62, 63, 64, 65, 66, 67, 68, 69, 70, 71, 72, 73, 74, 75, 76, 77, 78, 79, 80, 81, 82, 83, 84, 85, 86, 87, 88, 89, 90, 91, 92, 93, 94, 95, 96, 97, 98, 99, 100, 101, 102, 103, 104, 105, 106, 107, 108, 109, 110, 111, 112, 113, 114, 115, 116, 117, 118, 119, 120, 121, 122, 123, 124, 125, 126, 127, 128, 129, 130, 131, 132, 133, 134, 135, 136, 137, 138, 139, 140, 141, 142, 143, 144, 145, 146, 147, 148, 149, 150, 151, 152, 153, 154, 155, 156, 157, 158, 159, 160, 161, 162, 163, 164, 165, 166, 167, 168, 169, 170, 171, 172, 173, 174, 175, 176, 177, 178, 179, 180, 181, 182, 183, 184, 185, 186, 187, 188, 189, 190, 191, 192, 193, 194, 195, 196, 197, 198, 199, 200, 201, 202, 203, 204, 205, 206, 207, 208, 209, 210, 211, 212, 213, 214, 215, 216, 217, 218, 219, 220, 221, 222, 223, 224, 225, 226, 227, 228, 229, 230, 231, 232, 233, 234, 235, 236, 237, 238, 239, 240, 241, 242, 243, 244, 245, 246, 247, 248, 249, 250, 251, 252, 253, 254, 255, 256, 257, 258, 259, 260, 261, 262, 263, 264, 265, 266, 267, 268, 269, 270, 271, 272, 273, 274, 275, 276, 277, 278, 279, 280, 281, 282, 283, 284, 285, 286, 287, 288, 289, 290, 291, 292, 293, 294, 295, 296, 297, 298, 299, 300, 301, 302, 303, 304, 305, 306, 307, 308, 309, 310, 311, 312, 313, 314, 315, 316, 317, 318, 319, 320, 321, 322, 323, 324, 325, 326, 327, 328, 329, 330, 331, 332, 333, 334, 335, 336, 337, 338, 339, 340, 341, 342, 343, 344, 345, 346, 347, 348, 349, 350, 351, 352, 353, 354, 355, 356, 357, 358, 359, 360, 361, 362, 363, 364, 365, 366, 367, 368, 369, 370, 371, 372, 373, 374, 375, 376, 377, 378, 379, 380, 381, 382, 383, 384, 385, 386, 387, 388, 389, 390, 391, 392, 393, 394, 395, 396, 397, 398, 399, 400, 401, 402, 403, 404, 405, 406, 407, 408, 409, 410, 411, 412, 413, 414, 415, 416, 417, 418, 419, 420, 421, 422, 423, 424, 425, 426, 427, 428, 429, 430, 431, 432, 433, 434, 435, 436, 437, 438, 439, 440, 441, 442, 443, 444, 445, 446, 447, 448, 449, 450, 451, 452, 453, 454, 455, 456, 457, 458, 459, 460, 461, 462, 463, 464, 465, 466, 467, 468, 469, 470, 471, 472, 473, 474, 475, 476, 477, 478, 479, 480, 481, 482, 483, 484, 485, 486, 487, 488, 489, 490, 491, 492, 493, 494, 495, 496, 497, 498, 499, 500, 501, 502, 503, 504, 505, 506, 507, 508, 509]\n",
      "259.5\n",
      "144.4818327679989\n"
     ]
    }
   ],
   "source": [
    "from statistics import stdev, mean\n",
    "\n",
    "List_length = int(input())\n",
    "points_added = int(input())\n",
    "\n",
    "L = []\n",
    "L_new = []\n",
    "for i in range(List_length):\n",
    "    L.append(i)\n",
    "\n",
    "L_mean = mean(L)\n",
    "L_stdev = stdev(L)       \n",
    "print(L)\n",
    "print(L_mean)\n",
    "print(L_stdev)\n",
    "\n",
    "L_new = L\n",
    "for i in range(List_length):\n",
    "    L_new[i] += points_added\n",
    "\n",
    "L_new_mean = mean(L_new)\n",
    "L_new_stdev = stdev(L_new)\n",
    "print(L_new)\n",
    "print(L_new_mean)\n",
    "print(L_new_stdev)"
   ]
  },
  {
   "cell_type": "markdown",
   "metadata": {},
   "source": [
    "# Standard Deviation Puzzles #6"
   ]
  },
  {
   "cell_type": "markdown",
   "metadata": {},
   "source": [
    "# Quession 6\n",
    "\n",
    "If we double (multiply by 2) each of the 500 scores in a sample having a mean of 45 and standard deviation of 10, the new value of the standard deviation for the sample would be: $S$ .\n",
    "\n",
    "In the answer box, enter the value of $S$, correct to one place of decimal.\n",
    "\n",
    "**Submission Modes and Output Format**\n",
    "\n",
    "You may either solve the problem on pen-and-paper and submit the final answer in the text box, or you may submit an R or Python program to accomplish the above task. Your output should be a floating point/decimal number, correct to 1 place of decimal.\n",
    "\n",
    "1. In the text box below, enter a floating point/decimal number, correct to 1 place of decimal.\n",
    "\n",
    "2. Alternatively, you may submit an **R** program, which uses the above parameters (hard-coded) and computes the answer.\n",
    "\n",
    "Your answer should resemble something like:\n",
    "\n",
    "> 9.1\n",
    "\n",
    "(This is **NOT** the answer, just a demonstration of what the answering format should resemble)."
   ]
  },
  {
   "cell_type": "code",
   "execution_count": 5,
   "metadata": {},
   "outputs": [
    {
     "name": "stdout",
     "output_type": "stream",
     "text": [
      "500\n",
      "10\n",
      "[0, 1, 2, 3, 4, 5, 6, 7, 8, 9, 10, 11, 12, 13, 14, 15, 16, 17, 18, 19, 20, 21, 22, 23, 24, 25, 26, 27, 28, 29, 30, 31, 32, 33, 34, 35, 36, 37, 38, 39, 40, 41, 42, 43, 44, 45, 46, 47, 48, 49, 50, 51, 52, 53, 54, 55, 56, 57, 58, 59, 60, 61, 62, 63, 64, 65, 66, 67, 68, 69, 70, 71, 72, 73, 74, 75, 76, 77, 78, 79, 80, 81, 82, 83, 84, 85, 86, 87, 88, 89, 90, 91, 92, 93, 94, 95, 96, 97, 98, 99, 100, 101, 102, 103, 104, 105, 106, 107, 108, 109, 110, 111, 112, 113, 114, 115, 116, 117, 118, 119, 120, 121, 122, 123, 124, 125, 126, 127, 128, 129, 130, 131, 132, 133, 134, 135, 136, 137, 138, 139, 140, 141, 142, 143, 144, 145, 146, 147, 148, 149, 150, 151, 152, 153, 154, 155, 156, 157, 158, 159, 160, 161, 162, 163, 164, 165, 166, 167, 168, 169, 170, 171, 172, 173, 174, 175, 176, 177, 178, 179, 180, 181, 182, 183, 184, 185, 186, 187, 188, 189, 190, 191, 192, 193, 194, 195, 196, 197, 198, 199, 200, 201, 202, 203, 204, 205, 206, 207, 208, 209, 210, 211, 212, 213, 214, 215, 216, 217, 218, 219, 220, 221, 222, 223, 224, 225, 226, 227, 228, 229, 230, 231, 232, 233, 234, 235, 236, 237, 238, 239, 240, 241, 242, 243, 244, 245, 246, 247, 248, 249, 250, 251, 252, 253, 254, 255, 256, 257, 258, 259, 260, 261, 262, 263, 264, 265, 266, 267, 268, 269, 270, 271, 272, 273, 274, 275, 276, 277, 278, 279, 280, 281, 282, 283, 284, 285, 286, 287, 288, 289, 290, 291, 292, 293, 294, 295, 296, 297, 298, 299, 300, 301, 302, 303, 304, 305, 306, 307, 308, 309, 310, 311, 312, 313, 314, 315, 316, 317, 318, 319, 320, 321, 322, 323, 324, 325, 326, 327, 328, 329, 330, 331, 332, 333, 334, 335, 336, 337, 338, 339, 340, 341, 342, 343, 344, 345, 346, 347, 348, 349, 350, 351, 352, 353, 354, 355, 356, 357, 358, 359, 360, 361, 362, 363, 364, 365, 366, 367, 368, 369, 370, 371, 372, 373, 374, 375, 376, 377, 378, 379, 380, 381, 382, 383, 384, 385, 386, 387, 388, 389, 390, 391, 392, 393, 394, 395, 396, 397, 398, 399, 400, 401, 402, 403, 404, 405, 406, 407, 408, 409, 410, 411, 412, 413, 414, 415, 416, 417, 418, 419, 420, 421, 422, 423, 424, 425, 426, 427, 428, 429, 430, 431, 432, 433, 434, 435, 436, 437, 438, 439, 440, 441, 442, 443, 444, 445, 446, 447, 448, 449, 450, 451, 452, 453, 454, 455, 456, 457, 458, 459, 460, 461, 462, 463, 464, 465, 466, 467, 468, 469, 470, 471, 472, 473, 474, 475, 476, 477, 478, 479, 480, 481, 482, 483, 484, 485, 486, 487, 488, 489, 490, 491, 492, 493, 494, 495, 496, 497, 498, 499]\n",
      "249.5\n",
      "144.4818327679989\n",
      "[0, 10, 20, 30, 40, 50, 60, 70, 80, 90, 100, 110, 120, 130, 140, 150, 160, 170, 180, 190, 200, 210, 220, 230, 240, 250, 260, 270, 280, 290, 300, 310, 320, 330, 340, 350, 360, 370, 380, 390, 400, 410, 420, 430, 440, 450, 460, 470, 480, 490, 500, 510, 520, 530, 540, 550, 560, 570, 580, 590, 600, 610, 620, 630, 640, 650, 660, 670, 680, 690, 700, 710, 720, 730, 740, 750, 760, 770, 780, 790, 800, 810, 820, 830, 840, 850, 860, 870, 880, 890, 900, 910, 920, 930, 940, 950, 960, 970, 980, 990, 1000, 1010, 1020, 1030, 1040, 1050, 1060, 1070, 1080, 1090, 1100, 1110, 1120, 1130, 1140, 1150, 1160, 1170, 1180, 1190, 1200, 1210, 1220, 1230, 1240, 1250, 1260, 1270, 1280, 1290, 1300, 1310, 1320, 1330, 1340, 1350, 1360, 1370, 1380, 1390, 1400, 1410, 1420, 1430, 1440, 1450, 1460, 1470, 1480, 1490, 1500, 1510, 1520, 1530, 1540, 1550, 1560, 1570, 1580, 1590, 1600, 1610, 1620, 1630, 1640, 1650, 1660, 1670, 1680, 1690, 1700, 1710, 1720, 1730, 1740, 1750, 1760, 1770, 1780, 1790, 1800, 1810, 1820, 1830, 1840, 1850, 1860, 1870, 1880, 1890, 1900, 1910, 1920, 1930, 1940, 1950, 1960, 1970, 1980, 1990, 2000, 2010, 2020, 2030, 2040, 2050, 2060, 2070, 2080, 2090, 2100, 2110, 2120, 2130, 2140, 2150, 2160, 2170, 2180, 2190, 2200, 2210, 2220, 2230, 2240, 2250, 2260, 2270, 2280, 2290, 2300, 2310, 2320, 2330, 2340, 2350, 2360, 2370, 2380, 2390, 2400, 2410, 2420, 2430, 2440, 2450, 2460, 2470, 2480, 2490, 2500, 2510, 2520, 2530, 2540, 2550, 2560, 2570, 2580, 2590, 2600, 2610, 2620, 2630, 2640, 2650, 2660, 2670, 2680, 2690, 2700, 2710, 2720, 2730, 2740, 2750, 2760, 2770, 2780, 2790, 2800, 2810, 2820, 2830, 2840, 2850, 2860, 2870, 2880, 2890, 2900, 2910, 2920, 2930, 2940, 2950, 2960, 2970, 2980, 2990, 3000, 3010, 3020, 3030, 3040, 3050, 3060, 3070, 3080, 3090, 3100, 3110, 3120, 3130, 3140, 3150, 3160, 3170, 3180, 3190, 3200, 3210, 3220, 3230, 3240, 3250, 3260, 3270, 3280, 3290, 3300, 3310, 3320, 3330, 3340, 3350, 3360, 3370, 3380, 3390, 3400, 3410, 3420, 3430, 3440, 3450, 3460, 3470, 3480, 3490, 3500, 3510, 3520, 3530, 3540, 3550, 3560, 3570, 3580, 3590, 3600, 3610, 3620, 3630, 3640, 3650, 3660, 3670, 3680, 3690, 3700, 3710, 3720, 3730, 3740, 3750, 3760, 3770, 3780, 3790, 3800, 3810, 3820, 3830, 3840, 3850, 3860, 3870, 3880, 3890, 3900, 3910, 3920, 3930, 3940, 3950, 3960, 3970, 3980, 3990, 4000, 4010, 4020, 4030, 4040, 4050, 4060, 4070, 4080, 4090, 4100, 4110, 4120, 4130, 4140, 4150, 4160, 4170, 4180, 4190, 4200, 4210, 4220, 4230, 4240, 4250, 4260, 4270, 4280, 4290, 4300, 4310, 4320, 4330, 4340, 4350, 4360, 4370, 4380, 4390, 4400, 4410, 4420, 4430, 4440, 4450, 4460, 4470, 4480, 4490, 4500, 4510, 4520, 4530, 4540, 4550, 4560, 4570, 4580, 4590, 4600, 4610, 4620, 4630, 4640, 4650, 4660, 4670, 4680, 4690, 4700, 4710, 4720, 4730, 4740, 4750, 4760, 4770, 4780, 4790, 4800, 4810, 4820, 4830, 4840, 4850, 4860, 4870, 4880, 4890, 4900, 4910, 4920, 4930, 4940, 4950, 4960, 4970, 4980, 4990]\n",
      "2495\n",
      "1444.818327679989\n"
     ]
    }
   ],
   "source": [
    "from statistics import stdev, mean\n",
    "\n",
    "List_length = int(input())\n",
    "points_added = int(input())\n",
    "\n",
    "L = []\n",
    "L_new = []\n",
    "for i in range(List_length):\n",
    "    L.append(i)\n",
    "\n",
    "L_mean = mean(L)\n",
    "L_stdev = stdev(L)       \n",
    "print(L)\n",
    "print(L_mean)\n",
    "print(L_stdev)\n",
    "\n",
    "L_new = L\n",
    "for i in range(List_length):\n",
    "    L_new[i] *= points_added\n",
    "    \n",
    "\n",
    "L_new_mean = mean(L_new)\n",
    "L_new_stdev = stdev(L_new)\n",
    "print(L_new)\n",
    "print(L_new_mean)\n",
    "print(L_new_stdev)"
   ]
  }
 ],
 "metadata": {
  "kernelspec": {
   "display_name": "Python 3",
   "language": "python",
   "name": "python3"
  },
  "language_info": {
   "codemirror_mode": {
    "name": "ipython",
    "version": 3
   },
   "file_extension": ".py",
   "mimetype": "text/x-python",
   "name": "python",
   "nbconvert_exporter": "python",
   "pygments_lexer": "ipython3",
   "version": "3.7.4"
  }
 },
 "nbformat": 4,
 "nbformat_minor": 2
}
