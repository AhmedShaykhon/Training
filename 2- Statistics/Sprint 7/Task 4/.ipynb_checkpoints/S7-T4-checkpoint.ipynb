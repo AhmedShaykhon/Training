{
 "cells": [
  {
   "cell_type": "markdown",
   "metadata": {},
   "source": [
    "# Question  1\n",
    "\n",
    "# Day 0: Mean, Median, and Mode\n",
    "\n",
    "Build Program To calculate (Mean, Median, and Mode)\n",
    "\n",
    "**Input Format**\n",
    "\n",
    "The first line contains an integer, , denoting the number of elements in the array.\n",
    "The second line contains  space-separated integers describing the array's elements.\n",
    "\n",
    "**Output Format**\n",
    "\n",
    "Print  lines of output in the following order:\n",
    "\n",
    "> 1. Print the mean on a new line, 1 to N a scale of  decimal place (i.e., 12.3 , 7.0).\n",
    "> 2. Print the median on a new line, 1 to N  a scale of  decimal place (i.e., 12.3 ,7.0).\n",
    "> 3. Print the mode on a new line; if more than one such value exists, print the numerically smallest one.\n",
    "\n",
    "**Sample Input**\n",
    "\n",
    "10 <br>\n",
    "64630 11735 14216 99233 14470 4978 73429 38120 51135 67060<br>\n",
    "\n",
    "**Sample Output**\n",
    "\n",
    "43900.6<br>\n",
    "44627.5<br>\n",
    "4978<br>"
   ]
  },
  {
   "cell_type": "code",
   "execution_count": 45,
   "metadata": {},
   "outputs": [
    {
     "name": "stdout",
     "output_type": "stream",
     "text": [
      "Please insert the number of elements: 5\n",
      "1 1 2 3 4\n",
      "2.2\n",
      "2\n",
      "1\n"
     ]
    }
   ],
   "source": [
    "from statistics import mean, median, mode\n",
    "N = int(input(\"Please insert the number of elements: \"))\n",
    "L = [int(x) for x in (input().split())[:N]]\n",
    "print(mean(L))\n",
    "Median = median(L)\n",
    "Mode = mode(L)\n",
    "print(Median)\n",
    "print(Mode)"
   ]
  },
  {
   "cell_type": "markdown",
   "metadata": {},
   "source": [
    "# Question  2\n",
    "\n",
    "# Day 0: Weighted Mean\n",
    "\n",
    "The first line contains an integer, N , denoting the number of elements in arrays X and W.<br>\n",
    "The second line contains N space-separated integers describing the respective elements of array X.<br>\n",
    "The third line contains N space-separated integers describing the respective elements of array W.<br>\n",
    "\n",
    "\n",
    "**Output Format**\n",
    "\n",
    "Print the weighted mean on a new line. Your answer should be rounded to a scale of  decimal place (i.e.,  format).\n",
    "\n",
    "**Sample Input**\n",
    "\n",
    "5<br>\n",
    "10 40 30 50 20<br>\n",
    "1 2 3 4 5<br>\n",
    "\n",
    "**Sample Output**\n",
    "\n",
    "32.0"
   ]
  },
  {
   "cell_type": "code",
   "execution_count": 58,
   "metadata": {},
   "outputs": [
    {
     "name": "stdout",
     "output_type": "stream",
     "text": [
      "Please insert the number of elements: 5\n",
      "10 40 30 50 20\n",
      "1 2 3 4 5\n",
      "[1, 2, 3, 4, 5]\n",
      "[10, 40, 30, 50, 20]\n",
      "[10, 80, 90, 200, 100]\n",
      "96\n"
     ]
    }
   ],
   "source": [
    "from statistics import mean, median, mode\n",
    "N = int(input(\"Please insert the number of elements: \"))\n",
    "X = [int(x) for x in (input().split())[:N]]\n",
    "W = [int(x) for x in (input().split())[:N]]\n",
    "\n",
    "print(W)\n",
    "for i in range (N):\n",
    "    W[i]= W[i]*X[i]\n",
    "print (X)\n",
    "print (W)\n",
    "print(mean(W))"
   ]
  },
  {
   "cell_type": "markdown",
   "metadata": {},
   "source": [
    "# Question  3\n",
    "\n",
    "# Day 1: Quartiles\n",
    "\n",
    "Given an array X, of n integers, calculate the respective first quartile (Q1), second quartile (Q2), and third quartile (Q3). It is guaranteed that Q1, Q2 and Q3 are integers.\n",
    "\n",
    "**Input Format**\n",
    "\n",
    "The first line contains an integer, n, denoting the number of elements in the array.\n",
    "The second line contains n space-separated integers describing the array's elements.\n",
    "\n",
    "**Output Format**\n",
    "\n",
    "Print 3 lines of output in the following order:\n",
    "\n",
    "The first line should be the value of Q1.\n",
    "The second line should be the value of Q2.\n",
    "The third line should be the value of Q3.\n",
    "\n",
    "**Sample Input**\n",
    "\n",
    "9<br>\n",
    "3 7 8 5 12 14 21 13 18<br>\n",
    "\n",
    "**Sample Output**\n",
    "\n",
    "6<br>\n",
    "12<br>\n",
    "16<br>"
   ]
  },
  {
   "cell_type": "code",
   "execution_count": 53,
   "metadata": {},
   "outputs": [
    {
     "name": "stdout",
     "output_type": "stream",
     "text": [
      "Please insert the number of elements: 9\n",
      "3 7 8 5 12 14 21 13 18\n",
      "[3, 5, 7, 8, 12, 13, 14, 18, 21]\n",
      "6.0\n",
      "12\n",
      "16.0\n"
     ]
    }
   ],
   "source": [
    "from statistics import mean, median, mode\n",
    "def CheckQuartile(Q):\n",
    "    mid = (len(Q)//2)\n",
    "    if (len(Q))%2:\n",
    "        return int(Q[mid])\n",
    "    else:\n",
    "        return (int(Q[mid]+Q[mid-1])/2)\n",
    "\n",
    "N = int(input(\"Please insert the number of elements: \"))\n",
    "X = sorted(list(map(int , input().split())))\n",
    "print (X)\n",
    "\n",
    "Q1 = []\n",
    "Q2 = []\n",
    "Q3 = []\n",
    "\n",
    "Q2 = CheckQuartile(X)\n",
    "\n",
    "Q1 = CheckQuartile( [i for i in X if i < Q2])\n",
    "         \n",
    "Q3 = CheckQuartile( [i for i in X if i > Q2])\n",
    "\n",
    "\n",
    "print (Q1)\n",
    "print(Q2)\n",
    "print (Q3)"
   ]
  },
  {
   "cell_type": "markdown",
   "metadata": {},
   "source": [
    "# Question  4\n",
    "\n",
    "# Day 1: Interquartile Range\n",
    "\n",
    "**Input Format**\n",
    "\n",
    "The first line contains an integer, n, denoting the number of elements in arrays X and F.\n",
    "The second line contains n space-separated integers describing the respective elements of array X.\n",
    "The third line contains n space-separated integers describing the respective elements of array F.\n",
    "\n",
    "**Output Format**\n",
    "\n",
    "Print the interquartile range for the expanded data set on a new line. Round your answer to a scale of 1 decimal place (i.e.,123  format).\n",
    "\n",
    "**Sample Input**\n",
    "\n",
    "6<br>\n",
    "6 12 8 10 20 16<br>\n",
    "5 4 3 2 1 5<br>\n",
    "\n",
    "**Sample Output**\n",
    "<br>\n",
    "9.0\n"
   ]
  },
  {
   "cell_type": "code",
   "execution_count": 55,
   "metadata": {},
   "outputs": [
    {
     "name": "stdout",
     "output_type": "stream",
     "text": [
      "6\n",
      "6 12 8 10 20 16\n",
      "5 4 3 2 1 5\n",
      "[6, 6, 6, 6, 6, 12, 12, 12, 12, 8, 8, 8, 10, 10, 20, 16, 16, 16, 16, 16]\n",
      "9.0\n"
     ]
    }
   ],
   "source": [
    "from statistics import mean, median, mode\n",
    "def CheckQuartile(Q):\n",
    "    mid = (len(Q)//2)\n",
    "    if (len(Q))%2:\n",
    "        return int(Q[mid])\n",
    "    else:\n",
    "        return (int(Q[mid]+Q[mid-1])/2)\n",
    "\n",
    "n = int(input())\n",
    "X = list(map(int , input().split()))\n",
    "F = list(map(int , input().split()))\n",
    "Q = []\n",
    "\n",
    "for i in range(n): # O(N*2)\n",
    "    Q.extend([X[i]]* F[i] )\n",
    "    \n",
    "print(Q)\n",
    "# sorted(tr , key = None ,reverse = False)\n",
    "Q = sorted(Q)\n",
    "mid = n //2\n",
    "#6 12 8 10 20 16\n",
    "#5 4 3 2 1 5\n",
    "Q2 = CheckQuartile(Q)\n",
    "Q1 = CheckQuartile([i for i in Q if i < Q2])\n",
    "Q3 = CheckQuartile([i for i in Q if i > Q2])\n",
    "print('{0:.1f}'.format(Q3 - Q1))"
   ]
  },
  {
   "cell_type": "markdown",
   "metadata": {},
   "source": [
    "# Question  5\n",
    "\n",
    "# Day 1: Standard Deviation\n",
    "\n",
    "**Input Format**\n",
    "\n",
    "The first line contains an integer,N , denoting the number of elements in the array.\n",
    "The second line contains N space-separated integers describing the respective elements of the array.\n",
    "\n",
    "**Sample Input**\n",
    "\n",
    "5<br>\n",
    "10 40 30 50 20\n",
    "\n",
    "**Sample Output**\n",
    "\n",
    "14.1\n",
    "\n"
   ]
  },
  {
   "cell_type": "code",
   "execution_count": 65,
   "metadata": {},
   "outputs": [
    {
     "name": "stdout",
     "output_type": "stream",
     "text": [
      "5\n",
      "10 40 30 50 20\n",
      "14.1\n"
     ]
    }
   ],
   "source": [
    "import math\n",
    "n = int(input())\n",
    "X = list(map(int , input().split()))\n",
    "\n",
    "mean = sum(X)/n\n",
    "\n",
    "L_Var = list( map(lambda x: (x-mean)**2 , X))\n",
    "\n",
    "Std = round(sqrt(sum(L_Var) / n), 1)\n",
    "print(Std)"
   ]
  },
  {
   "cell_type": "markdown",
   "metadata": {},
   "source": [
    "# Question  6\n",
    "\n",
    "# Day 2: Basic Probability\n",
    "\n",
    "**Objective**\n",
    "In this challenge, we practice calculating probability. Check out the Tutorial tab for a breakdown of probability fundamentals!\n",
    "\n",
    "\n",
    "**Task**\n",
    "In a single toss of 2 fair (evenly-weighted) six-sided dice, find the probability that their sum will be at most 9."
   ]
  },
  {
   "cell_type": "code",
   "execution_count": 74,
   "metadata": {},
   "outputs": [
    {
     "name": "stdout",
     "output_type": "stream",
     "text": [
      "2\n",
      "[(1, 1), (1, 2), (1, 3), (1, 4), (1, 5), (1, 6), (2, 1), (2, 2), (2, 3), (2, 4), (2, 5), (2, 6), (3, 1), (3, 2), (3, 3), (3, 4), (3, 5), (3, 6), (4, 1), (4, 2), (4, 3), (4, 4), (4, 5), (4, 6), (5, 1), (5, 2), (5, 3), (5, 4), (5, 5), (5, 6), (6, 1), (6, 2), (6, 3), (6, 4), (6, 5), (6, 6)]\n",
      "36\n",
      "6\n",
      "5/6\n"
     ]
    }
   ],
   "source": [
    "from itertools import product\n",
    "from fractions import Fraction\n",
    "# Numb = number of toss\n",
    "Numb = int(input())\n",
    "Prob = list(product(list(range(1,7)) , repeat = Numb))\n",
    "print(Prob )\n",
    "print(len(Prob))\n",
    "A_not =sum([sum(i)>9 for i in Prob])\n",
    "print(A_not)\n",
    "\n",
    "print(1-Fraction(A_not , len(prob)))"
   ]
  },
  {
   "cell_type": "markdown",
   "metadata": {},
   "source": [
    "# Question  7\n",
    "\n",
    "# Day 2: More Dice\n",
    "\n",
    "**Objective**\n",
    "In this challenge, we practice calculating probability. We recommend you review the previous challenge's Tutorial before attempting this problem.\n",
    "\n",
    "\n",
    "**Task**\n",
    "In a single toss of 2 fair (evenly-weighted) six-sided dice, find the probability that the values rolled by each die will be different and the two dice have a sum of 6."
   ]
  },
  {
   "cell_type": "code",
   "execution_count": 75,
   "metadata": {
    "scrolled": true
   },
   "outputs": [
    {
     "name": "stdout",
     "output_type": "stream",
     "text": [
      "2\n",
      "[(1, 1), (1, 2), (1, 3), (1, 4), (1, 5), (1, 6), (2, 1), (2, 2), (2, 3), (2, 4), (2, 5), (2, 6), (3, 1), (3, 2), (3, 3), (3, 4), (3, 5), (3, 6), (4, 1), (4, 2), (4, 3), (4, 4), (4, 5), (4, 6), (5, 1), (5, 2), (5, 3), (5, 4), (5, 5), (5, 6), (6, 1), (6, 2), (6, 3), (6, 4), (6, 5), (6, 6)]\n",
      "1/9\n"
     ]
    }
   ],
   "source": [
    "from itertools import product\n",
    "from fractions import Fraction\n",
    "# Numb = nuber of toss\n",
    "Numb = int(input())\n",
    "Prob = list(product(list(range(1,7)) , repeat = Numb))\n",
    "print(Prob)\n",
    "A = len([i for i in Prob if sum(i)==6 and i[0]!=i[-1]])\n",
    "print(Fraction(A , len(Prob)))"
   ]
  },
  {
   "cell_type": "markdown",
   "metadata": {},
   "source": [
    "# Question  8\n",
    "\n",
    "# Day 2: Compound Event Probability\n",
    "\n",
    "**Objective**\n",
    "\n",
    "In this challenge, we practice calculating the probability of a compound event. We recommend you review today's Probability Tutorial before attempting this challenge.\n",
    "\n",
    "\n",
    "**Task**\n",
    "There are 3 urns: $X,Y$ and $Z$ .\n",
    "\n",
    "Urn $X$ contains 4 red balls and 3 black balls.<br>\n",
    "Urn $Y$ contains 5 red balls and 4 black balls.<br>\n",
    "Urn $Z$ contains 4 red balls and 4 black balls.<br>\n",
    "\n",
    "One ball is drawn from each of the 3 urns. What is the probability that, of the 3 balls drawn, 2 are red and 1 is black?\n"
   ]
  },
  {
   "cell_type": "code",
   "execution_count": 76,
   "metadata": {},
   "outputs": [
    {
     "name": "stdout",
     "output_type": "stream",
     "text": [
      "10/63 8/63 5/42\n",
      "17/42\n"
     ]
    }
   ],
   "source": [
    "\"\"\"\n",
    "Probability of choosing the ball from each jar:\n",
    "\n",
    "red: 4/7, 5/9, 4/8\n",
    "\n",
    "black: 3/7, 4/9, 4/8\n",
    "\n",
    "Since the correct combinations are alternatives - add their probabilities up. Correct combinations:\n",
    "\n",
    "rrb: 4/7 * 5/9 * 4/8 = 10/63\n",
    "\n",
    "rbr: 4/7 * 4/9 * 4/8 = 8/63\n",
    "\n",
    "brr: 3/7 * 5/9 * 4/8 = 5/42\n",
    "\n",
    "Total: -------------- 17/42\n",
    "\"\"\"\n",
    "from fractions import Fraction\n",
    "UrnX=[4,3]\n",
    "UrnY=[5,4]\n",
    "UrnZ=[4,4]\n",
    "\n",
    "Red = [UrnX[0],UrnY[0],UrnZ[0]]\n",
    "Black = [UrnX[1],UrnY[1],UrnZ[1]]\n",
    "# The Probability of Red in UrnX\n",
    "RedPerAllX = Fraction(UrnX[0],sum(UrnX))\n",
    "# The Probability of Red in UrnY\n",
    "RedPerAllY = Fraction(UrnY[0],sum(UrnY))\n",
    "# The Probability of Red in UrnZ\n",
    "RedPerAllZ = Fraction(UrnZ[0],sum(UrnZ))\n",
    "# The Probability of Black in UrnX\n",
    "BlackPerAllX = Fraction(UrnX[1],sum(UrnX))\n",
    "# The Probability of Black in UrnY\n",
    "BlackPerAllY = Fraction(UrnY[1],sum(UrnY))\n",
    "# The Probability of Black in UrnZ\n",
    "BlackPerAllZ = Fraction(UrnZ[1],sum(UrnZ))\n",
    "\n",
    "RRB = RedPerAllX*RedPerAllY*BlackPerAllZ\n",
    "RBR = RedPerAllX*BlackPerAllY*RedPerAllZ\n",
    "BRR = BlackPerAllX*RedPerAllY*RedPerAllZ\n",
    "\n",
    "print(RRB,RBR,BRR)\n",
    "print(RRB+RBR+BRR)\n"
   ]
  },
  {
   "cell_type": "markdown",
   "metadata": {},
   "source": [
    "# Question  9\n",
    "\n",
    "# Day 3: Conditional Probability\n",
    "\n",
    "**Objective**\n",
    "In this challenge, we get started with conditional probability. Check out the Tutorial tab for learning materials!\n",
    "\n",
    "\n",
    "**Task**\n",
    "Suppose a family has 2 children, one of which is a boy. What is the probability that both children are boys?"
   ]
  },
  {
   "cell_type": "code",
   "execution_count": 80,
   "metadata": {},
   "outputs": [
    {
     "data": {
      "text/plain": [
       "Fraction(1, 3)"
      ]
     },
     "execution_count": 80,
     "metadata": {},
     "output_type": "execute_result"
    }
   ],
   "source": [
    "Girl = Boy = Fraction(1,5)\n",
    "ProbBgBB = 1\n",
    "ProbB = Fraction(3,4)\n",
    "ProbBB = Fraction(1,4)\n",
    "ProbBgbb =( ProbBgBB * ProbBB) / ProbB\n",
    "ProbBgbb"
   ]
  },
  {
   "cell_type": "markdown",
   "metadata": {},
   "source": [
    "# Question  10\n",
    "\n",
    "# Day 3: Cards of the Same Suit\n",
    "\n",
    "**Objective**<br>\n",
    "In this challenge, we're getting started with combinations and permutations. Check out the Tutorial tab for learning materials!\n",
    "\n",
    "\n",
    "**Task**<br>\n",
    "You draw 2 cards from a standard 52-card deck without replacing them. What is the probability that both cards are of the same suit?"
   ]
  },
  {
   "cell_type": "code",
   "execution_count": 81,
   "metadata": {},
   "outputs": [
    {
     "name": "stdout",
     "output_type": "stream",
     "text": [
      "4/17\n"
     ]
    }
   ],
   "source": [
    "from fractions import Fraction\n",
    "\n",
    "#used eqation 4!/(4-1)! * 13!/(2!*(31-2)!)\n",
    "p2 = 4*Fraction(13*12,2)\n",
    "\n",
    "#used equation 52! / 2! *(52-2)!\n",
    "total = Fraction(52*51,2)\n",
    "print(Fraction(p2,total))"
   ]
  },
  {
   "cell_type": "markdown",
   "metadata": {},
   "source": [
    "# Question  11\n",
    "\n",
    "# Day 3: Drawing Marbles\n",
    "\n",
    "**Objective**<br>\n",
    "In this challenge, we're reinforcing what we've learned today. In case you've missed them, today's tutorials are on Conditional Probability and Combinations and Permutations.\n",
    "\n",
    "\n",
    "**Task**<br>\n",
    "A bag contains 3 red marbles and 4 blue marbles. Then, 2 marbles are drawn from the bag, at random, without replacement. If the first marble drawn is red, what is the probability that the second marble is blue?"
   ]
  },
  {
   "cell_type": "code",
   "execution_count": 82,
   "metadata": {},
   "outputs": [
    {
     "name": "stdout",
     "output_type": "stream",
     "text": [
      "2/3\n"
     ]
    }
   ],
   "source": [
    "print(Fraction(4,6))"
   ]
  },
  {
   "cell_type": "markdown",
   "metadata": {},
   "source": [
    "# Question  12\n",
    "\n",
    "# Day 4: Binomial Distribution I\n",
    "\n",
    "\n",
    "**Objective**\n",
    "\n",
    "In this challenge, we learn about binomial distributions. Check out the Tutorial tab for learning materials!\n",
    "\n",
    "**Task**\n",
    "\n",
    "The ratio of boys to girls for babies born in Russia is 1.09:1 . If there is  child born per birth, what proportion of Russian families with exactly 6 children will have at least  boys?\n",
    "\n",
    "Write a program to compute the answer using the above parameters. Then print your result, rounded to a scale of 3 decimal places (i.e., 1.234 format).\n",
    "\n",
    "**Input Format**\n",
    "\n",
    "A single line containing the following values:\n",
    "\n",
    "1.09 1 <br>\n",
    "If you do not wish to read this information from stdin, you can hard-code it into your program.\n",
    "\n",
    "Output Format\n",
    "\n",
    "Print a single line denoting the answer, rounded to a scale of 3 decimal places (i.e., 1.234 format).\n"
   ]
  },
  {
   "cell_type": "code",
   "execution_count": 1,
   "metadata": {},
   "outputs": [
    {
     "name": "stdout",
     "output_type": "stream",
     "text": [
      "1.09 1\n",
      "0.696\n"
     ]
    }
   ],
   "source": [
    "def fact(n):\n",
    "    return 1 if n == 0 else n*fact(n-1)\n",
    "\n",
    "def binomial(n, x):\n",
    "    return fact(n) / (fact(x) * fact(n-x))\n",
    "#a : b = 1 : 2\n",
    "#p(a)        \n",
    "\n",
    "def bi(x, n, p):\n",
    "    return binomial(n, x) * p**x * (1-p)**(n-x)\n",
    "\n",
    "ProbB, ProbG = list(map(float, input().split(\" \")))\n",
    "odds = ProbB / ProbG\n",
    "print(round(sum([bi(i, 6, odds / (1 + odds)) for i in range(3, 7)]), 3))"
   ]
  },
  {
   "cell_type": "markdown",
   "metadata": {},
   "source": [
    "# Question  13\n",
    "\n",
    "# Day 4: Binomial Distribution II\n",
    "\n",
    "**Objective**\n",
    "In this challenge, we go further with binomial distributions. We recommend reviewing the previous challenge's Tutorial before attempting this problem.\n",
    "\n",
    "**Task**\n",
    "A manufacturer of metal pistons finds that, on average, 12% of the pistons they manufacture are rejected because they are incorrectly sized. What is the probability that a batch of 10 pistons will contain:\n",
    "\n",
    "1. No more than 2 rejects?<br>\n",
    "2. At least 2 rejects?\n",
    "\n",
    "**Input Format**\n",
    "\n",
    "A single line containing the following values (denoting the respective percentage of defective pistons and the size of the current batch of pistons):\n",
    "\n",
    "12 10\n",
    "\n",
    "\n",
    "If you do not wish to read this information from stdin, you can hard-code it into your program.\n",
    "\n",
    "**Output Format**\n",
    "\n",
    "Print the answer to each question on its own line:\n",
    "\n",
    "The first line should contain the probability that a batch of 10 pistons will contain no more than 2 rejects.\n",
    "The second line should contain the probability that a batch of 10 pistons will contain at least 2 rejects.\n",
    "Round both of your answers to a scale of 3 decimal places (i.e.,1.234  format)."
   ]
  },
  {
   "cell_type": "code",
   "execution_count": 3,
   "metadata": {},
   "outputs": [
    {
     "name": "stdout",
     "output_type": "stream",
     "text": [
      "12 10\n",
      "0.891\n",
      "0.342\n"
     ]
    }
   ],
   "source": [
    "def fact(n):\n",
    "    return 1 if n == 0 else n*fact(n-1)\n",
    "\n",
    "def binomial(n, x):\n",
    "    return fact(n) / (fact(x) * fact(n-x))\n",
    "\n",
    "def bi(x, n, p):\n",
    "    return binomial(n, x) * p**x * (1-p)**(n-x)\n",
    "\n",
    "p, n = list(map(int, input().split(\" \")))\n",
    "print(round(sum([bi(i, n, p/100) for i in range(3)]), 3))\n",
    "print(round(1 - sum([f(i, n, p/100) for i in range(2)]), 3))"
   ]
  },
  {
   "cell_type": "markdown",
   "metadata": {},
   "source": [
    "# Question  14\n",
    "\n",
    "# Day 4: Geometric Distribution I\n",
    "\n",
    "**Objective**\n",
    "\n",
    "In this challenge, we learn about geometric distributions. Check out the Tutorial tab for learning materials!\n",
    "\n",
    "**Task**\n",
    "The probability that a machine produces a defective product is $\\frac{1}{3}$ . What is the probability that the $1^{st}$ defect is found during the $5^{st}$ inspection?\n",
    "\n",
    "**Input Format**\n",
    "\n",
    "The first line contains the respective space-separated numerator and denominator for the probability of a defect, and the second line contains the inspection we want the probability of being the first defect for:\n",
    "\n",
    "1 3<br>\n",
    "5\n",
    "\n",
    "If you do not wish to read this information from stdin, you can hard-code it into your program.\n",
    "\n",
    "**Output Format**\n",
    "\n",
    "Print a single line denoting the answer, rounded to a scale of 3 decimal places (i.e.,1.243 format)."
   ]
  },
  {
   "cell_type": "code",
   "execution_count": 5,
   "metadata": {},
   "outputs": [
    {
     "name": "stdout",
     "output_type": "stream",
     "text": [
      "1 3\n",
      "5\n",
      "0.066\n"
     ]
    }
   ],
   "source": [
    "num,den = list( map( float, input().strip().split(\" \") ) )\n",
    "d = int(input())\n",
    "\n",
    "p = num / den\n",
    "q = 1- p\n",
    "\n",
    "print(round(q**(n - 1) * p, 3))\n"
   ]
  },
  {
   "cell_type": "markdown",
   "metadata": {},
   "source": [
    "# Question  15\n",
    "\n",
    "# Day 4: Geometric Distribution II\n",
    "\n",
    "\n",
    "**Objective**\n",
    "\n",
    "In this challenge, we go further with geometric distributions. We recommend reviewing the Geometric Distribution tutorial before attempting this challenge.\n",
    "\n",
    "**Task**\n",
    "The probability that a machine produces a defective product is $\\frac{1}{3}$ . What is the probability that the $1^{st}$ defect is found during the $5$ inspection?\n",
    "\n",
    "**Input Format**\n",
    "\n",
    "The first line contains the respective space-separated numerator and denominator for the probability of a defect, and the second line contains the inspection we want the probability of being the first defect for:\n",
    "\n",
    "1 3<br>\n",
    "5\n",
    "\n",
    "If you do not wish to read this information from stdin, you can hard-code it into your program.\n",
    "\n",
    "**Output Format**\n",
    "\n",
    "Print a single line denoting the answer, rounded to a scale of 3 decimal places (i.e.,1.243 format)."
   ]
  },
  {
   "cell_type": "code",
   "execution_count": 7,
   "metadata": {},
   "outputs": [
    {
     "name": "stdout",
     "output_type": "stream",
     "text": [
      "1 3\n",
      "5\n",
      "0.868\n"
     ]
    }
   ],
   "source": [
    "frac=input().split(' ')\n",
    "n=int(input())\n",
    "p=int(frac[0])/int(frac[1])\n",
    "q=1-p\n",
    "prob=1-q**n\n",
    "print(round(prob,3))"
   ]
  },
  {
   "cell_type": "markdown",
   "metadata": {},
   "source": [
    "# Question  16\n",
    "\n",
    "# Day 5: Poisson Distribution I\n",
    "\n",
    "\n",
    "**Objective**\n",
    "\n",
    "In this challenge, we learn about Poisson distributions. Check out the Tutorial tab for learning materials!\n",
    "\n",
    "**Task**\n",
    "\n",
    "A random variable, X, follows Poisson distribution with mean of 2.5. Find the probability with which the random variable X is equal to 5.\n",
    "\n",
    "**Input Format**\n",
    "\n",
    "The first line contains X's mean. The second line contains the value we want the probability for:\n",
    "\n",
    "2.5<br>\n",
    "5\n",
    "\n",
    "If you do not wish to read this information from stdin, you can hard-code it into your program.\n",
    "\n",
    "**Output Format**\n",
    "\n",
    "Print a single line denoting the answer, rounded to a scale of 3 decimal places (i.e.,1.243 format)."
   ]
  },
  {
   "cell_type": "code",
   "execution_count": 9,
   "metadata": {},
   "outputs": [
    {
     "name": "stdout",
     "output_type": "stream",
     "text": [
      "2.5\n",
      "5\n",
      "0.067\n"
     ]
    }
   ],
   "source": [
    "from math import factorial, exp\n",
    "from fractions import Fraction\n",
    "def Poisson_dis(X , miu):\n",
    "    ans = (( miu**X ) * exp(-miu))/factorial(X)\n",
    "    return ans\n",
    "\n",
    "miu = float(input())\n",
    "X  = int(input())\n",
    "print(round(Poisson_dis(X , miu) , 3))"
   ]
  },
  {
   "cell_type": "markdown",
   "metadata": {},
   "source": [
    "# Question  17\n",
    "\n",
    "# Day 5: Poisson Distribution II\n",
    "\n",
    "\n",
    "**Objective**\n",
    "\n",
    "In this challenge, we go further with Poisson distributions. We recommend reviewing the previous challenge's Tutorial before attempting this problem.\n",
    "\n",
    "**Task**\n",
    "\n",
    "The manager of a industrial plant is planning to buy a machine of either type A or B type . For each day’s operation:\n",
    "\n",
    "The number of repairs, X, that machine A needs is a Poisson random variable with mean 0.88. The daily cost of operating A is $C_A$ = 160+40$X^2$.\n",
    "The number of repairs, ,Y that machine B needs is a Poisson random variable with mean 1.55 . The daily cost of operating B is $C_B$ = 128 + $Y^2$.\n",
    "Assume that the repairs take a negligible amount of time and the machines are maintained nightly to ensure that they operate like new at the start of each day. Find and print the expected daily cost for each machine.\n",
    "\n",
    "**Input Format**\n",
    "\n",
    "A single line comprised of 2 space-separated values denoting the respective means for A and B:\n",
    "\n",
    "0.88   1.5<br>\n",
    "\n",
    "If you do not wish to read this information from stdin, you can hard-code it into your program.\n",
    "\n",
    "**Output Format**\n",
    "\n",
    "Print a single line denoting the answer, rounded to a scale of 3 decimal places (i.e.,1.243 format).\n",
    "\n",
    "Result:\n",
    "\n",
    "E(CA) = E(160+40X^2) = 160 + 40 E(X)^2 <br>\n",
    "Var(X) = E(X^2)-(E(X))^2<br>\n",
    "E(X^2) = Var(X)+(E(X))^2\n"
   ]
  },
  {
   "cell_type": "code",
   "execution_count": 10,
   "metadata": {},
   "outputs": [
    {
     "name": "stdout",
     "output_type": "stream",
     "text": [
      "226.176\n",
      "286.1\n"
     ]
    }
   ],
   "source": [
    "from math import factorial,exp\n",
    "\n",
    "A = 0.88\n",
    "B = 1.55\n",
    "\n",
    "CA = 160+40*(A**2+A)\n",
    "CB = 128+40*(B**2+B)\n",
    "\n",
    "print(round(CA,3))\n",
    "print(round(CB,3))"
   ]
  },
  {
   "cell_type": "markdown",
   "metadata": {},
   "source": [
    "# Question  18\n",
    "\n",
    "# Day 5: Normal Distribution I\n",
    "\n",
    "\n",
    "\n",
    "\n",
    "**Objective**\n",
    "\n",
    "In this challenge, we learn about normal distributions. Check out the Tutorial tab for learning materials!\n",
    "\n",
    "**Task**\n",
    "\n",
    "In a certain plant, the time taken to assemble a car is a random variable,X , having a normal distribution with a mean of 20 hours and a standard deviation of 2 hours. What is the probability that a car can be assembled at this plant in:\n",
    "\n",
    "Less than 19.5 hours?<br>\n",
    "Between 20 and 22 hours?<br>\n",
    "\n",
    "**Input Format**\n",
    "\n",
    "There are 3 lines of input (shown below):\n",
    "\n",
    "20 2<br>\n",
    "19.5<br>\n",
    "20 22<br>\n",
    "\n",
    "The first line contains 2 space-separated values denoting the respective mean and standard deviation for X. The second line contains the number associated with question 1. The third line contains 2 space-separated values describing the respective lower and upper range boundaries for question .\n",
    "\n",
    "If you do not wish to read this information from stdin, you can hard-code it into your program.\n",
    "\n",
    "**Output Format**\n",
    "\n",
    "There are two lines of output. Your answers must be rounded to a scale of  decimal places (i.e., 123 format):\n",
    "\n",
    "1. On the first line, print the answer to question 1 (i.e., the probability that a car can be assembled in less than 19.5 hours).\n",
    "2. On the second line, print the answer to question 2 (i.e., the probability that a car can be assembled in between 20 to 22 hours)."
   ]
  },
  {
   "cell_type": "code",
   "execution_count": 11,
   "metadata": {},
   "outputs": [
    {
     "name": "stdout",
     "output_type": "stream",
     "text": [
      "0.401\n",
      "0.341\n"
     ]
    }
   ],
   "source": [
    "from math import sqrt,erf\n",
    "mu = 20\n",
    "std = 2\n",
    "\n",
    "x_test1 = 19.5\n",
    "\n",
    "x_testA = 20\n",
    "x_testB = 22\n",
    "\n",
    "cdf = lambda x: 0.5 * (1 + erf((x - mu) / (std * (2 ** 0.5))))\n",
    "\n",
    "print(round(0.5*(1+erf((x_test1-mu)/(sqrt(2)*std))),3))\n",
    "print(round(cdf(22) - cdf(20), 3))\n"
   ]
  },
  {
   "cell_type": "markdown",
   "metadata": {},
   "source": [
    "# Question  19\n",
    "\n",
    "# Day 5: Normal Distribution II\n",
    "\n",
    "The final grades for a Physics exam taken by a large group of students have a mean of $M$ = 70  and a standard deviation of $sigma$ = 10. If we can approximate the distribution of these grades by a normal distribution, what percentage of the students:\n",
    "\n",
    "\n",
    "\n",
    "**Input Format**\n",
    "\n",
    "There are 3 lines of input (shown below):\n",
    "\n",
    "70 10<br>\n",
    "80<br>\n",
    "60<br>\n",
    "\n",
    "**Output Format**\n",
    "\n",
    "There are three lines of output. Your answers must be rounded to a scale of 2 decimal places (i.e.,1.23  format):\n",
    "\n",
    "1. On the first line, print the answer to question 1 (i.e., the percentage of students having grade > 80).\n",
    "2. On the second line, print the answer to question  (i.e., the percentage of students having grade >= 80).\n",
    "3. On the third line, print the answer to question  (i.e., the percentage of students having grade < 80)."
   ]
  },
  {
   "cell_type": "code",
   "execution_count": 16,
   "metadata": {},
   "outputs": [
    {
     "name": "stdout",
     "output_type": "stream",
     "text": [
      "70 10\n",
      "80\n",
      "60\n",
      "15.87\n",
      "84.13\n",
      "15.87\n"
     ]
    }
   ],
   "source": [
    "import math\n",
    "def Cum(mean, std, value):\n",
    "    return 0.5 * (1 + math.erf((value - mean) / (std * (2 ** 0.5))))\n",
    "\n",
    "# Read data\n",
    "initial_values = list(map(float, input().split()))\n",
    "mean = initial_values[0]\n",
    "std = initial_values[1]\n",
    "val_first_question = float(input())\n",
    "val_sec_third_question = float(input())\n",
    "\n",
    "print (round(100 - (Cum(mean, std, val_first_question) * 100), 2))\n",
    "print (round(100 - (Cum(mean, std, val_sec_third_question) * 100), 2))\n",
    "print (round(Cum(mean, std, val_sec_third_question) * 100, 2))"
   ]
  },
  {
   "cell_type": "markdown",
   "metadata": {},
   "source": [
    "# Question  20"
   ]
  },
  {
   "cell_type": "markdown",
   "metadata": {},
   "source": [
    "# Day 6: The Central Limit Theorem I\n",
    "\n",
    "- Max load Of elevator =  9800 pounds.\n",
    "- cargo containing = 49 boxes\n",
    "- μ of Boxes Weights = 205 pounds\n",
    "- a standard deviation of of Boxes Weights σ = 15 pounds.\n",
    "- what is the probability that all 49 boxes can be safely loaded into the freight elevator and transported?"
   ]
  },
  {
   "cell_type": "code",
   "execution_count": 17,
   "metadata": {},
   "outputs": [
    {
     "name": "stdout",
     "output_type": "stream",
     "text": [
      "0.0098\n"
     ]
    }
   ],
   "source": [
    "import math\n",
    "\n",
    "# a method that return probability according to CLT:-\n",
    "def clf(x, mean, sd):\n",
    "# math.erf(x) --> A float value, representing the error function of a number\n",
    "# z = x - mean / σ * √n\n",
    "    return 0.5 * (1 + math.erf((x - mean) / (sd * (2 ** 0.5))))\n",
    "\n",
    "max_pounds = 9800\n",
    "n = 49\n",
    "mean_pop = 205\n",
    "sd_pop = 15\n",
    "\n",
    "mean_sample = mean_pop * n\n",
    "sd_sample = math.sqrt(n) * sd_pop\n",
    "\n",
    "print(round(clf(max_pounds, mean_sample, sd_sample), 4))"
   ]
  },
  {
   "cell_type": "markdown",
   "metadata": {},
   "source": [
    "# Question  21\n",
    "\n",
    "# Day 6: The Central Limit Theorem II"
   ]
  },
  {
   "cell_type": "code",
   "execution_count": 18,
   "metadata": {},
   "outputs": [
    {
     "name": "stdout",
     "output_type": "stream",
     "text": [
      "0.6915\n"
     ]
    }
   ],
   "source": [
    "import math\n",
    "\n",
    "def clf(x, mean, sd):\n",
    "    return 0.5 * (1 + math.erf((x - mean) / (sd * (2 ** 0.5))))\n",
    "\n",
    "\n",
    "nb_tickets = 250\n",
    "nb_students = 100\n",
    "mean = 2.4\n",
    "std = 2.0\n",
    "\n",
    "mean_sample = mean * nb_students\n",
    "sd_sample = std * math.sqrt(nb_students)\n",
    "\n",
    "print(round(clf(nb_tickets, mean_sample, sd_sample), 4))"
   ]
  },
  {
   "cell_type": "markdown",
   "metadata": {},
   "source": [
    "# Question  22\n",
    "\n",
    "# Day 6: The Central Limit Theorem III"
   ]
  },
  {
   "cell_type": "code",
   "execution_count": 19,
   "metadata": {},
   "outputs": [
    {
     "name": "stdout",
     "output_type": "stream",
     "text": [
      "100\n",
      "500\n",
      "80\n",
      "0.95\n",
      "1.96\n",
      "484.32\n",
      "515.68\n"
     ]
    }
   ],
   "source": [
    "import math\n",
    "\n",
    "# Set data\n",
    "n = float(input())\n",
    "mean = float(input())\n",
    "std = float(input())\n",
    "percent_ci = float(input())\n",
    "value_ci = float(input())\n",
    "\n",
    "# Formula CI\n",
    "ci = value_ci * (std / math.sqrt(n))\n",
    "\n",
    "# Gets the result and show on the screen\n",
    "print(round(mean - ci, 2))\n",
    "print(round(mean + ci, 2))"
   ]
  },
  {
   "cell_type": "markdown",
   "metadata": {},
   "source": [
    "# Question  23\n",
    "\n",
    "# Day 7: Pearson Correlation Coefficient I\n",
    "\n"
   ]
  },
  {
   "cell_type": "code",
   "execution_count": 20,
   "metadata": {},
   "outputs": [
    {
     "name": "stdout",
     "output_type": "stream",
     "text": [
      "10\n",
      "10 9.8 8 7.8 7.7 7 6 5 4 2\n",
      "200 44 32 24 22 17 15 12 8 4\n",
      "0.612\n"
     ]
    }
   ],
   "source": [
    "import statistics as st\n",
    "\n",
    "# method to compute Pearson correlation coefficient\n",
    "def correlation_coefficient(n, dt_x, dt_y):\n",
    "    mean_x = st.mean(dt_x)\n",
    "    mean_y = st.mean(dt_y)\n",
    "    std_x = st.pstdev(dt_x)\n",
    "    std_y = st.pstdev(dt_y)\n",
    "    c = 0\n",
    "    for i in range(n):\n",
    "        c = c + (dt_x[i] - mean_x) * (dt_y[i] - mean_y)\n",
    "    return c / (n * std_x * std_y)\n",
    "\n",
    "# Set data\n",
    "n = int(float(input()))\n",
    "data_set_x = list(map(float, input().split()))\n",
    "data_set_y = list(map(float, input().split()))\n",
    "\n",
    "print (round(correlation_coefficient(n, data_set_x, data_set_y), 3))"
   ]
  },
  {
   "cell_type": "markdown",
   "metadata": {},
   "source": [
    "# Question  24\n",
    "\n",
    "# Day 7: Spearman's Rank Correlation Coefficient\n",
    "\n"
   ]
  },
  {
   "cell_type": "code",
   "execution_count": 21,
   "metadata": {},
   "outputs": [
    {
     "name": "stdout",
     "output_type": "stream",
     "text": [
      "10\n",
      "10 9.8 8 7.8 7.7 1.7 6 5 1.4 2\n",
      "200 44 32 24 22 17 15 12 8 4\n",
      "0.903\n"
     ]
    }
   ],
   "source": [
    "def get_rank(X, n):\n",
    "    x_rank = dict((x, i+1) for i, x in enumerate(sorted(set(X))))\n",
    "    return [x_rank[x] for x in X]\n",
    "n = int(input())\n",
    "X = list(map(float , input().split()))\n",
    "xr =    get_rank(X , n)\n",
    "\n",
    "Y = list(map(float , input().split()))\n",
    "yr =    get_rank(Y , n)\n",
    "d2 = sum([(i-j)**2 for i,j in zip(xr , yr)])\n",
    "ans = 1 - (6 * d2) / (n * (n*n - 1))\n",
    "print(round(ans , 3))"
   ]
  },
  {
   "cell_type": "markdown",
   "metadata": {},
   "source": [
    "# Question  25\n",
    "\n",
    "# Day 8: Least Square Regression Line"
   ]
  },
  {
   "cell_type": "code",
   "execution_count": 22,
   "metadata": {},
   "outputs": [
    {
     "name": "stdout",
     "output_type": "stream",
     "text": [
      "95 85\n",
      "85 95\n",
      "80 70\n",
      "70 65\n",
      "60 70\n",
      "78.288\n"
     ]
    }
   ],
   "source": [
    "n = 5\n",
    "xy = [map(int, input().split()) for _ in range(n)]\n",
    "sx, sy, sx2, sxy = map(sum, zip(*[(x, y, x**2, x * y) for x, y in xy]))\n",
    "b = (n * sxy - sx * sy) / (n * sx2 - sx**2)\n",
    "a = (sy / n) - b * (sx / n)\n",
    "print(round(a + b * 80 , 3))"
   ]
  },
  {
   "cell_type": "markdown",
   "metadata": {},
   "source": [
    "# Question  26\n",
    "\n",
    "# Day 8: Pearson Correlation Coefficient II\n",
    "\n"
   ]
  },
  {
   "cell_type": "markdown",
   "metadata": {},
   "source": [
    "    - **Regression X**:\n",
    "        - 3x + 4y + 8 = 0\n",
    "        - -4y = 3x + 8\n",
    "        - -y = 3x/4 + 8/4\n",
    "        - -y = 3x/4 + 4 (reverse signal)\n",
    "        -  y = -3x/4 - 4\n",
    "        -  bx = -3/4\n",
    "    - **regression Y**:\n",
    "        -  4x + 3y + 7 = 0\n",
    "        - -4y = 3y + 7\n",
    "        - -x = 3x/4 + 7/4 (reverse signal)\n",
    "        -  y =  -3x/4 - 7/4\n",
    "        - by = -3/4\n",
    "    - r² = bx * by\n",
    "    - r² = -3/4 * -3/4\n",
    "    - r² = 9/16\n",
    "    - r +/- 3/4\n",
    "    - if bx = by then\n",
    "    - **r = -3/4**"
   ]
  },
  {
   "cell_type": "markdown",
   "metadata": {},
   "source": [
    "# Question  27\n",
    "\n",
    "# Day 9: Multiple Linear Regression\n"
   ]
  },
  {
   "cell_type": "code",
   "execution_count": 23,
   "metadata": {},
   "outputs": [
    {
     "name": "stdout",
     "output_type": "stream",
     "text": [
      "2 7\n",
      "0.18 0.89 109.85\n",
      "1.0 0.26 155.72\n",
      "0.92 0.11 137.66\n",
      "0.07 0.37 76.17\n",
      "0.85 0.16 139.75\n",
      "0.99 0.41 162.6\n",
      "0.87 0.47 151.77\n",
      "4\n",
      "0.49 0.18\n",
      "0.57 0.83\n",
      "0.56 0.64\n",
      "0.76 0.18\n",
      "105.21\n",
      "142.67\n",
      "132.94\n",
      "129.7\n"
     ]
    }
   ],
   "source": [
    "from sklearn import linear_model\n",
    "\n",
    "# Set data\n",
    "m, n = map(int, input().split())\n",
    "X, Y = [], []\n",
    "\n",
    "# Get the parameters X and Y for discovery the variables a and b\n",
    "for i in range(n):\n",
    "    x = [0]\n",
    "    elements = list(map(float, input().split()))\n",
    "    for j in range(len(elements)):\n",
    "        if j < m:\n",
    "            x.append(elements[j])\n",
    "        else:\n",
    "            Y.append(elements[j])\n",
    "    X.append(x)\n",
    "\n",
    "# model LinearRegression\n",
    "model_linear = linear_model.LinearRegression()\n",
    "model_linear.fit(X, Y)\n",
    "a = model_linear.intercept_\n",
    "b = model_linear.coef_\n",
    "\n",
    "# Get the parameters X for discovery the Y\n",
    "q = int(input())\n",
    "new_X = []\n",
    "for i in range(q):\n",
    "    x = [0]\n",
    "    elements = list(map(float, input().split()))\n",
    "    for j in range(len(elements)):\n",
    "        x.append(elements[j])\n",
    "    new_X.append(x)\n",
    "\n",
    "result = model_linear.predict(new_X)\n",
    "for i in range(len(result)):\n",
    "    print(round(result[i],2))\n"
   ]
  }
 ],
 "metadata": {
  "kernelspec": {
   "display_name": "Python 3",
   "language": "python",
   "name": "python3"
  },
  "language_info": {
   "codemirror_mode": {
    "name": "ipython",
    "version": 3
   },
   "file_extension": ".py",
   "mimetype": "text/x-python",
   "name": "python",
   "nbconvert_exporter": "python",
   "pygments_lexer": "ipython3",
   "version": "3.7.4"
  }
 },
 "nbformat": 4,
 "nbformat_minor": 2
}
